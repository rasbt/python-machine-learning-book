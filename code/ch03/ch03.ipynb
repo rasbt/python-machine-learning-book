{
 "cells": [
  {
   "cell_type": "markdown",
   "metadata": {
    "slideshow": {
     "slide_type": "skip"
    }
   },
   "source": [
    "Copyright (c) 2015, 2016\n",
    "[Sebastian Raschka](http://sebastianraschka.com/)\n",
    "[Li-Yi Wei](http://liyiwei.org/)\n",
    "\n",
    "https://github.com/1iyiwei/pyml\n",
    "\n",
    "[MIT License](https://github.com/1iyiwei/pyml/blob/master/LICENSE.txt)"
   ]
  },
  {
   "cell_type": "markdown",
   "metadata": {
    "slideshow": {
     "slide_type": "skip"
    }
   },
   "source": [
    "# Python Machine Learning - Code Examples"
   ]
  },
  {
   "cell_type": "markdown",
   "metadata": {
    "slideshow": {
     "slide_type": "slide"
    }
   },
   "source": [
    "# Chapter 3 - A Tour of Machine Learning Classifiers\n",
    "\n",
    "* Logistic regression\n",
    " * Binary and multiple classes\n",
    "* Support vector machine\n",
    " * Kernel trick\n",
    "* Decision tree\n",
    " * Random forest for ensemble learning\n",
    "* K nearest neighbors"
   ]
  },
  {
   "cell_type": "markdown",
   "metadata": {
    "slideshow": {
     "slide_type": "skip"
    }
   },
   "source": [
    "Note that the optional watermark extension is a small IPython notebook plugin that I developed to make the code reproducible. You can just skip the following line(s)."
   ]
  },
  {
   "cell_type": "code",
   "execution_count": 1,
   "metadata": {
    "collapsed": false,
    "slideshow": {
     "slide_type": "skip"
    }
   },
   "outputs": [
    {
     "name": "stdout",
     "output_type": "stream",
     "text": [
      "last updated: 2016-10-01 \n",
      "\n",
      "CPython 3.5.2\n",
      "IPython 4.2.0\n",
      "\n",
      "numpy 1.11.1\n",
      "pandas 0.18.1\n",
      "matplotlib 1.5.1\n",
      "sklearn 0.17.1\n"
     ]
    }
   ],
   "source": [
    "%load_ext watermark\n",
    "%watermark -a '' -u -d -v -p numpy,pandas,matplotlib,sklearn"
   ]
  },
  {
   "cell_type": "markdown",
   "metadata": {
    "collapsed": true,
    "slideshow": {
     "slide_type": "skip"
    }
   },
   "source": [
    "*The use of `watermark` is optional. You can install this IPython extension via \"`pip install watermark`\". For more information, please see: https://github.com/rasbt/watermark.*"
   ]
  },
  {
   "cell_type": "markdown",
   "metadata": {
    "slideshow": {
     "slide_type": "subslide"
    }
   },
   "source": [
    "### Overview"
   ]
  },
  {
   "cell_type": "markdown",
   "metadata": {
    "slideshow": {
     "slide_type": "fragment"
    }
   },
   "source": [
    "- [Choosing a classification algorithm](#Choosing-a-classification-algorithm)\n",
    "- [First steps with scikit-learn](#First-steps-with-scikit-learn)\n",
    "    - [Training a perceptron via scikit-learn](#Training-a-perceptron-via-scikit-learn)\n",
    "- [Modeling class probabilities via logistic regression](#Modeling-class-probabilities-via-logistic-regression)\n",
    "    - [Logistic regression intuition and conditional probabilities](#Logistic-regression-intuition-and-conditional-probabilities)\n",
    "    - [Learning the weights of the logistic cost function](#Learning-the-weights-of-the-logistic-cost-function)\n",
    "    - [Handling multiple classes](#Handling-multiple-classes)\n",
    "    - [Training a logistic regression model with scikit-learn](#Training-a-logistic-regression-model-with-scikit-learn)\n",
    "    - [Tackling overfitting via regularization](#Tackling-overfitting-via-regularization)\n",
    "- [Maximum margin classification with support vector machines](#Maximum-margin-classification-with-support-vector-machines)\n",
    "    - [Maximum margin intuition](#Maximum-margin-intuition)\n",
    "    - [Dealing with the nonlinearly separable case using slack variables](#Dealing-with-the-nonlinearly-separable-case-using-slack-variables)\n",
    "    - [Alternative implementations in scikit-learn](#Alternative-implementations-in-scikit-learn)\n",
    "- [Solving nonlinear problems using a kernel SVM](#Solving-nonlinear-problems-using-a-kernel-SVM)\n",
    "    - [Using the kernel trick to find separating hyperplanes in higher dimensional space](#Using-the-kernel-trick-to-find-separating-hyperplanes-in-higher-dimensional-space)\n",
    "- [Decision tree learning](#Decision-tree-learning)\n",
    "    - [Maximizing information gain – getting the most bang for the buck](#Maximizing-information-gain-–-getting-the-most-bang-for-the-buck)\n",
    "    - [Building a decision tree](#Building-a-decision-tree)\n",
    "    - [Combining weak to strong learners via random forests](#Combining-weak-to-strong-learners-via-random-forests)\n",
    "- [K-nearest neighbors – a lazy learning algorithm](#K-nearest-neighbors-–-a-lazy-learning-algorithm)\n",
    "- [Summary](#Summary)"
   ]
  },
  {
   "cell_type": "code",
   "execution_count": 2,
   "metadata": {
    "collapsed": true,
    "slideshow": {
     "slide_type": "skip"
    }
   },
   "outputs": [],
   "source": [
    "from IPython.display import Image\n",
    "%matplotlib inline"
   ]
  },
  {
   "cell_type": "code",
   "execution_count": 3,
   "metadata": {
    "collapsed": true
   },
   "outputs": [],
   "source": [
    "# Added version check for recent scikit-learn 0.18 checks\n",
    "from distutils.version import LooseVersion as Version\n",
    "from sklearn import __version__ as sklearn_version"
   ]
  },
  {
   "cell_type": "markdown",
   "metadata": {
    "slideshow": {
     "slide_type": "slide"
    }
   },
   "source": [
    "# Choosing a classification algorithm"
   ]
  },
  {
   "cell_type": "markdown",
   "metadata": {
    "slideshow": {
     "slide_type": "fragment"
    }
   },
   "source": [
    "There is no free lunch; different algorithms are suitable for different data and applications.\n",
    "\n",
    "<img src=\"./images/01_09.png\" width=100%>"
   ]
  },
  {
   "cell_type": "markdown",
   "metadata": {
    "slideshow": {
     "slide_type": "slide"
    }
   },
   "source": [
    "# First steps with scikit-learn\n",
    "\n",
    "In the linear perceptron part, we wrote the models from ground up.\n",
    "* too much coding\n",
    "\n",
    "Existing machine learning libraries\n",
    "* scikit-learn\n",
    "* torch7, caffe, tensor-flow, theano, etc.\n",
    "\n",
    "Scikit-learn\n",
    "* will use for this course\n",
    "* not as powerful as other deep learning libraries\n",
    "* easier to use/install\n",
    "* many library routines and data-sets to use, as exemplified below for main steps for a machine learning pipeline."
   ]
  },
  {
   "cell_type": "markdown",
   "metadata": {
    "slideshow": {
     "slide_type": "fragment"
    }
   },
   "source": [
    "## <a href=\"https://en.wikipedia.org/wiki/Iris_flower_data_set\">Iris dataset</a>\n",
    "\n",
    "Let's use this dataset for comparing machine learning methods\n",
    "\n",
    "<table style=\"width:100% border=0\">\n",
    "<tr>\n",
    "<td>\n",
    "<img src =\"https://upload.wikimedia.org/wikipedia/commons/thumb/5/56/Kosaciec_szczecinkowaty_Iris_setosa.jpg/220px-Kosaciec_szczecinkowaty_Iris_setosa.jpg\">\n",
    "</td>\n",
    "\n",
    "<td>\n",
    "<img src=\"https://upload.wikimedia.org/wikipedia/commons/thumb/4/41/Iris_versicolor_3.jpg/220px-Iris_versicolor_3.jpg\">\n",
    "</td>\n",
    "\n",
    "<td>\n",
    "<img src=\"https://upload.wikimedia.org/wikipedia/commons/thumb/9/9f/Iris_virginica.jpg/220px-Iris_virginica.jpg\">\n",
    "</td>\n",
    "</tr>\n",
    "\n",
    "<tr style=\"text-align=center\">\n",
    "<td>\n",
    "Setosa\n",
    "</td>\n",
    "<td>\n",
    "Versicolor\n",
    "</td>\n",
    "<td>\n",
    "Virginica\n",
    "</td>\n",
    "</tr>\n",
    "</table>\n",
    "\n",
    "Loading the Iris dataset from scikit-learn. "
   ]
  },
  {
   "cell_type": "code",
   "execution_count": 4,
   "metadata": {
    "collapsed": false,
    "slideshow": {
     "slide_type": "fragment"
    }
   },
   "outputs": [
    {
     "name": "stdout",
     "output_type": "stream",
     "text": [
      "Data set size: (150, 4)\n",
      "Class labels: [0 1 2]\n"
     ]
    }
   ],
   "source": [
    "from sklearn import datasets\n",
    "import numpy as np\n",
    "\n",
    "iris = datasets.load_iris()\n",
    "\n",
    "print('Data set size: ' + str(iris.data.shape))\n",
    "\n",
    "X = iris.data[:, [2, 3]]\n",
    "y = iris.target\n",
    "\n",
    "print('Class labels:', np.unique(y))"
   ]
  },
  {
   "cell_type": "code",
   "execution_count": 5,
   "metadata": {
    "collapsed": false,
    "slideshow": {
     "slide_type": "fragment"
    }
   },
   "outputs": [
    {
     "data": {
      "text/html": [
       "<div>\n",
       "<table border=\"1\" class=\"dataframe\">\n",
       "  <thead>\n",
       "    <tr style=\"text-align: right;\">\n",
       "      <th></th>\n",
       "      <th>0</th>\n",
       "      <th>1</th>\n",
       "      <th>2</th>\n",
       "      <th>3</th>\n",
       "    </tr>\n",
       "  </thead>\n",
       "  <tbody>\n",
       "    <tr>\n",
       "      <th>145</th>\n",
       "      <td>6.7</td>\n",
       "      <td>3.0</td>\n",
       "      <td>5.2</td>\n",
       "      <td>2.3</td>\n",
       "    </tr>\n",
       "    <tr>\n",
       "      <th>146</th>\n",
       "      <td>6.3</td>\n",
       "      <td>2.5</td>\n",
       "      <td>5.0</td>\n",
       "      <td>1.9</td>\n",
       "    </tr>\n",
       "    <tr>\n",
       "      <th>147</th>\n",
       "      <td>6.5</td>\n",
       "      <td>3.0</td>\n",
       "      <td>5.2</td>\n",
       "      <td>2.0</td>\n",
       "    </tr>\n",
       "    <tr>\n",
       "      <th>148</th>\n",
       "      <td>6.2</td>\n",
       "      <td>3.4</td>\n",
       "      <td>5.4</td>\n",
       "      <td>2.3</td>\n",
       "    </tr>\n",
       "    <tr>\n",
       "      <th>149</th>\n",
       "      <td>5.9</td>\n",
       "      <td>3.0</td>\n",
       "      <td>5.1</td>\n",
       "      <td>1.8</td>\n",
       "    </tr>\n",
       "  </tbody>\n",
       "</table>\n",
       "</div>"
      ],
      "text/plain": [
       "       0    1    2    3\n",
       "145  6.7  3.0  5.2  2.3\n",
       "146  6.3  2.5  5.0  1.9\n",
       "147  6.5  3.0  5.2  2.0\n",
       "148  6.2  3.4  5.4  2.3\n",
       "149  5.9  3.0  5.1  1.8"
      ]
     },
     "execution_count": 5,
     "metadata": {},
     "output_type": "execute_result"
    }
   ],
   "source": [
    "import pandas as pd\n",
    "df = pd.DataFrame(iris.data)\n",
    "df.tail()"
   ]
  },
  {
   "cell_type": "markdown",
   "metadata": {
    "slideshow": {
     "slide_type": "fragment"
    }
   },
   "source": [
    "<img src = \"./images/01_08.png\">\n",
    "\n",
    "Here, the third column represents the petal length, and the fourth column the petal width of the flower samples. \n",
    "\n",
    "The classes are already converted to integer labels where 0=Iris-Setosa, 1=Iris-Versicolor, 2=Iris-Virginica."
   ]
  },
  {
   "cell_type": "markdown",
   "metadata": {
    "slideshow": {
     "slide_type": "fragment"
    }
   },
   "source": [
    "## Data sets: training versus test\n",
    "\n",
    "Use different data sets for training and testing a model (generalization)"
   ]
  },
  {
   "cell_type": "code",
   "execution_count": 6,
   "metadata": {
    "collapsed": true,
    "slideshow": {
     "slide_type": "fragment"
    }
   },
   "outputs": [],
   "source": [
    "if Version(sklearn_version) < '0.18':\n",
    "    from sklearn.cross_validation import train_test_split\n",
    "else:\n",
    "    from sklearn.model_selection import train_test_split\n",
    "\n",
    "# splitting data into 70% training and 30% test data: \n",
    "X_train, X_test, y_train, y_test = train_test_split(\n",
    "    X, y, test_size=0.3, random_state=0)"
   ]
  },
  {
   "cell_type": "code",
   "execution_count": 7,
   "metadata": {
    "collapsed": false,
    "slideshow": {
     "slide_type": "fragment"
    }
   },
   "outputs": [
    {
     "name": "stdout",
     "output_type": "stream",
     "text": [
      "training: 105, test: 45\n"
     ]
    }
   ],
   "source": [
    "num_training = y_train.shape[0]\n",
    "num_test = y_test.shape[0]\n",
    "print('training: ' + str(num_training) + ', test: ' + str(num_test))"
   ]
  },
  {
   "cell_type": "markdown",
   "metadata": {
    "slideshow": {
     "slide_type": "fragment"
    }
   },
   "source": [
    "## Data scaling\n",
    "\n",
    "It is better to scale the data so that different features/channels have similar mean/std."
   ]
  },
  {
   "cell_type": "code",
   "execution_count": 8,
   "metadata": {
    "collapsed": false,
    "slideshow": {
     "slide_type": "fragment"
    }
   },
   "outputs": [],
   "source": [
    "from sklearn.preprocessing import StandardScaler\n",
    "\n",
    "sc = StandardScaler()\n",
    "sc.fit(X_train)\n",
    "X_train_std = sc.transform(X_train)\n",
    "X_test_std = sc.transform(X_test)"
   ]
  },
  {
   "cell_type": "markdown",
   "metadata": {
    "slideshow": {
     "slide_type": "slide"
    }
   },
   "source": [
    "## Training a perceptron via scikit-learn"
   ]
  },
  {
   "cell_type": "markdown",
   "metadata": {
    "slideshow": {
     "slide_type": "fragment"
    }
   },
   "source": [
    "We learned and coded perceptron in chapter 2.\n",
    "Here we use the scikit-learn library version.\n",
    "\n",
    "The perceptron only handles 2 classes for now.\n",
    "We will discuss how to handle $N > 2$ classes.\n",
    "\n",
    "<img src=\"./images/02_04.png\" width=80%>"
   ]
  },
  {
   "cell_type": "code",
   "execution_count": 9,
   "metadata": {
    "collapsed": false,
    "slideshow": {
     "slide_type": "fragment"
    }
   },
   "outputs": [],
   "source": [
    "from sklearn.linear_model import Perceptron\n",
    "\n",
    "ppn = Perceptron(n_iter=40, eta0=0.1, random_state=0)\n",
    "_ = ppn.fit(X_train_std, y_train)"
   ]
  },
  {
   "cell_type": "code",
   "execution_count": 10,
   "metadata": {
    "collapsed": false,
    "slideshow": {
     "slide_type": "fragment"
    }
   },
   "outputs": [
    {
     "name": "stdout",
     "output_type": "stream",
     "text": [
      "Misclassified samples: 4 out of 45\n"
     ]
    }
   ],
   "source": [
    "y_pred = ppn.predict(X_test_std)\n",
    "print('Misclassified samples: %d out of %d' % ((y_test != y_pred).sum(), y_test.shape[0]))"
   ]
  },
  {
   "cell_type": "code",
   "execution_count": 11,
   "metadata": {
    "collapsed": false,
    "slideshow": {
     "slide_type": "fragment"
    }
   },
   "outputs": [
    {
     "name": "stdout",
     "output_type": "stream",
     "text": [
      "Accuracy: 0.91\n"
     ]
    }
   ],
   "source": [
    "from sklearn.metrics import accuracy_score\n",
    "\n",
    "print('Accuracy: %.2f' % accuracy_score(y_test, y_pred))"
   ]
  },
  {
   "cell_type": "code",
   "execution_count": 12,
   "metadata": {
    "collapsed": false,
    "slideshow": {
     "slide_type": "fragment"
    }
   },
   "outputs": [],
   "source": [
    "from matplotlib.colors import ListedColormap\n",
    "import matplotlib.pyplot as plt\n",
    "import warnings\n",
    "\n",
    "\n",
    "def versiontuple(v):\n",
    "    return tuple(map(int, (v.split(\".\"))))\n",
    "\n",
    "\n",
    "def plot_decision_regions(X, y, classifier, test_idx=None, \n",
    "                          resolution=0.02, xlabel='', ylabel='', title=''):\n",
    "\n",
    "    # setup marker generator and color map\n",
    "    markers = ('s', 'x', 'o', '^', 'v')\n",
    "    colors = ('red', 'blue', 'lightgreen', 'gray', 'cyan')\n",
    "    cmap = ListedColormap(colors[:len(np.unique(y))])\n",
    "\n",
    "    # plot the decision surface\n",
    "    x1_min, x1_max = X[:, 0].min() - 1, X[:, 0].max() + 1\n",
    "    x2_min, x2_max = X[:, 1].min() - 1, X[:, 1].max() + 1\n",
    "    xx1, xx2 = np.meshgrid(np.arange(x1_min, x1_max, resolution),\n",
    "                           np.arange(x2_min, x2_max, resolution))\n",
    "    Z = classifier.predict(np.array([xx1.ravel(), xx2.ravel()]).T)\n",
    "    Z = Z.reshape(xx1.shape)\n",
    "    plt.contourf(xx1, xx2, Z, alpha=0.4, cmap=cmap)\n",
    "    plt.xlim(xx1.min(), xx1.max())\n",
    "    plt.ylim(xx2.min(), xx2.max())\n",
    "\n",
    "    for idx, cl in enumerate(np.unique(y)):\n",
    "        plt.scatter(x=X[y == cl, 0], y=X[y == cl, 1],\n",
    "                    alpha=0.8, c=cmap(idx),\n",
    "                    marker=markers[idx], label=cl)\n",
    "\n",
    "    # highlight test samples\n",
    "    if test_idx:\n",
    "        # plot all samples\n",
    "        if not versiontuple(np.__version__) >= versiontuple('1.9.0'):\n",
    "            X_test, y_test = X[list(test_idx), :], y[list(test_idx)]\n",
    "            warnings.warn('Please update to NumPy 1.9.0 or newer')\n",
    "        else:\n",
    "            X_test, y_test = X[test_idx, :], y[test_idx]\n",
    "\n",
    "        plt.scatter(X_test[:, 0],\n",
    "                    X_test[:, 1],\n",
    "                    c='',\n",
    "                    alpha=1.0,\n",
    "                    linewidths=1,\n",
    "                    marker='o',\n",
    "                    s=55, label='test set')\n",
    "    \n",
    "    plt.title(title)\n",
    "    plt.xlabel(xlabel)\n",
    "    plt.ylabel(ylabel)\n",
    "    plt.legend(loc='upper left')\n",
    "\n",
    "    plt.tight_layout()\n",
    "    plt.show()"
   ]
  },
  {
   "cell_type": "markdown",
   "metadata": {
    "slideshow": {
     "slide_type": "fragment"
    }
   },
   "source": [
    "Training a perceptron model using the standardized training data:"
   ]
  },
  {
   "cell_type": "code",
   "execution_count": 13,
   "metadata": {
    "collapsed": false,
    "slideshow": {
     "slide_type": "fragment"
    }
   },
   "outputs": [
    {
     "data": {
      "image/png": "[encoded data removed]",
      "text/plain": [
       "<matplotlib.figure.Figure at 0x2b529ee1438>"
      ]
     },
     "metadata": {},
     "output_type": "display_data"
    }
   ],
   "source": [
    "X_combined_std = np.vstack((X_train_std, X_test_std))\n",
    "y_combined = np.hstack((y_train, y_test))\n",
    "\n",
    "test_idx = range(X_train_std.shape[0], X_combined_std.shape[0])\n",
    "\n",
    "plot_decision_regions(X=X_combined_std, y=y_combined,\n",
    "                      classifier=ppn, test_idx=test_idx, \n",
    "                      xlabel='petal length [standardized]', \n",
    "                      ylabel='petal width [standardized]')"
   ]
  },
  {
   "cell_type": "markdown",
   "metadata": {
    "slideshow": {
     "slide_type": "slide"
    }
   },
   "source": [
    "# Modeling class probabilities via logistic regression\n",
    "\n",
    "* $\\mathbf{x}$: input\n",
    "* $\\mathbf{w}$: weights\n",
    "* $z = \\mathbf{w}^T \\mathbf{x}$\n",
    "* $\\phi(z)$: transfer function\n",
    "* $y$: predicted class"
   ]
  },
  {
   "cell_type": "markdown",
   "metadata": {
    "slideshow": {
     "slide_type": "fragment"
    }
   },
   "source": [
    "## Perceptron\n",
    "$\n",
    "y = \\phi(z) = \n",
    "\\begin{cases}\n",
    "1 \\; z \\geq 0 \\\\\n",
    "-1 \\; z < 0\n",
    "\\end{cases}\n",
    "$"
   ]
  },
  {
   "cell_type": "markdown",
   "metadata": {
    "slideshow": {
     "slide_type": "fragment"
    }
   },
   "source": [
    "## Adaline\n",
    "$\n",
    "\\begin{align}\n",
    "\\phi(z) &= z \\\\\n",
    "y &=\n",
    "\\begin{cases}\n",
    "1 \\; \\phi(z) \\geq 0 \\\\\n",
    "-1 \\; \\phi(z) < 0\n",
    "\\end{cases}\n",
    "\\end{align}\n",
    "$"
   ]
  },
  {
   "cell_type": "markdown",
   "metadata": {
    "collapsed": true,
    "slideshow": {
     "slide_type": "fragment"
    }
   },
   "source": [
    "## Logistic regression\n",
    "$\n",
    "\\begin{align}\n",
    "\\phi(z) &= \\frac{1}{1 + e^{-z}} \\\\\n",
    "y &=\n",
    "\\begin{cases}\n",
    "1 \\; \\phi(z) \\geq 0.5 \\\\\n",
    "0 \\; \\phi(z) < 0.5\n",
    "\\end{cases}\n",
    "\\end{align}\n",
    "$\n",
    "\n",
    "Note: this is actually classification (discrete output) not regression (continuous output); the naming is historical."
   ]
  },
  {
   "cell_type": "code",
   "execution_count": 14,
   "metadata": {
    "collapsed": false,
    "slideshow": {
     "slide_type": "fragment"
    }
   },
   "outputs": [
    {
     "data": {
      "image/png": "[encoded data removed]",
      "text/plain": [
       "<matplotlib.figure.Figure at 0x2b529fb5470>"
      ]
     },
     "metadata": {},
     "output_type": "display_data"
    }
   ],
   "source": [
    "import matplotlib.pyplot as plt\n",
    "import numpy as np\n",
    "\n",
    "\n",
    "def sigmoid(z):\n",
    "    return 1.0 / (1.0 + np.exp(-z))\n",
    "\n",
    "z = np.arange(-7, 7, 0.1)\n",
    "phi_z = sigmoid(z)\n",
    "\n",
    "plt.plot(z, phi_z)\n",
    "plt.axvline(0.0, color='k')\n",
    "plt.ylim(-0.1, 1.1)\n",
    "plt.xlabel('z')\n",
    "plt.ylabel('$\\phi (z)$')\n",
    "\n",
    "# y axis ticks and gridline\n",
    "plt.yticks([0.0, 0.5, 1.0])\n",
    "ax = plt.gca()\n",
    "ax.yaxis.grid(True)\n",
    "\n",
    "plt.tight_layout()\n",
    "# plt.savefig('./figures/sigmoid.png', dpi=300)\n",
    "plt.show()"
   ]
  },
  {
   "cell_type": "markdown",
   "metadata": {
    "slideshow": {
     "slide_type": "fragment"
    }
   },
   "source": [
    "### Logistic regression intuition and conditional probabilities\n",
    "\n",
    "$\\phi(z) = \\frac{1}{1 + e^{-z}}$: sigmoid function\n",
    "\n",
    "$\\phi(z) \\in [0, 1]$, so can be interpreted as probability: $P(y = 1 \\; | \\; \\mathbf{x} ; \\mathbf{w}) = \\phi(\\mathbf{w}^T \\mathbf{x})$\n",
    "\n",
    "We can then choose class by interpreting the probability:\n",
    "$\n",
    "\\begin{align}\n",
    "y &=\n",
    "\\begin{cases}\n",
    "1 \\; \\phi(z) \\geq 0.5 \\\\\n",
    "0 \\; \\phi(z) < 0.5\n",
    "\\end{cases}\n",
    "\\end{align}\n",
    "$\n",
    "\n",
    "The probability information can be very useful for many applications\n",
    "* knowing the confidence of a prediction in addition to the prediction itself\n",
    "* e.g. weather forecast: tomorrow might rain versus tomorrow might rain with 70% chance"
   ]
  },
  {
   "cell_type": "markdown",
   "metadata": {
    "collapsed": false,
    "slideshow": {
     "slide_type": "fragment"
    }
   },
   "source": [
    "Perceptron:\n",
    "<img src=\"./images/02_04.png\" width=100%>\n",
    "\n",
    "Adaline:\n",
    "<img src=\"./images/02_09.png\" width=100%>\n",
    "\n",
    "Logistic regression:\n",
    "<img src=\"./images/03_03.png\" width=100%> "
   ]
  },
  {
   "cell_type": "markdown",
   "metadata": {
    "slideshow": {
     "slide_type": "subslide"
    }
   },
   "source": [
    "### Learning the weights of the logistic cost function\n",
    "\n",
    "$J(\\mathbf{w})$: cost function to minimize with parameters $\\mathbf{w}$\n",
    "\n",
    "$z = \\mathbf{w}^T \\mathbf{x}$\n",
    "\n",
    "For Adaline, we minimize sum-of-squared-error:\n",
    "$$\n",
    "J(\\mathbf{w}) = \\frac{1}{2} \\sum_i \\left( y^{(i)} - t^{(i)}\\right)^2\n",
    "= \\frac{1}{2} \\sum_i \\left( \\phi\\left(z^{(i)}\\right) - t^{(i)}\\right)^2\n",
    "$$"
   ]
  },
  {
   "cell_type": "markdown",
   "metadata": {
    "slideshow": {
     "slide_type": "fragment"
    }
   },
   "source": [
    "#### Maximum likelihood estimation (MLE)\n",
    "For logistic regression, we take advantage of the probability interpretation to maximize the likelihood:\n",
    "$$\n",
    "L(\\mathbf{w}) = P(t \\; | \\; \\mathbf{x}; \\mathbf{w}) = \\prod_i P\\left( t^{(i)} \\; | \\; \\mathbf{x}^{(i)} ; \\mathbf{w} \\right) = \\prod_i \\phi\\left(z^{(i)}\\right)^{t^{(i)}} \\left(1 - \\phi\\left(z^{(i)}\\right)\\right)^{1-t^{(i)}}\n",
    "$$"
   ]
  },
  {
   "cell_type": "markdown",
   "metadata": {
    "slideshow": {
     "slide_type": "fragment"
    }
   },
   "source": [
    "Why?\n",
    "$$\n",
    "\\begin{align}\n",
    "\\phi\\left(z^{(i)}\\right)^{t^{(i)}} \\left(1 - \\phi\\left(z^{(i)}\\right)\\right)^{1-t^{(i)}} =\n",
    "\\begin{cases}\n",
    "\\phi\\left(z^{(i)} \\right) & \\; if \\; t^{(i)} = 1 \\\\\n",
    "1 - \\phi\\left(z^{(i)}\\right) & \\; if \\; t^{(i)} = 0\n",
    "\\end{cases}\n",
    "\\end{align}\n",
    "$$\n"
   ]
  },
  {
   "cell_type": "markdown",
   "metadata": {
    "slideshow": {
     "slide_type": "fragment"
    }
   },
   "source": [
    "This is equivalent to minimize the negative log likelihood:\n",
    "$$\n",
    "J(\\mathbf{w}) \n",
    "= -\\log L(\\mathbf{w}) \n",
    "= \\sum_i -t^{(i)}\\log\\left(\\phi\\left(z^{(i)}\\right)\\right) - \\left(1 - t^{(i)}\\right) \\log\\left(1 - \\phi\\left(z^{(i)}\\right) \\right)\n",
    "$$\n",
    "\n",
    "Converting prod to sum via log() is a common math trick for easier computation."
   ]
  },
  {
   "cell_type": "code",
   "execution_count": 15,
   "metadata": {
    "collapsed": false,
    "slideshow": {
     "slide_type": "fragment"
    }
   },
   "outputs": [
    {
     "data": {
      "image/png": "[encoded data removed]",
      "text/plain": [
       "<matplotlib.figure.Figure at 0x2b52ac9acf8>"
      ]
     },
     "metadata": {},
     "output_type": "display_data"
    }
   ],
   "source": [
    "def cost_1(z):\n",
    "    return - np.log(sigmoid(z))\n",
    "\n",
    "def cost_0(z):\n",
    "    return - np.log(1 - sigmoid(z))\n",
    "\n",
    "z = np.arange(-10, 10, 0.1)\n",
    "phi_z = sigmoid(z)\n",
    "\n",
    "c1 = [cost_1(x) for x in z]\n",
    "plt.plot(phi_z, c1, label='J(w) if t=1')\n",
    "\n",
    "c0 = [cost_0(x) for x in z]\n",
    "plt.plot(phi_z, c0, linestyle='--', label='J(w) if t=0')\n",
    "\n",
    "plt.ylim(0.0, 5.1)\n",
    "plt.xlim([0, 1])\n",
    "plt.xlabel('$\\phi$(z)')\n",
    "plt.ylabel('J(w)')\n",
    "plt.legend(loc='best')\n",
    "plt.tight_layout()\n",
    "# plt.savefig('./figures/log_cost.png', dpi=300)\n",
    "plt.show()"
   ]
  },
  {
   "cell_type": "markdown",
   "metadata": {
    "slideshow": {
     "slide_type": "skip"
    }
   },
   "source": [
    "### Relationship to cross entropy"
   ]
  },
  {
   "cell_type": "markdown",
   "metadata": {
    "slideshow": {
     "slide_type": "subslide"
    }
   },
   "source": [
    "### Optimizing for logistic regression\n",
    "\n",
    "From \n",
    "$$\n",
    "\\frac{\\partial \\log\\left(x\\right)}{\\partial x} = \\frac{1}{x}\n",
    "$$\n",
    "and chain rule:\n",
    "$$\n",
    "\\frac{\\partial f\\left(y\\left(x\\right)\\right)}{\\partial x} = \\frac{\\partial f(y)}{\\partial y} \\frac{\\partial y}{\\partial x}\n",
    "$$\n",
    "\n",
    "We know\n",
    "$$\n",
    "J(\\mathbf{w}) \n",
    "= \\sum_i -t^{(i)}\\log\\left(\\phi\\left(z^{(i)}\\right)\\right) - \\left(1 - t^{(i)}\\right) \\log\\left(1 - \\phi\\left(z^{(i)}\\right) \\right)\n",
    "$$\n",
    "\n",
    "$$\n",
    "\\frac{\\partial J(\\mathbf{w})}{\\partial \\mathbf{w}} =\n",
    "\\sum_i \\left(\\frac{-t^{(i)}}{\\phi\\left(z^{(i)}\\right)} + \\frac{1- t^{(i)}}{1 - \\phi\\left(z^{(i)}\\right)} \\right) \\frac{\\partial \\phi \\left(z^{(i)}\\right)}{\\partial \\mathbf{w}}\n",
    "$$"
   ]
  },
  {
   "cell_type": "markdown",
   "metadata": {
    "slideshow": {
     "slide_type": "fragment"
    }
   },
   "source": [
    "For sigmoid \n",
    "$\n",
    "\\frac{\\partial \\phi(z)}{\\partial z} = \\phi(z)\\left(1-\\phi(z)\\right)\n",
    "$\n",
    "\n",
    "Thus\n",
    "$$\n",
    "\\begin{align}\n",
    "\\delta J =\n",
    "\\frac{\\partial J(\\mathbf{w})}{\\partial \\mathbf{w}} &=\n",
    "\\sum_i \\left(\\frac{-t^{(i)}}{\\phi\\left(z^{(i)}\\right)} + \\frac{1- t^{(i)}}{1 - \\phi\\left(z^{(i)}\\right)} \\right) \n",
    "\\phi\\left(z^{(i)}\\right)\\left(1 - \\phi\\left(z^{(i)}\\right) \\right)\n",
    "\\frac{\\partial z^{(i)}}{\\partial \\mathbf{w}} \\\\\n",
    "&=\n",
    "\\sum_i \\left( -t^{(i)}\\left(1 - \\phi\\left(z^{(i)}\\right)\\right) + \\left(1-t^{(i)}\\right)\\phi\\left(z^{(i)}\\right) \\right) \\mathbf{x}^{(i)} \\\\\n",
    "&=\n",
    "\\sum_i \\left( -t^{(i)} + \\phi\\left( z^{(i)} \\right) \\right) \\mathbf{x}^{(i)}\n",
    "\\end{align}\n",
    "$$"
   ]
  },
  {
   "cell_type": "markdown",
   "metadata": {
    "slideshow": {
     "slide_type": "fragment"
    }
   },
   "source": [
    "For gradient descent\n",
    "$$\n",
    "\\begin{align}\n",
    "\\delta \\mathbf{w} &= -\\eta \\delta J = \\eta \\sum_i \\left( t^{(i)} - \\phi\\left( z^{(i)} \\right) \\right) \\mathbf{x}^{(i)} \\\\\n",
    "\\mathbf{w} & \\leftarrow \\mathbf{w} + \\delta \\mathbf{w}\n",
    "\\end{align}\n",
    "$$\n",
    "as related to what we did for optimizing in chapter 2."
   ]
  },
  {
   "cell_type": "markdown",
   "metadata": {
    "slideshow": {
     "slide_type": "slide"
    }
   },
   "source": [
    "### Handling multiple classes\n",
    "\n",
    "So far we have discussed only binary classifiers for 2 classes.\n",
    "\n",
    "How about $K > 2$ classes, e.g. $K=3$ for the Iris dataset?"
   ]
  },
  {
   "cell_type": "markdown",
   "metadata": {
    "slideshow": {
     "slide_type": "fragment"
    }
   },
   "source": [
    "#### Multiple binary classifiers\n",
    "\n",
    "##### One versus one\n",
    "\n",
    "Build $\\frac{K(K-1)}{2}$ classifiers,\n",
    "each separating a different pair of classes $C_i$ and $C_j$\n",
    "\n",
    "<a href=\"https://www.microsoft.com/en-us/research/people/cmbishop/\" title=\"Figure 4.2(b), PRML, Bishop\">\n",
    "<img src=\"./images/one_vs_one.svg\">\n",
    "</a>\n",
    "\n",
    "The green region is ambiguous: $C_1$, $C_2$, $C_3$"
   ]
  },
  {
   "cell_type": "markdown",
   "metadata": {
    "slideshow": {
     "slide_type": "fragment"
    }
   },
   "source": [
    "##### One versus rest (aka one versus all)\n",
    "\n",
    "Build $K$ binary classifiers, \n",
    "each separating class $C_k$ from the rest\n",
    "\n",
    "<a href=\"https://www.microsoft.com/en-us/research/people/cmbishop/\" title=\"Figure 4.2(a), PRML, Bishop\">\n",
    "<img src=\"./images/one_vs_rest.svg\">\n",
    "</a>\n",
    "\n",
    "The green region is ambiguous: $C_1$, $C_2$"
   ]
  },
  {
   "cell_type": "markdown",
   "metadata": {
    "slideshow": {
     "slide_type": "fragment"
    }
   },
   "source": [
    "#### Ambiguity\n",
    "\n",
    "Both one-versus-one and one-versus-all have ambiguous regions and may incur more complexity/computation.\n",
    "\n",
    "Ambiguity can be resolved via tie breakers, e.g.:\n",
    "* activation values \n",
    "* majority voting\n",
    "* more details: http://scikit-learn.org/stable/modules/multiclass.html"
   ]
  },
  {
   "cell_type": "markdown",
   "metadata": {
    "slideshow": {
     "slide_type": "fragment"
    }
   },
   "source": [
    "#### One multi-class classifier\n",
    "\n",
    "Multiple activation functions $\\phi_k, k=1, 2, ... K$ each with different parameters\n",
    "$$\n",
    "\\phi_k\\left(\\mathbf{x}\\right) = \\phi\\left(\\mathbf{x}, \\mathbf{w_k}\\right) = \\phi\\left(\\mathbf{w}_k^T \\mathbf{x} \\right)\n",
    "$$\n",
    "\n",
    "We can then choose the class based on maximum activation:\n",
    "$$\n",
    "y = argmax_k \\; \\phi_k\\left( \\mathbf{x} \\right)\n",
    "$$"
   ]
  },
  {
   "cell_type": "markdown",
   "metadata": {
    "slideshow": {
     "slide_type": "fragment"
    }
   },
   "source": [
    "#### Can also apply the above for multiple binary classifiers\n",
    "\n",
    "Caveat\n",
    "* need to assume the individual classifiers have compatible activations\n",
    "* https://en.wikipedia.org/wiki/Multiclass_classification"
   ]
  },
  {
   "cell_type": "markdown",
   "metadata": {
    "slideshow": {
     "slide_type": "subslide"
    }
   },
   "source": [
    "Binary logistic regression:\n",
    "\n",
    "$$\n",
    "J(\\mathbf{w}) \n",
    "= \\sum_{i \\in samples} -t^{(i)}\\log\\left(\\phi\\left(z^{(i)}\\right)\\right) - \\left(1 - t^{(i)}\\right) \\log\\left(1 - \\phi\\left(z^{(i)}\\right) \\right)\n",
    "$$\n",
    "\n",
    "Multi-class logistic regression:\n",
    "$$\n",
    "J(\\mathbf{w}) \n",
    "= \\sum_{i \\in samples} \\sum_{j \\in classes} -t^{(i, j)}\\log\\left(\\phi\\left(z^{(i, j)}\\right)\\right) - \\left(1 - t^{(i, j)}\\right) \\log\\left(1 - \\phi\\left(z^{(i, j)}\\right) \\right)\n",
    "$$\n"
   ]
  },
  {
   "cell_type": "markdown",
   "metadata": {
    "slideshow": {
     "slide_type": "subslide"
    }
   },
   "source": [
    "For $\\phi \\geq 0$, we can normalize for probabilistic interpretation:\n",
    "$$\n",
    "P\\left(k \\; | \\; \\mathbf{x} ; \\{\\mathbf{w}_k\\} \\right) =\n",
    "\\frac{\\phi_k\\left(\\mathbf{x}\\right)}{\\sum_{m=1}^K \\phi_m\\left(\\mathbf{x}\\right) }\n",
    "$$"
   ]
  },
  {
   "cell_type": "markdown",
   "metadata": {
    "slideshow": {
     "slide_type": "fragment"
    }
   },
   "source": [
    "Or use softmax (normalized exponential) for any activation $\\phi$:\n",
    "$$\n",
    "P\\left(k \\; | \\; \\mathbf{x} ; \\{\\mathbf{w}_k\\} \\right) =\n",
    "\\frac{e^{\\phi_k\\left(\\mathbf{x}\\right)}}{\\sum_{m=1}^K e^{\\phi_m\\left(\\mathbf{x}\\right)} }\n",
    "$$\n",
    "\n",
    "For example, if $\\phi(z) = z$:\n",
    "$$\n",
    "P\\left(k \\; | \\; \\mathbf{x} ; \\{\\mathbf{w}_k\\} \\right) =\n",
    "\\frac{e^{\\mathbf{w}_k^T\\mathbf{x}}}{\\sum_{m=1}^K e^{\\mathbf{w}_m^T \\mathbf{x}} }\n",
    "$$\n"
   ]
  },
  {
   "cell_type": "markdown",
   "metadata": {
    "slideshow": {
     "slide_type": "subslide"
    }
   },
   "source": [
    "For training, the model can be optimized via gradient descent.\n",
    "\n",
    "The likelihood function (to maximize):\n",
    "$$\n",
    "L(\\mathbf{w}) \n",
    "= P(t \\; | \\; \\mathbf{x}; \\mathbf{w}) \n",
    "= \\prod_i P\\left( t^{(i)} \\; | \\; \\mathbf{x}^{(i)} ; \\mathbf{w} \\right)\n",
    "$$\n",
    "\n",
    "The loss function (to minimize):\n",
    "$$\n",
    "J(\\mathbf{w}) \n",
    "= -\\log{L(\\mathbf{w})}\n",
    "= -\\sum_i \\log{P\\left( t^{(i)} \\; | \\; \\mathbf{x}^{(i)} ; \\mathbf{w} \\right)}\n",
    "$$"
   ]
  },
  {
   "cell_type": "markdown",
   "metadata": {
    "slideshow": {
     "slide_type": "slide"
    }
   },
   "source": [
    "### Training a logistic regression model with scikit-learn\n",
    "\n",
    "The code is quite simple."
   ]
  },
  {
   "cell_type": "code",
   "execution_count": 16,
   "metadata": {
    "collapsed": false,
    "slideshow": {
     "slide_type": "fragment"
    }
   },
   "outputs": [
    {
     "data": {
      "image/png": "[encoded data removed]",
      "text/plain": [
       "<matplotlib.figure.Figure at 0x2b527047da0>"
      ]
     },
     "metadata": {},
     "output_type": "display_data"
    }
   ],
   "source": [
    "from sklearn.linear_model import LogisticRegression\n",
    "\n",
    "lr = LogisticRegression(C=1000.0, random_state=0)\n",
    "lr.fit(X_train_std, y_train)\n",
    "\n",
    "plot_decision_regions(X_combined_std, y_combined,\n",
    "                      classifier=lr, test_idx=test_idx,\n",
    "                      xlabel = 'petal length [standardized]', \n",
    "                      ylabel='petal width [standardized]')"
   ]
  },
  {
   "cell_type": "code",
   "execution_count": 17,
   "metadata": {
    "collapsed": false,
    "slideshow": {
     "slide_type": "fragment"
    }
   },
   "outputs": [
    {
     "name": "stdout",
     "output_type": "stream",
     "text": [
      "[[  2.05743774e-11   6.31620264e-02   9.36837974e-01]]\n"
     ]
    }
   ],
   "source": [
    "if False: #Version(sklearn_version) < '0.18':\n",
    "    print(lr.predict_proba(X_test_std[0, :]))\n",
    "else:\n",
    "    print(lr.predict_proba(X_test_std[0, :].reshape(1, -1)))\n"
   ]
  },
  {
   "cell_type": "markdown",
   "metadata": {
    "slideshow": {
     "slide_type": "slide"
    }
   },
   "source": [
    "### Tackling overfitting via regularization\n",
    "\n",
    "Recall our general representation of our modeling objective:\n",
    "$$\\Phi(\\mathbf{X}, \\mathbf{T}, \\Theta) = L\\left(\\mathbf{X}, \\mathbf{T}, \\mathbf{Y}=f(\\mathbf{X}, \\Theta)\\right) + P(\\Theta)$$\n",
    "* $L$ - loss/objective for data fitting\n",
    "* $P$ - regularization to favor simple model"
   ]
  },
  {
   "cell_type": "markdown",
   "metadata": {
    "collapsed": false,
    "slideshow": {
     "slide_type": "fragment"
    }
   },
   "source": [
    "Need to balance between accuracy/bias (L) and complexity/variance (P)\n",
    "\n",
    "* If the model is too simple, it might be inaccurate (high bias)\n",
    "* If the model is too complex, it might over-fit and over-sensitive to training data (high variance)\n",
    "\n",
    "A well-trained model should \n",
    "* fit the training data well (low bias)\n",
    "* remain stable with different training data for good generalization (to unseen future data; low variance)\n",
    "\n",
    "The following illustrates bias and variance for a potentially non-linear model\n",
    "\n",
    "<img src=\"./images/03_06.png\" width=100%> "
   ]
  },
  {
   "cell_type": "markdown",
   "metadata": {
    "slideshow": {
     "slide_type": "fragment"
    }
   },
   "source": [
    "$L_2$ norm is a common form for regularization, e.g.\n",
    "$\n",
    "P = \\lambda ||\\mathbf{w}||^2\n",
    "$\n",
    "for the linear weights $\\mathbf{w}$\n",
    "\n",
    "$\\lambda$ is a parameter to weigh between bias and variance\n",
    "\n",
    "$C = \\frac{1}{\\lambda}$ for scikit-learn"
   ]
  },
  {
   "cell_type": "code",
   "execution_count": 18,
   "metadata": {
    "collapsed": false,
    "slideshow": {
     "slide_type": "fragment"
    }
   },
   "outputs": [
    {
     "data": {
      "image/png": "[encoded data removed]",
      "text/plain": [
       "<matplotlib.figure.Figure at 0x2b529f5c400>"
      ]
     },
     "metadata": {},
     "output_type": "display_data"
    }
   ],
   "source": [
    "weights, params = [], []\n",
    "for c in np.arange(-5, 5):\n",
    "    lr = LogisticRegression(C=10**c, random_state=0)\n",
    "    lr.fit(X_train_std, y_train)\n",
    "    # coef_ has shape (n_classes, n_features)\n",
    "    # we visualize only class 1\n",
    "    weights.append(lr.coef_[1])\n",
    "    params.append(10**c)\n",
    "\n",
    "weights = np.array(weights)\n",
    "plt.plot(params, weights[:, 0],\n",
    "         label='petal length')\n",
    "plt.plot(params, weights[:, 1], linestyle='--',\n",
    "         label='petal width')\n",
    "plt.ylabel('weight coefficient')\n",
    "plt.xlabel('C')\n",
    "plt.legend(loc='upper left')\n",
    "plt.xscale('log')\n",
    "# plt.savefig('./figures/regression_path.png', dpi=300)\n",
    "plt.show()"
   ]
  },
  {
   "cell_type": "markdown",
   "metadata": {
    "slideshow": {
     "slide_type": "slide"
    }
   },
   "source": [
    "# Reading\n",
    "* PML Chapter 3"
   ]
  },
  {
   "cell_type": "markdown",
   "metadata": {
    "slideshow": {
     "slide_type": "slide"
    }
   },
   "source": [
    "# Maximum margin classification with support vector machines\n",
    "\n",
    "Another popular type of machine learning algorithm\n",
    "* basic version for linear classification\n",
    "* kernel version for non-linear classification"
   ]
  },
  {
   "cell_type": "markdown",
   "metadata": {
    "slideshow": {
     "slide_type": "fragment"
    }
   },
   "source": [
    "Linear classification\n",
    "\n",
    "* decision boundary \n",
    "$\n",
    "\\mathbf{w}^T \\mathbf{x}\n",
    "\\begin{cases}\n",
    "\\geq 0 \\; class +1 \\\\\n",
    "< 0 \\; class -1\n",
    "\\end{cases}\n",
    "$\n",
    "* similar to perceptron\n",
    "* based on different criteria"
   ]
  },
  {
   "cell_type": "markdown",
   "metadata": {
    "slideshow": {
     "slide_type": "fragment"
    }
   },
   "source": [
    "Perceptron\n",
    "* minimize misclassification error\n",
    "* more sensitive to outliers\n",
    "* incremental learning (via SGD)"
   ]
  },
  {
   "cell_type": "markdown",
   "metadata": {
    "slideshow": {
     "slide_type": "fragment"
    }
   },
   "source": [
    "SVM\n",
    "* maximize margins to nearest samples (called support vectors)\n",
    "* more robust against outliers\n",
    "* batch learning"
   ]
  },
  {
   "cell_type": "markdown",
   "metadata": {
    "collapsed": false,
    "slideshow": {
     "slide_type": "subslide"
    }
   },
   "source": [
    "<img src=\"./images/03_07.png\" width=100%>"
   ]
  },
  {
   "cell_type": "markdown",
   "metadata": {
    "slideshow": {
     "slide_type": "fragment"
    }
   },
   "source": [
    "## Maximum margin intuition\n",
    "\n",
    "Maximize the margins of support vectors to the decision plane $\\rightarrow$ more robust classification for future samples (that may lie close to the decision plane)"
   ]
  },
  {
   "cell_type": "markdown",
   "metadata": {
    "slideshow": {
     "slide_type": "fragment"
    }
   },
   "source": [
    "Let us start with the simple case of two classes with labels +1 and -1.\n",
    "(We choose this particular combination of labeling for numerical simplicity, as follows.)\n",
    "Let the training dataset be $\\{\\mathbf{x}^{(i)}, y^{(i)}\\}$, $i=1$ to $N$.\n",
    "\n",
    "The goal is to find hyper-plane parameters $\\mathbf{w}$ and $w_0$ so that\n",
    "$$y^{(i)} \\left( \\mathbf{w}^T\\mathbf{x}^{(i)} + w_0\\right) \\geq 1, \\; \\forall i$$.\n",
    "\n",
    "Note that $y^{(i)} = \\pm1$ above."
   ]
  },
  {
   "cell_type": "markdown",
   "metadata": {
    "slideshow": {
     "slide_type": "fragment"
    }
   },
   "source": [
    "<font color='blue'>\n",
    "<ul>\n",
    "<li> We use t or y for target labels depending on the context\n",
    "\n",
    "<li> We separate out $w_0$ from the rest of \n",
    "$\n",
    "\\mathbf{w} = \n",
    "\\begin{bmatrix} \n",
    "w_1 \\\\\n",
    "w_2 \\\\\n",
    "\\vdots \\\\\n",
    "w_n \n",
    "\\end{bmatrix} \n",
    "$ for math derivation below\n",
    "</ul>\n",
    "</font>"
   ]
  },
  {
   "cell_type": "markdown",
   "metadata": {
    "slideshow": {
     "slide_type": "fragment"
    }
   },
   "source": [
    "### Geometry perspective\n",
    "For the purpose of optimization, we can cast the problem as maximize $\\rho$ for:\n",
    "$$\\frac{y^{(i)} \\left( \\mathbf{w}^T\\mathbf{x}^{(i)} + w_0\\right)}{||\\mathbf{w}||} \\geq \\rho, \\; \\forall i$$\n",
    "; note that the left-hand side can be interpreted as the distance from $\\mathbf{x}^{(i)}$ to the hyper-plane."
   ]
  },
  {
   "cell_type": "markdown",
   "metadata": {
    "slideshow": {
     "slide_type": "fragment"
    }
   },
   "source": [
    "### Scaling\n",
    "Note that the above equation remains invariant if we multiply $||\\mathbf{w}||$ and $w_0$ by any non-zero scalar.\n",
    "\n",
    "To eliminate this ambiguity, we can fix $\\rho ||\\mathbf{w}|| = 1$ and minimize $||\\mathbf{w}||$, i.e.:\n",
    "min $\\frac{1}{2} ||\\mathbf{w}||^2$ subject to $y^{(i)}\\left( \\mathbf{w}^T \\mathbf{x}^{(i)} + w_0\\right) \\geq 1, \\; \\forall i$\n",
    "\n",
    "### Optimization\n",
    "We can use <a href=\"https://en.wikipedia.org/wiki/Lagrange_multiplier\">Lagrangian multipliers</a> $\\alpha^{(i)}$ for this constrained optimization problem:\n",
    "$$\n",
    "\\begin{align}\n",
    "L(\\mathbf{w}, w_0, \\alpha) \n",
    "&=\n",
    "\\frac{1}{2} ||\\mathbf{w}||^2 - \\sum_i \\alpha^{(i)} \\left( y^{(i)} \\left( \\mathbf{w}^T \\mathbf{x}^{(i)} + w_0\\right) -1 \\right)\n",
    "\\\\\n",
    "&=\n",
    "\\frac{1}{2} ||\\mathbf{w}||^2 - \\sum_i \\alpha^{(i)} y^{(i)} \\left( \\mathbf{w}^T \\mathbf{x}^{(i)} + w_0\\right) + \\sum_i \\alpha^{(i)}\n",
    "\\end{align}\n",
    "$$\n",
    "<!--\n",
    "(The last term above is for $\\alpha^{(i)} \\geq 0$.)\n",
    "-->"
   ]
  },
  {
   "cell_type": "markdown",
   "metadata": {
    "slideshow": {
     "slide_type": "fragment"
    }
   },
   "source": [
    "\n",
    "With some calculus/algebraic manipulations:\n",
    "$$\\frac{\\partial L}{\\partial \\mathbf{w}} = 0 \\Rightarrow \\mathbf{w} = \\sum_i \\alpha^{(i)} y^{(i)} \\mathbf{x}^{(i)}$$\n",
    "$$\\frac{\\partial L}{\\partial w_0} = 0 \\Rightarrow \\sum_i \\alpha^{(i)} y^{(i)} = 0$$\n"
   ]
  },
  {
   "cell_type": "markdown",
   "metadata": {
    "slideshow": {
     "slide_type": "fragment"
    }
   },
   "source": [
    "Plug the above two into $L$ above, we have:\n",
    "$$\n",
    "\\begin{align}\n",
    "L(\\mathbf{w}, w_0, \\alpha) &= \\frac{1}{2} \\mathbf{w}^T \\mathbf{w} - \\mathbf{w}^T \\sum_i \\alpha^{(i)}y^{(i)}\\mathbf{x}^{(i)} - w_0 \\sum_i \\alpha^{(i)} y^{(i)} + \\sum_i \\alpha^{(i)} \\\\\n",
    "&= -\\frac{1}{2} \\mathbf{w}^T \\mathbf{w} + \\sum_i \\alpha^{(i)} \\\\\n",
    "&= -\\frac{1}{2} \\sum_i \\sum_j \\alpha^{(i)} \\alpha^{(j)} y^{(i)} y^{(j)} \\left( \\mathbf{x}^{(i)}\\right)^T \\mathbf{x}^{(j)} + \\sum_i \\alpha^{(i)}\n",
    "\\end{align}\n",
    "$$\n",
    ", which can be maximized, via quadratic optimization with $\\alpha^{(i)}$ only, subject to the constraints: $\\sum_i \\alpha^{(i)} y^{(i)} = 0$ and $\\alpha^{(i)} \\geq 0, \\; \\forall i$"
   ]
  },
  {
   "cell_type": "markdown",
   "metadata": {
    "slideshow": {
     "slide_type": "fragment"
    }
   },
   "source": [
    "Note that $y^{(i)} = \\pm 1$."
   ]
  },
  {
   "cell_type": "markdown",
   "metadata": {
    "slideshow": {
     "slide_type": "fragment"
    }
   },
   "source": [
    "Once we solve $\\{ \\alpha^{(i)} \\}$ we will see that most of them are $0$ with a few $> 0$. \n",
    "\n",
    "The $>0$ ones correspond to lie on the decision boundaries and thus called support vectors:\n",
    "$$y^{(i)} \\left( \\mathbf{w}^T \\mathbf{x}^{(i)} + w_0\\right) = 1$$\n",
    "from which we can calculate $w_0$.\n"
   ]
  },
  {
   "cell_type": "markdown",
   "metadata": {
    "slideshow": {
     "slide_type": "subslide"
    }
   },
   "source": [
    "## Dealing with the nonlinearly separable case using slack variables\n",
    "\n",
    "Soft margin classification\n",
    "\n",
    "Some datasets are not linearly separable\n",
    "\n",
    "Avoid thin margins for linearly separable cases\n",
    "* bias variance tradeoff"
   ]
  },
  {
   "cell_type": "markdown",
   "metadata": {
    "slideshow": {
     "slide_type": "fragment"
    }
   },
   "source": [
    "For datasets that are not linearly separable, we can introduce slack variables $\\{\\xi^{(i)}\\}$ as follows:\n",
    "$$y^{(i)} \\left( \\mathbf{w}^T \\mathbf{x}^{(i)} + w_0\\right) \\geq 1 - \\xi^{(i)}, \\; \\forall i$$\n",
    "\n",
    "* If $\\xi^{(i)} = 0$, it is just like the original case without slack variables.\n",
    "* If $0 < \\xi^{(i)} <1$, $\\mathbf{x}^{(i)}$ is correctly classified but lies within the margin.\n",
    "* If $\\xi^{(i)} \\geq 1$, $\\mathbf{x}^{(i)}$ is mis-classified.\n"
   ]
  },
  {
   "cell_type": "markdown",
   "metadata": {
    "slideshow": {
     "slide_type": "fragment"
    }
   },
   "source": [
    "For optimization, the goal is to minimize\n",
    "$$\\frac{1}{2} ||\\mathbf{w}||^2 + C \\sum_i \\xi^{(i)}$$\n",
    ", where $C$ is the strength of the penalty factor (like in regularization).\n",
    "\n",
    "<img src = \"./images/03_08.png\" width=80%> \n",
    "\n",
    "Using the Lagrangian multipliers $\\{\\alpha^{(i)}, \\mu^{(i)} \\}$ with constraints we have:\n",
    "$$L = \\frac{1}{2} ||\\mathbf{w}||^2 + C \\sum_i \\xi^{(i)} - \\sum_i \\alpha^{(i)} \\left( y^{(i)} \\left( \\mathbf{w}^{(i)}\\mathbf{x}^{(i)} + w_0\\right) - 1 + \\xi^{(i)}\\right) - \\sum_i \\mu^{(i)} \\xi^{(i)}$$\n",
    ", which can be solved via a similar process as in the original case without slack variables."
   ]
  },
  {
   "cell_type": "markdown",
   "metadata": {
    "slideshow": {
     "slide_type": "subslide"
    }
   },
   "source": [
    "## Coding with SVM via scikit learn is simple"
   ]
  },
  {
   "cell_type": "code",
   "execution_count": 19,
   "metadata": {
    "collapsed": false,
    "slideshow": {
     "slide_type": "fragment"
    }
   },
   "outputs": [
    {
     "data": {
      "image/png": "[encoded data removed]",
      "text/plain": [
       "<matplotlib.figure.Figure at 0x2b52ae1fcf8>"
      ]
     },
     "metadata": {},
     "output_type": "display_data"
    }
   ],
   "source": [
    "from sklearn.svm import SVC\n",
    "\n",
    "svm = SVC(kernel='linear', C=1.0, random_state=0)\n",
    "svm.fit(X_train_std, y_train)\n",
    "\n",
    "plot_decision_regions(X_combined_std, y_combined,\n",
    "                      classifier=svm, test_idx=test_idx,\n",
    "                      xlabel='petal length [standardized]', ylabel='petal width [standardized]')"
   ]
  },
  {
   "cell_type": "markdown",
   "metadata": {
    "slideshow": {
     "slide_type": "skip"
    }
   },
   "source": [
    "## Alternative implementations in scikit-learn"
   ]
  },
  {
   "cell_type": "markdown",
   "metadata": {
    "collapsed": true,
    "slideshow": {
     "slide_type": "slide"
    }
   },
   "source": [
    "# Solving non-linear problems using a kernel SVM\n",
    "\n",
    "SVM can be extended for non-linear classification\n",
    "\n",
    "This is called kernel SVM\n",
    "* will explain what kernel means\n",
    "* and introduce kernel tricks :-)"
   ]
  },
  {
   "cell_type": "markdown",
   "metadata": {
    "collapsed": false,
    "slideshow": {
     "slide_type": "fragment"
    }
   },
   "source": [
    "##  Intuition\n",
    "\n",
    "The following 2D circularly distributed data sets are not linearly separable.\n",
    "\n",
    "However, we can elevate them to a higher dimensional space for linear separable:\n",
    "$\n",
    "\\phi(x_1, x_2) = (x_1, x_2, x_1^2 + x_2^2)\n",
    "$\n",
    ",\n",
    "where $\\phi$ is the mapping function.\n",
    "\n",
    "<img src=\"./images/03_11.png\" width=90%> "
   ]
  },
  {
   "cell_type": "markdown",
   "metadata": {
    "slideshow": {
     "slide_type": "fragment"
    }
   },
   "source": [
    "## Animation visualization\n",
    "\n",
    "https://youtu.be/3liCbRZPrZA\n",
    "\n",
    "https://youtu.be/9NrALgHFwTo"
   ]
  },
  {
   "cell_type": "code",
   "execution_count": 20,
   "metadata": {
    "collapsed": false,
    "slideshow": {
     "slide_type": "skip"
    }
   },
   "outputs": [
    {
     "data": {
      "image/jpeg": "[encoded data removed]",
      "text/html": [
       "\n",
       "        <iframe\n",
       "            width=\"400\"\n",
       "            height=\"300\"\n",
       "            src=\"https://www.youtube.com/embed/3liCbRZPrZA\"\n",
       "            frameborder=\"0\"\n",
       "            allowfullscreen\n",
       "        ></iframe>\n",
       "        "
      ],
      "text/plain": [
       "<IPython.lib.display.YouTubeVideo at 0x2b529f185f8>"
      ]
     },
     "execution_count": 20,
     "metadata": {},
     "output_type": "execute_result"
    }
   ],
   "source": [
    "from IPython.display import YouTubeVideo\n",
    "YouTubeVideo('3liCbRZPrZA')"
   ]
  },
  {
   "cell_type": "code",
   "execution_count": 21,
   "metadata": {
    "collapsed": false,
    "slideshow": {
     "slide_type": "skip"
    }
   },
   "outputs": [
    {
     "data": {
      "image/jpeg": "[encoded data removed]",
      "text/html": [
       "\n",
       "        <iframe\n",
       "            width=\"400\"\n",
       "            height=\"300\"\n",
       "            src=\"https://www.youtube.com/embed/9NrALgHFwTo\"\n",
       "            frameborder=\"0\"\n",
       "            allowfullscreen\n",
       "        ></iframe>\n",
       "        "
      ],
      "text/plain": [
       "<IPython.lib.display.YouTubeVideo at 0x2b52adf9278>"
      ]
     },
     "execution_count": 21,
     "metadata": {},
     "output_type": "execute_result"
    }
   ],
   "source": [
    "YouTubeVideo('9NrALgHFwTo')"
   ]
  },
  {
   "cell_type": "markdown",
   "metadata": {
    "slideshow": {
     "slide_type": "subslide"
    }
   },
   "source": [
    "## Using the kernel trick to find separating hyperplanes in higher dimensional space"
   ]
  },
  {
   "cell_type": "markdown",
   "metadata": {
    "slideshow": {
     "slide_type": "fragment"
    }
   },
   "source": [
    "For datasets that are not linearly separable, we can map them into a higher dimensional space and make them linearly separable.\n",
    "Let $\\phi$ be this mapping:\n",
    "$\\mathbf{z} = \\phi(\\mathbf{x})$\n",
    "\n",
    "And we perform the linear decision in the $\\mathbf{z}$ instead of the original $\\mathbf{x}$ space:\n",
    "$$y^{(i)} \\left( \\mathbf{w}^{(i)} \\mathbf{z}^{(i)} + w_0\\right) \\geq 1 - \\xi^{(i)}$$"
   ]
  },
  {
   "cell_type": "markdown",
   "metadata": {
    "slideshow": {
     "slide_type": "fragment"
    }
   },
   "source": [
    "Following similar Lagrangian multiplier optimization as above, we eventually want to optimize:\n",
    "$$\n",
    "\\begin{align}\n",
    "L &= \\frac{1}{2} \\sum_i \\sum_j \\alpha^{(i)} \\alpha^{(j)} y^{(i)} y^{(j)} \\left(\\mathbf{z}^{(i)}\\right)^T \\mathbf{z}^{(j)} + \\sum_i \\alpha^{(i)} \\\\\n",
    "&= \\frac{1}{2} \\sum_i \\sum_j \\alpha^{(i)} \\alpha^{(j)} y^{(i)} y^{(j)} \\phi\\left(\\mathbf{x}^{(i)}\\right)^T \\phi\\left(\\mathbf{x}^{(j)}\\right) + \\sum_i \\alpha^{(i)} \n",
    "\\end{align}\n",
    "$$\n",
    "\n",
    "The key idea behind kernel trick, and kernel machines in general, is to represent the high dimensional dot product by a kernel function:\n",
    "$$K\\left(\\mathbf{x}^{(i)}, \\mathbf{x}^{(j)}\\right) = \\phi\\left(\\mathbf{x}^{(i)}\\right)^T \\phi\\left(\\mathbf{x}^{(j)}\\right)$$\n",
    "\n",
    "Intuitively, the data points become more likely to be linearly separable in a higher dimensional space."
   ]
  },
  {
   "cell_type": "markdown",
   "metadata": {
    "slideshow": {
     "slide_type": "subslide"
    }
   },
   "source": [
    "## Kernel trick for evaluation\n",
    "\n",
    "Recall from part of our derivation above:\n",
    "$$\n",
    "\\frac{\\partial L}{\\partial \\mathbf{w}} = 0 \\Rightarrow \\mathbf{w} = \\sum_i \\alpha^{(i)} y^{(i)} \\mathbf{z}^{(i)}\n",
    "$$\n",
    "\n",
    "Which allows us to compute the discriminant via kernel trick as well:\n",
    "$$\n",
    "\\begin{align}\n",
    "\\mathbf{w}^T \\mathbf{z}\n",
    "&=\n",
    "\\sum_i \\alpha^{(i)} y^{(i)} \\left(\\mathbf{z}^{(i)}\\right)^T \\mathbf{z}\n",
    "\\\\\n",
    "&=\n",
    "\\sum_i \\alpha^{(i)} y^{(i)} \\phi\\left(\\mathbf{x}^{(i)}\\right)^T \\phi(\\mathbf{x})\n",
    "\\\\\n",
    "&=\n",
    "\\sum_i \\alpha^{(i)} y^{(i)} K\\left(\\mathbf{x}^{(i)}, \\mathbf{x}\\right)\n",
    "\\end{align}\n",
    "$$"
   ]
  },
  {
   "cell_type": "markdown",
   "metadata": {
    "slideshow": {
     "slide_type": "subslide"
    }
   },
   "source": [
    "## Non-linear classification example\n",
    "\n",
    "<table>\n",
    "<tr> <td>x <td> y <td>xor(x, y) </tr>\n",
    "<tr> <td> 0 <td> 0 <td> 0 </tr>\n",
    "<tr> <td> 0 <td> 1 <td> 1 </tr>\n",
    "<tr> <td> 1 <td> 0 <td> 1 </tr>\n",
    "<tr> <td> 1 <td> 1 <td> 0 </tr>\n",
    "</table>\n",
    "\n",
    "Xor is not linearly separable\n",
    "* math proof left as exercise"
   ]
  },
  {
   "cell_type": "markdown",
   "metadata": {
    "slideshow": {
     "slide_type": "fragment"
    }
   },
   "source": [
    "Random point sets classified via XOR based on the signs of 2D coordinates:"
   ]
  },
  {
   "cell_type": "code",
   "execution_count": 22,
   "metadata": {
    "collapsed": false,
    "slideshow": {
     "slide_type": "fragment"
    }
   },
   "outputs": [
    {
     "data": {
      "image/png": "[encoded data removed]",
      "text/plain": [
       "<matplotlib.figure.Figure at 0x2b52ada6fd0>"
      ]
     },
     "metadata": {},
     "output_type": "display_data"
    }
   ],
   "source": [
    "import matplotlib.pyplot as plt\n",
    "import numpy as np\n",
    "\n",
    "np.random.seed(0)\n",
    "X_xor = np.random.randn(200, 2)\n",
    "y_xor = np.logical_xor(X_xor[:, 0] > 0,\n",
    "                       X_xor[:, 1] > 0)\n",
    "y_xor = np.where(y_xor, 1, -1)\n",
    "\n",
    "plt.scatter(X_xor[y_xor == 1, 0],\n",
    "            X_xor[y_xor == 1, 1],\n",
    "            c='b', marker='x',\n",
    "            label='1')\n",
    "plt.scatter(X_xor[y_xor == -1, 0],\n",
    "            X_xor[y_xor == -1, 1],\n",
    "            c='r',\n",
    "            marker='s',\n",
    "            label='-1')\n",
    "\n",
    "plt.xlim([-3, 3])\n",
    "plt.ylim([-3, 3])\n",
    "plt.legend(loc='best')\n",
    "plt.tight_layout()\n",
    "# plt.savefig('./figures/xor.png', dpi=300)\n",
    "plt.show()"
   ]
  },
  {
   "cell_type": "markdown",
   "metadata": {
    "slideshow": {
     "slide_type": "fragment"
    }
   },
   "source": [
    "This is the classification result using a rbf (radial basis function) kernel\n",
    "\n",
    "Notice the non-linear decision boundaries"
   ]
  },
  {
   "cell_type": "code",
   "execution_count": 23,
   "metadata": {
    "collapsed": false,
    "slideshow": {
     "slide_type": "fragment"
    }
   },
   "outputs": [
    {
     "data": {
      "image/png": "[encoded data removed]",
      "text/plain": [
       "<matplotlib.figure.Figure at 0x2b52adbe6a0>"
      ]
     },
     "metadata": {},
     "output_type": "display_data"
    }
   ],
   "source": [
    "svm = SVC(kernel='rbf', random_state=0, gamma=0.10, C=10.0)\n",
    "svm.fit(X_xor, y_xor)\n",
    "plot_decision_regions(X_xor, y_xor,\n",
    "                      classifier=svm)"
   ]
  },
  {
   "cell_type": "markdown",
   "metadata": {
    "slideshow": {
     "slide_type": "subslide"
    }
   },
   "source": [
    "## Types of kernels\n",
    "\n",
    "A variety of kernel functions can be used.\n",
    "The only requirement is that the kernel function behaves like inner product;\n",
    "larger $K(\\mathbf{x}, \\mathbf{y})$ for more similar $\\mathbf{x}$ and $\\mathbf{y}$\n",
    "\n",
    "### Linear\n",
    "$\n",
    "K\\left(\\mathbf{x}, \\mathbf{y}\\right) = \\mathbf{x}^T \\mathbf{y}\n",
    "$"
   ]
  },
  {
   "cell_type": "markdown",
   "metadata": {
    "slideshow": {
     "slide_type": "fragment"
    }
   },
   "source": [
    "### Polynomials of degree $q$\n",
    "$\n",
    "K\\left(\\mathbf{x}, \\mathbf{y}\\right) =\n",
    "(\\mathbf{x}^T\\mathbf{y} + 1)^q\n",
    "$\n",
    "\n",
    "Example for $d=2$ and $q=2$\n",
    "$$\n",
    "\\begin{align}\n",
    "K\\left(\\mathbf{x}, \\mathbf{y}\\right) &= \\left( x_1y_1 + x_2y_2 + 1 \\right)^2 \\\\\n",
    "&= 1 + 2x_1y_1 + 2x_2y_2 + 2x_1x_2y_1y_2 + x_1^2y_1^2 + x_2^2y_2^2 \n",
    "\\end{align}\n",
    "$$\n",
    ", which corresponds to the following kernel function:\n",
    "$$\n",
    "\\phi(x, y) = \\left[1, \\sqrt{2}x, \\sqrt{2}y, \\sqrt{2}xy, x^2, y^2 \\right]^T\n",
    "$$"
   ]
  },
  {
   "cell_type": "markdown",
   "metadata": {
    "slideshow": {
     "slide_type": "fragment"
    }
   },
   "source": [
    "### Radial basis function (RBF)\n",
    "\n",
    "Scalar variance:\n",
    "$$\n",
    "K\\left(\\mathbf{x}, \\mathbf{y} \\right) = e^{-\\frac{\\left|\\mathbf{x} - \\mathbf{y}\\right|^2}{2s^2}}\n",
    "$$\n",
    "\n",
    "General co-variance matrix:\n",
    "$$\n",
    "K\\left(\\mathbf{x}, \\mathbf{y} \\right) = e^{-\\frac{1}{2} \\left(\\mathbf{x}-\\mathbf{y}\\right)^T \\mathbf{S}^{-1} \\left(\\mathbf{x} - \\mathbf{y}\\right)}\n",
    "$$\n",
    "\n",
    "General distance function $D\\left(\\mathbf{x}, \\mathbf{y}\\right)$:\n",
    "$$\n",
    "K\\left(\\mathbf{x}, \\mathbf{y} \\right) = e^{-\\frac{D\\left(\\mathbf{x}, \\mathbf{y} \\right)}{2s^2}}\n",
    "$$\n",
    "\n",
    "RBF essentially projects to an infinite dimensional space."
   ]
  },
  {
   "cell_type": "markdown",
   "metadata": {
    "slideshow": {
     "slide_type": "fragment"
    }
   },
   "source": [
    "### Sigmoid\n",
    "$$\n",
    "K\\left(\\mathbf{x}, \\mathbf{y} \\right) = \\tanh\\left(2\\mathbf{x}^T\\mathbf{y} + 1\\right)\n",
    "$$"
   ]
  },
  {
   "cell_type": "markdown",
   "metadata": {
    "slideshow": {
     "slide_type": "subslide"
    }
   },
   "source": [
    "## Kernel SVM for the Iris dataset\n",
    "\n",
    "Let's apply RBF kernel\n",
    "\n",
    "The kernel width is controlled by a gamma $\\gamma$ parameter for kernel influence\n",
    "$\n",
    "K\\left(\\mathbf{x}, \\mathbf{y} \\right) =\n",
    "e^{-\\gamma D\\left(\\mathbf{x}, \\mathbf{y} \\right)}\n",
    "$\n",
    "and $C$ for regularization"
   ]
  },
  {
   "cell_type": "code",
   "execution_count": 24,
   "metadata": {
    "collapsed": false,
    "slideshow": {
     "slide_type": "fragment"
    }
   },
   "outputs": [
    {
     "data": {
      "image/png": "[encoded data removed]",
      "text/plain": [
       "<matplotlib.figure.Figure at 0x2b52ad027f0>"
      ]
     },
     "metadata": {},
     "output_type": "display_data"
    }
   ],
   "source": [
    "from sklearn.svm import SVC\n",
    "\n",
    "svm = SVC(kernel='rbf', random_state=0, gamma=0.2, C=1.0)\n",
    "svm.fit(X_train_std, y_train)\n",
    "\n",
    "plot_decision_regions(X_combined_std, y_combined,\n",
    "                      classifier=svm, test_idx=test_idx,\n",
    "                      xlabel = 'petal length [standardized]', \n",
    "                      ylabel = 'petal width [standardized]')"
   ]
  },
  {
   "cell_type": "code",
   "execution_count": 25,
   "metadata": {
    "collapsed": false,
    "slideshow": {
     "slide_type": "fragment"
    }
   },
   "outputs": [
    {
     "data": {
      "image/png": "[encoded data removed]",
      "text/plain": [
       "<matplotlib.figure.Figure at 0x2b52ad1c6a0>"
      ]
     },
     "metadata": {},
     "output_type": "display_data"
    }
   ],
   "source": [
    "svm = SVC(kernel='rbf', random_state=0, gamma=100.0, C=1.0)\n",
    "svm.fit(X_train_std, y_train)\n",
    "\n",
    "plot_decision_regions(X_combined_std, y_combined, \n",
    "                      classifier=svm, test_idx=test_idx,\n",
    "                      xlabel = 'petal length [standardized]', \n",
    "                      ylabel='petal width [standardized]')"
   ]
  },
  {
   "cell_type": "markdown",
   "metadata": {
    "slideshow": {
     "slide_type": "slide"
    }
   },
   "source": [
    "# Reading\n",
    "* PML Chapter 3\n",
    "* IML Chapter 13-1 to 13.7\n",
    "* [The kernel trick](http://www.eric-kim.net/eric-kim-net/posts/1/kernel_trick.html)"
   ]
  },
  {
   "cell_type": "markdown",
   "metadata": {
    "slideshow": {
     "slide_type": "slide"
    }
   },
   "source": [
    "# Decision tree learning\n",
    "\n",
    "Machine learning can be like black box/magic; the model/method works after tuning parameters and such, but how and why?\n",
    "\n",
    "Decision tree shows you how it makes decision, e.g. classification."
   ]
  },
  {
   "cell_type": "markdown",
   "metadata": {
    "collapsed": false,
    "slideshow": {
     "slide_type": "fragment"
    }
   },
   "source": [
    "## Example decision tree\n",
    "\n",
    "* analogous to flow charts for designing algorithms\n",
    "* every internal node can be based on some if-statement\n",
    "* automatically learned from data, not manually programmed by human\n",
    "\n",
    "<img src=\"./images/03_15.png\" width=80%> "
   ]
  },
  {
   "cell_type": "markdown",
   "metadata": {
    "slideshow": {
     "slide_type": "subslide"
    }
   },
   "source": [
    "## Decision tree learning\n",
    "\n",
    "1. Start with a single node that contains all data\n",
    " 1. Select a node and split it via some criterion to optimize some objective, usually information/impurity $I$\n",
    " 2. Repeat until convergence:\n",
    "  good enough classification measured by $I$;\n",
    "  complex enough model (overfitting);\n",
    "2. Each leaf node belongs to one class\n",
    " * Multiple leaf nodes can be of the same class\n",
    " * Each leaf node can have misclassified samples - majority voting\n",
    "  \n",
    "<a href=\"http://www.cmpe.boun.edu.tr/~ethem/i2ml2e/\" title = \"Figure 9.1\"><img src=\"./images/fig9p1_iml.svg\" width=80%></a>\n",
    "* usually split along one dimension/feature\n",
    "* a finite number of choices from the boundaries of sample classes"
   ]
  },
  {
   "cell_type": "markdown",
   "metadata": {
    "slideshow": {
     "slide_type": "subslide"
    }
   },
   "source": [
    "## Maximizing information gain - getting the most bang for the buck\n",
    "\n",
    "$I(D)$ information/impurity for a tree node with dataset $D$\n",
    "\n",
    "Maximize information gain $IG$ for splitting each (parent) node $D_p$ into $m$ child nodes $j$:\n",
    "$$\n",
    "IG = I(D_p) - \\sum_{j=1}^m \\frac{N_j}{N_p} I(D_j)\n",
    "$$\n",
    "Usually $m=2$ for simplicity (binary split)\n"
   ]
  },
  {
   "cell_type": "markdown",
   "metadata": {
    "slideshow": {
     "slide_type": "fragment"
    }
   },
   "source": [
    "Commonly used impurity measures $I$\n",
    "\n",
    "$p(i|t)$ - probability/proportion of dataset in node $t$ belongs to class $i$"
   ]
  },
  {
   "cell_type": "markdown",
   "metadata": {
    "slideshow": {
     "slide_type": "fragment"
    }
   },
   "source": [
    "### Entropy\n",
    "\n",
    "$$\n",
    "I_H(t) = - \\sum_{i=1}^c p(i|t) \\log_2 p(i|t)\n",
    "$$\n",
    "\n",
    "* $0$ if all samples belong to the same class\n",
    "* $1$ if uniform distribution\n",
    "$\n",
    "0.5 = p(0|t) = p(1|t)\n",
    "$"
   ]
  },
  {
   "cell_type": "markdown",
   "metadata": {
    "slideshow": {
     "slide_type": "fragment"
    }
   },
   "source": [
    "<a href=\"https://en.wikipedia.org/wiki/Entropy_(information_theory)\">Entropy (information theory)</a>\n",
    "\n",
    "Random variable $X$ with probability mass/density function $P(X)$\n",
    "\n",
    "Information content\n",
    "$\n",
    "I(X) = -\\log_b\\left(P(X)\\right)\n",
    "$\n",
    "\n",
    "Entropy is the expectation of information\n",
    "$$\n",
    "H(X) = E(I(X)) = E(-\\log_b(P(X)))\n",
    "$$\n",
    "\n",
    "log base $b$ can be $2$, $e$, $10$\n",
    "\n",
    "Continuous $X$:\n",
    "$$\n",
    "H(X) = \\int P(x) I(x) \\; dx = -\\int P(x) \\log_b P(x) \\;dx\n",
    "$$\n",
    "Discrete $X$:\n",
    "$$\n",
    "H(X) = \\sum_i P(x_i) I(x_i) = -\\sum_i P(x_i) \\log_b P(x_i)\n",
    "$$\n",
    "\n",
    "$-\\log_b P(x)$ - number of bits needed to represent $P(x)$\n",
    "* the rarer the event $\\rightarrow$ the less $P(x)$ $\\rightarrow$ the more bits"
   ]
  },
  {
   "cell_type": "markdown",
   "metadata": {
    "slideshow": {
     "slide_type": "fragment"
    }
   },
   "source": [
    "### Gini index\n",
    "\n",
    "Minimize expected value of misclassification\n",
    "\n",
    "$$\n",
    "I_G(t) = \\sum_{i=1}^c p(i|t) \\left( 1 - p(i|t) \\right) = 1 - \\sum_{i=1}^c p(i|t)^2\n",
    "$$\n",
    "\n",
    "* $p(i|t)$ - probability of class $i$\n",
    "* $1-p(i|t)$ - probability of misclassification, i.e. $t$ is not class $i$\n",
    "\n",
    "Similar to entropy\n",
    "* expected value of information: $-\\log_2 p(i|t)$\n",
    "* information and mis-classification probability: both larger for lower $p(i|t)$"
   ]
  },
  {
   "cell_type": "markdown",
   "metadata": {
    "slideshow": {
     "slide_type": "fragment"
    }
   },
   "source": [
    "### Classification error\n",
    "\n",
    "$$\n",
    "I_e(t) = 1 - \\max_i p(i|t)\n",
    "$$\n",
    "\n",
    "$\n",
    "argmax_i \\; p(i|t)\n",
    "$\n",
    "as the class label for node $t$\n"
   ]
  },
  {
   "cell_type": "markdown",
   "metadata": {
    "slideshow": {
     "slide_type": "subslide"
    }
   },
   "source": [
    "## Compare different information measures\n",
    "\n",
    "Entropy and Gini are probabilisitic\n",
    "* not assuming the label of the node (decided later after more splitting)\n",
    "\n",
    "Classification error is deterministic\n",
    "* assumes the majority class would be the label\n",
    "\n",
    "Entropy and Gini index are similar, and tend to behave better than classification error\n",
    "* curves below via a 2-class case\n",
    "* example in the PML textbook"
   ]
  },
  {
   "cell_type": "code",
   "execution_count": 26,
   "metadata": {
    "collapsed": false,
    "scrolled": true,
    "slideshow": {
     "slide_type": "fragment"
    }
   },
   "outputs": [
    {
     "data": {
      "image/png": "[encoded data removed]",
      "text/plain": [
       "<matplotlib.figure.Figure at 0x2b52bfb04e0>"
      ]
     },
     "metadata": {},
     "output_type": "display_data"
    }
   ],
   "source": [
    "import matplotlib.pyplot as plt\n",
    "import numpy as np\n",
    "\n",
    "\n",
    "def gini(p):\n",
    "    return p * (1 - p) + (1 - p) * (1 - (1 - p))\n",
    "\n",
    "\n",
    "def entropy(p):\n",
    "    return - p * np.log2(p) - (1 - p) * np.log2((1 - p))\n",
    "\n",
    "\n",
    "def error(p):\n",
    "    return 1 - np.max([p, 1 - p])\n",
    "\n",
    "x = np.arange(0.0, 1.0, 0.01)\n",
    "\n",
    "ent = [entropy(p) if p != 0 else None for p in x]\n",
    "sc_ent = [e * 0.5 if e else None for e in ent]\n",
    "err = [error(i) for i in x]\n",
    "\n",
    "fig = plt.figure()\n",
    "ax = plt.subplot(111)\n",
    "for i, lab, ls, c, in zip([ent, sc_ent, gini(x), err], \n",
    "                          ['Entropy', 'Entropy (scaled)', \n",
    "                           'Gini Impurity', 'Misclassification Error'],\n",
    "                          ['-', '-', '--', '-.'],\n",
    "                          ['black', 'lightgray', 'red', 'green', 'cyan']):\n",
    "    line = ax.plot(x, i, label=lab, linestyle=ls, lw=2, color=c)\n",
    "\n",
    "ax.legend(loc='upper center', bbox_to_anchor=(0.5, 1.15),\n",
    "          ncol=3, fancybox=True, shadow=False)\n",
    "\n",
    "ax.axhline(y=0.5, linewidth=1, color='k', linestyle='--')\n",
    "ax.axhline(y=1.0, linewidth=1, color='k', linestyle='--')\n",
    "plt.ylim([0, 1.1])\n",
    "plt.xlabel('p(i=1)')\n",
    "plt.ylabel('Impurity Index')\n",
    "plt.tight_layout()\n",
    "#plt.savefig('./figures/impurity.png', dpi=300, bbox_inches='tight')\n",
    "plt.show()"
   ]
  },
  {
   "cell_type": "markdown",
   "metadata": {
    "slideshow": {
     "slide_type": "subslide"
    }
   },
   "source": [
    "## Building a decision tree\n",
    "\n",
    "A finite number of choices for split\n",
    "\n",
    "Split only alone boundaries of different classes\n",
    "\n",
    "Exactly where? Maxmize margins\n"
   ]
  },
  {
   "cell_type": "code",
   "execution_count": 27,
   "metadata": {
    "collapsed": false,
    "slideshow": {
     "slide_type": "fragment"
    }
   },
   "outputs": [
    {
     "data": {
      "image/png": "[encoded data removed]",
      "text/plain": [
       "<matplotlib.figure.Figure at 0x2b52c015278>"
      ]
     },
     "metadata": {},
     "output_type": "display_data"
    }
   ],
   "source": [
    "from sklearn.tree import DecisionTreeClassifier\n",
    "\n",
    "tree = DecisionTreeClassifier(criterion='entropy', max_depth=3, random_state=0)\n",
    "tree.fit(X_train, y_train)\n",
    "\n",
    "X_combined = np.vstack((X_train, X_test))\n",
    "y_combined = np.hstack((y_train, y_test))\n",
    "plot_decision_regions(X_combined, y_combined, \n",
    "                      classifier=tree, test_idx=test_idx,\n",
    "                      xlabel='petal length [cm]',ylabel='petal width [cm]')"
   ]
  },
  {
   "cell_type": "markdown",
   "metadata": {
    "slideshow": {
     "slide_type": "fragment"
    }
   },
   "source": [
    "## Visualize the decision tree"
   ]
  },
  {
   "cell_type": "code",
   "execution_count": 28,
   "metadata": {
    "collapsed": false,
    "slideshow": {
     "slide_type": "fragment"
    }
   },
   "outputs": [],
   "source": [
    "from sklearn.tree import export_graphviz\n",
    "\n",
    "export_graphviz(tree, \n",
    "                out_file='tree.dot', \n",
    "                feature_names=['petal length', 'petal width'])"
   ]
  },
  {
   "cell_type": "markdown",
   "metadata": {
    "collapsed": false,
    "slideshow": {
     "slide_type": "fragment"
    }
   },
   "source": [
    "Install [Graphviz](http://www.graphviz.org/)\n",
    "\n",
    "<!--\n",
    "<img src=\"./images/03_18.png\" width=80%>\n",
    "-->\n",
    "\n",
    "dot -Tsvg tree.dot -o tree.svg\n",
    "\n",
    "<img src=\"./images/tree.svg\" width=80%>"
   ]
  },
  {
   "cell_type": "markdown",
   "metadata": {
    "slideshow": {
     "slide_type": "notes"
    }
   },
   "source": [
    "# Decisions trees and SVM\n",
    "\n",
    "* SVM considers only margins to nearest samples to the decision boundary\n",
    "* Decision tree considers all samples\n",
    "\n",
    "Case studies"
   ]
  },
  {
   "cell_type": "markdown",
   "metadata": {
    "slideshow": {
     "slide_type": "subslide"
    }
   },
   "source": [
    "## Pruning a decision tree\n",
    "\n",
    "Split until all leaf nodes are pure?\n"
   ]
  },
  {
   "cell_type": "markdown",
   "metadata": {
    "slideshow": {
     "slide_type": "fragment"
    }
   },
   "source": [
    "* not always a good idea due to potential over-fitting"
   ]
  },
  {
   "cell_type": "markdown",
   "metadata": {
    "slideshow": {
     "slide_type": "fragment"
    }
   },
   "source": [
    "Simplify the tree via pruning\n",
    "\n",
    "Pre-pruning\n",
    "* stop splitting a node if the contained data size is below some threshold (e.g. 5% of all data)\n",
    "\n",
    "Post-pruning\n",
    "* build a tree first, and remove excessive branches\n",
    "* reserve a pruning subset separate from the training data\n",
    "* for each sub-tree (top-down or bottom-up), replace it with a leaf node labeled with the majority vote if not worsen performance for the pruning subset\n",
    "\n",
    "Pre-pruning is simpler, post-pruning works better"
   ]
  },
  {
   "cell_type": "markdown",
   "metadata": {
    "slideshow": {
     "slide_type": "slide"
    }
   },
   "source": [
    "## Combining weak to strong learners via random forests\n",
    "\n",
    "Forest = collection of trees\n",
    "\n",
    "An example of ensemble learning (more about this later)\n",
    "* combine multiple weak learners to build a strong learner\n",
    "* better generalization, less overfitting\n",
    "\n",
    "Less interpretable than a single tree"
   ]
  },
  {
   "cell_type": "markdown",
   "metadata": {
    "slideshow": {
     "slide_type": "subslide"
    }
   },
   "source": [
    "### Random forest algorithm\n",
    "\n",
    "Decide how many trees to build\n",
    "\n",
    "To train each tree:\n",
    "* Draw a random subset of samples (e.g. random sample with replacement of all samples)\n",
    "* Split each node via a random subset of features (e.g. $d = \\sqrt{m}$ of the original dimensionality)\n",
    "\n",
    "(randomization is a key)\n",
    "\n",
    "Majority vote from all trees"
   ]
  },
  {
   "cell_type": "markdown",
   "metadata": {
    "slideshow": {
     "slide_type": "subslide"
    }
   },
   "source": [
    "### Code example"
   ]
  },
  {
   "cell_type": "code",
   "execution_count": 29,
   "metadata": {
    "collapsed": false,
    "slideshow": {
     "slide_type": "fragment"
    }
   },
   "outputs": [
    {
     "data": {
      "image/png": "[encoded data removed]",
      "text/plain": [
       "<matplotlib.figure.Figure at 0x2b52c01f048>"
      ]
     },
     "metadata": {},
     "output_type": "display_data"
    }
   ],
   "source": [
    "from sklearn.ensemble import RandomForestClassifier\n",
    "\n",
    "forest = RandomForestClassifier(criterion='entropy',\n",
    "                                n_estimators=10, \n",
    "                                random_state=1,\n",
    "                                n_jobs=2)\n",
    "forest.fit(X_train, y_train)\n",
    "\n",
    "plot_decision_regions(X_combined, y_combined, \n",
    "                      classifier=forest, test_idx=test_idx,\n",
    "                      xlabel = 'petal length [cm]', ylabel = 'petal width [cm]')"
   ]
  },
  {
   "cell_type": "markdown",
   "metadata": {
    "slideshow": {
     "slide_type": "slide"
    }
   },
   "source": [
    "# Reading\n",
    "* PML Chapter 3\n",
    "* IML Chapter 9"
   ]
  },
  {
   "cell_type": "markdown",
   "metadata": {
    "slideshow": {
     "slide_type": "slide"
    }
   },
   "source": [
    "# Parametric versus non-parametric models\n",
    "\n",
    "* (fixed) number of parameters trained and retained\n",
    "* amount of data retained\n",
    "* trade-off between training and evaluation time\n",
    "\n",
    "## Example\n",
    "\n",
    "Linear classifiers (SVM, perceptron)\n",
    "* parameters: $\\mathbf{w}$\n",
    "* data throw away after training\n",
    "* extreme end of parametric\n",
    "\n",
    "Kernel SVM\n",
    "* depends on the type of kernel used (exercise)\n",
    "\n",
    "Decision tree\n",
    "* parameters: decision boundaries at all nodes\n",
    "* number of parameters vary depending on the training data\n",
    "* data throw away after training\n",
    "* less parametric than SVM\n",
    "\n",
    "Personal take:\n",
    "Parametric versus non-parametric is more of a continuous spectrum than a binary decision.\n",
    "Many algorithms lie somewhere in between."
   ]
  },
  {
   "cell_type": "markdown",
   "metadata": {
    "slideshow": {
     "slide_type": "slide"
    }
   },
   "source": [
    "# K-nearest neighbors - a lazy learning algorithm\n",
    "\n",
    "KNN keeps all data and has no trained parameters\n",
    "* extreme end of non-parametric"
   ]
  },
  {
   "cell_type": "markdown",
   "metadata": {
    "collapsed": false,
    "slideshow": {
     "slide_type": "fragment"
    }
   },
   "source": [
    "How it works:\n",
    "* Choose the number $k$ of neighbors and a distance measure\n",
    "* For each sample to classify, find the $k$ nearest neighbors in the dataset\n",
    "* Assign class label via majority vote\n",
    "\n",
    "$k$ is a hyper-parameter (picked by human), not a (ordinary) parameter (trained from data by machines)\n",
    "\n",
    "<img src=\"./images/03_20.png\" width=75%> \n",
    "\n",
    "Pro:\n",
    "* zero training time\n",
    "* very simple\n",
    "\n",
    "Con:\n",
    "* need to keep all data\n",
    "* evaluation time linearly proportional to data size (acceleration possible though, e.g. kd-tree)\n",
    "* vulnerable to curse of dimensionality"
   ]
  },
  {
   "cell_type": "markdown",
   "metadata": {
    "slideshow": {
     "slide_type": "subslide"
    }
   },
   "source": [
    "## Practical usage\n",
    "\n",
    "[Minkowski distance](https://en.wikipedia.org/wiki/Minkowski_distance) of order $p$:\n",
    "$\n",
    "d(\\mathbf{x}, \\mathbf{y}) = \\sqrt[p]{\\sum_k |\\mathbf{x}_k - \\mathbf{y}_k|^p}\n",
    "$ \n",
    "* $p = 2$, Euclidean distance\n",
    "* $p = 1$, Manhattan distance\n",
    "\n",
    "<a href=\"https://en.wikipedia.org/wiki/Minkowski_distance\">\n",
    "<img src=\"https://upload.wikimedia.org/wikipedia/commons/0/00/2D_unit_balls.svg\">\n",
    "</a>\n",
    "\n",
    "Number of neighbors $k$ trade-off between bias and variance\n",
    "* too small $k$ - low bias, high variance"
   ]
  },
  {
   "cell_type": "code",
   "execution_count": 30,
   "metadata": {
    "collapsed": false,
    "slideshow": {
     "slide_type": "fragment"
    }
   },
   "outputs": [
    {
     "data": {
      "image/png": "[encoded data removed]",
      "text/plain": [
       "<matplotlib.figure.Figure at 0x2b52c055b70>"
      ]
     },
     "metadata": {},
     "output_type": "display_data"
    }
   ],
   "source": [
    "from sklearn.neighbors import KNeighborsClassifier\n",
    "\n",
    "knn = KNeighborsClassifier(n_neighbors=5, p=2, metric='minkowski')\n",
    "knn.fit(X_train_std, y_train)\n",
    "\n",
    "plot_decision_regions(X_combined_std, y_combined, \n",
    "                      classifier=knn, test_idx=test_idx, \n",
    "                      xlabel='petal length [standardized]', ylabel='petal width [standardized]')"
   ]
  },
  {
   "cell_type": "code",
   "execution_count": 31,
   "metadata": {
    "collapsed": false,
    "slideshow": {
     "slide_type": "fragment"
    }
   },
   "outputs": [
    {
     "data": {
      "image/png": "[encoded data removed]",
      "text/plain": [
       "<matplotlib.figure.Figure at 0x2b52c03bef0>"
      ]
     },
     "metadata": {},
     "output_type": "display_data"
    }
   ],
   "source": [
    "from sklearn.neighbors import KNeighborsClassifier\n",
    "\n",
    "knn = KNeighborsClassifier(n_neighbors=1, p=2, metric='minkowski')\n",
    "knn.fit(X_train_std, y_train)\n",
    "\n",
    "plot_decision_regions(X_combined_std, y_combined, \n",
    "                      classifier=knn, test_idx=test_idx, \n",
    "                      xlabel='petal length [standardized]', ylabel='petal width [standardized]')"
   ]
  },
  {
   "cell_type": "markdown",
   "metadata": {
    "slideshow": {
     "slide_type": "fragment"
    }
   },
   "source": [
    "Too small k can cause overfitting (high variance)."
   ]
  },
  {
   "cell_type": "code",
   "execution_count": 32,
   "metadata": {
    "collapsed": false,
    "slideshow": {
     "slide_type": "fragment"
    }
   },
   "outputs": [
    {
     "data": {
      "image/png": "[encoded data removed]",
      "text/plain": [
       "<matplotlib.figure.Figure at 0x2b52527bba8>"
      ]
     },
     "metadata": {},
     "output_type": "display_data"
    }
   ],
   "source": [
    "from sklearn.neighbors import KNeighborsClassifier\n",
    "\n",
    "knn = KNeighborsClassifier(n_neighbors=100, p=2, metric='minkowski')\n",
    "knn.fit(X_train_std, y_train)\n",
    "\n",
    "plot_decision_regions(X_combined_std, y_combined, \n",
    "                      classifier=knn, test_idx=test_idx, \n",
    "                      xlabel='petal length [standardized]', ylabel='petal width [standardized]')"
   ]
  },
  {
   "cell_type": "markdown",
   "metadata": {
    "slideshow": {
     "slide_type": "fragment"
    }
   },
   "source": [
    "Too large k can cause under-fitting (high bias)."
   ]
  },
  {
   "cell_type": "markdown",
   "metadata": {
    "slideshow": {
     "slide_type": "fragment"
    }
   },
   "source": [
    "How about using different $p$ values for Minkowski distance?"
   ]
  },
  {
   "cell_type": "code",
   "execution_count": 33,
   "metadata": {
    "collapsed": false,
    "slideshow": {
     "slide_type": "fragment"
    }
   },
   "outputs": [
    {
     "data": {
      "image/png": "[encoded data removed]",
      "text/plain": [
       "<matplotlib.figure.Figure at 0x2b52adf2400>"
      ]
     },
     "metadata": {},
     "output_type": "display_data"
    }
   ],
   "source": [
    "from sklearn.neighbors import KNeighborsClassifier\n",
    "\n",
    "knn = KNeighborsClassifier(n_neighbors=5, p=1, metric='minkowski')\n",
    "knn.fit(X_train_std, y_train)\n",
    "\n",
    "plot_decision_regions(X_combined_std, y_combined, \n",
    "                      classifier=knn, test_idx=test_idx, \n",
    "                      xlabel='petal length [standardized]', ylabel='petal width [standardized]')"
   ]
  },
  {
   "cell_type": "code",
   "execution_count": 34,
   "metadata": {
    "collapsed": false,
    "slideshow": {
     "slide_type": "fragment"
    }
   },
   "outputs": [
    {
     "data": {
      "image/png": "[encoded data removed]",
      "text/plain": [
       "<matplotlib.figure.Figure at 0x2b52a0290b8>"
      ]
     },
     "metadata": {},
     "output_type": "display_data"
    }
   ],
   "source": [
    "from sklearn.neighbors import KNeighborsClassifier\n",
    "\n",
    "knn = KNeighborsClassifier(n_neighbors=5, p=10, metric='minkowski')\n",
    "knn.fit(X_train_std, y_train)\n",
    "\n",
    "plot_decision_regions(X_combined_std, y_combined, \n",
    "                      classifier=knn, test_idx=test_idx, \n",
    "                      xlabel='petal length [standardized]', ylabel='petal width [standardized]')"
   ]
  },
  {
   "cell_type": "markdown",
   "metadata": {
    "collapsed": true,
    "slideshow": {
     "slide_type": "slide"
    }
   },
   "source": [
    "# Reading\n",
    "* PML Chapter 3"
   ]
  }
 ],
 "metadata": {
  "anaconda-cloud": {},
  "celltoolbar": "Slideshow",
  "kernelspec": {
   "display_name": "Python [Root]",
   "language": "python",
   "name": "Python [Root]"
  },
  "language_info": {
   "codemirror_mode": {
    "name": "ipython",
    "version": 3
   },
   "file_extension": ".py",
   "mimetype": "text/x-python",
   "name": "python",
   "nbconvert_exporter": "python",
   "pygments_lexer": "ipython3",
   "version": "3.5.2"
  }
 },
 "nbformat": 4,
 "nbformat_minor": 0
}
