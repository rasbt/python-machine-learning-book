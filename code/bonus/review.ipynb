{
 "cells": [
  {
   "cell_type": "markdown",
   "metadata": {
    "slideshow": {
     "slide_type": "slide"
    }
   },
   "source": [
    "# Review basic math\n",
    "\n",
    "* Linear algebra\n",
    "* Calculus\n",
    "* Optimization\n",
    "* Probability\n",
    " * including statistics and information theory\n"
   ]
  },
  {
   "cell_type": "markdown",
   "metadata": {
    "slideshow": {
     "slide_type": "slide"
    }
   },
   "source": [
    "# Linear algebra\n",
    "\n",
    "Matrix/vector addition and multiplication\n",
    "\n",
    "Eigen value/vector"
   ]
  },
  {
   "cell_type": "markdown",
   "metadata": {
    "slideshow": {
     "slide_type": "slide"
    }
   },
   "source": [
    "# Calculus\n",
    "\n",
    "Differentiation\n",
    "* single- and multi-variable\n",
    "\n",
    "Vector calculus\n",
    "* gradient"
   ]
  },
  {
   "cell_type": "markdown",
   "metadata": {
    "slideshow": {
     "slide_type": "slide"
    }
   },
   "source": [
    "# Optimization\n",
    "\n",
    "Critical points\n",
    "* local/global $\\times$ minimum/maximum/saddle\n",
    "\n",
    "Gradient descent\n",
    "\n",
    "Constrained optimization\n",
    "* Lagrangian multiplier"
   ]
  },
  {
   "cell_type": "markdown",
   "metadata": {
    "slideshow": {
     "slide_type": "slide"
    }
   },
   "source": [
    "# Probability\n",
    "\n",
    "Probability space\n",
    "* discrete - probability mass function\n",
    "* continuous - probability density function\n",
    "\n",
    "Statistics\n",
    "* expectation\n",
    "* bias and variance\n",
    "\n",
    "Conditional probability\n",
    "* will need this for Bayesian estimation\n",
    "\n",
    "Information theory\n",
    "* entropy (example using A, C, G, T letters for genome)"
   ]
  }
 ],
 "metadata": {
  "celltoolbar": "Slideshow",
  "kernelspec": {
   "display_name": "Python [Root]",
   "language": "python",
   "name": "Python [Root]"
  },
  "language_info": {
   "codemirror_mode": {
    "name": "ipython",
    "version": 3
   },
   "file_extension": ".py",
   "mimetype": "text/x-python",
   "name": "python",
   "nbconvert_exporter": "python",
   "pygments_lexer": "ipython3",
   "version": "3.5.2"
  }
 },
 "nbformat": 4,
 "nbformat_minor": 0
}
