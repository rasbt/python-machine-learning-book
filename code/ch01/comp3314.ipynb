{
 "cells": [
  {
   "cell_type": "markdown",
   "metadata": {
    "slideshow": {
     "slide_type": "slide"
    }
   },
   "source": [
    "# COMP3314 - Machine Learning\n",
    "\n",
    "Autumn 2016"
   ]
  },
  {
   "cell_type": "markdown",
   "metadata": {
    "slideshow": {
     "slide_type": "slide"
    }
   },
   "source": [
    "# When\n",
    "\n",
    "* Tue 16:30-18:20\n",
    "* Fri 17:30-18:20\n",
    "\n",
    "\n",
    "# Where\n",
    "* CBA for lecture\n",
    "* Tutorial: we can stay in CBA if everyone can bring their own laptop\n",
    "\n",
    "Better to have your own machine for the assignments and in-class experiments"
   ]
  },
  {
   "cell_type": "markdown",
   "metadata": {
    "slideshow": {
     "slide_type": "subslide"
    }
   },
   "source": [
    "# Who\n",
    "\n",
    "* Tutor (i.e. the real boss who grades your stuff)\n",
    " * Mengqi PENG\n",
    "\n",
    "* Instructor\n",
    " * Li-Yi WEI\n",
    "\n",
    "For faster response, please use the Moodle discussion board for general questions, and email us (c3314 at cs.hku.hk) only for personal matters. "
   ]
  },
  {
   "cell_type": "markdown",
   "metadata": {
    "slideshow": {
     "slide_type": "slide"
    }
   },
   "source": [
    "# Mediums\n",
    "\n",
    "* [Moodle](http://moodle.hku.hk/course/view.php?id=44222)\n",
    "* [github](https://github.com/1iyiwei/pyml/), including [wiki](https://github.com/1iyiwei/pyml/wiki) and [schedule](https://github.com/1iyiwei/pyml/wiki/Schedule)\n",
    "\n",
    "# Books\n",
    "\n",
    "* Python Machine Learning, by Sebastian Raschka\n",
    " * code and experiments\n",
    " \n",
    "<img src=\"https://github.com/rasbt/python-machine-learning-book/raw/master/images/pymle_cover_double_small.jpg\" width=30%>\n",
    "\n",
    "* Introduction to Machine Learning, by Ethem Alpaydin\n",
    " * math and theory\n",
    "\n",
    "<img src=\"http://www.cmpe.boun.edu.tr/~ethem/i2ml2e/index_files/image003.jpg\" width=15%>"
   ]
  },
  {
   "cell_type": "markdown",
   "metadata": {
    "slideshow": {
     "slide_type": "slide"
    }
   },
   "source": [
    "# Scope\n",
    "\n",
    "Core machine learning concepts and practices:\n",
    " * models\n",
    " * algorithms\n",
    " * math/theory\n",
    " * experiments"
   ]
  },
  {
   "cell_type": "markdown",
   "metadata": {
    "slideshow": {
     "slide_type": "slide"
    }
   },
   "source": [
    "\n",
    "# Math & Code\n",
    "\n",
    "Both are important for this class\n",
    "\n",
    "Lacking one may hamper your performance and enjoyment\n",
    "\n",
    "Lacking both may be fatal\n",
    "\n",
    "I don't know your background, so let me know if the class is too fast/slow/easy/difficult etc."
   ]
  },
  {
   "cell_type": "markdown",
   "metadata": {
    "slideshow": {
     "slide_type": "slide"
    }
   },
   "source": [
    "# Prerequisite\n",
    "\n",
    "You decide whether you are ready!\n",
    "\n",
    "## Math\n",
    "\n",
    "* calculus\n",
    "* linear algebra\n",
    "* probability\n",
    "* numerical optimization\n",
    "\n",
    "## Coding\n",
    "* python\n",
    "\n",
    "## Tools\n",
    "* anaconda\n",
    " * scikit-learn\n",
    " * ipynb\n",
    "* git"
   ]
  },
  {
   "cell_type": "markdown",
   "metadata": {
    "slideshow": {
     "slide_type": "slide"
    }
   },
   "source": [
    "# Enrollment\n",
    "\n",
    "I am NOT authorized to approve course enrollment\n",
    "\n",
    "## Really!\n",
    "\n",
    "Please contact the CS office\n",
    "* Smitty smitty@cs.hku.hk\n",
    "* Phoenix pto@cs.hku.hk"
   ]
  },
  {
   "cell_type": "markdown",
   "metadata": {
    "slideshow": {
     "slide_type": "slide"
    }
   },
   "source": [
    "# Grading\n",
    "\n",
    "* Assignments (50%)\n",
    " * via ipynb to contain everything (text, math, code, data, image, etc.) \n",
    " * likely 5~7, depending on progress\n",
    "* Final exam (50%)"
   ]
  },
  {
   "cell_type": "markdown",
   "metadata": {
    "slideshow": {
     "slide_type": "fragment"
    }
   },
   "source": [
    "* Attendance\n",
    " * I skipped most classes as a student"
   ]
  },
  {
   "cell_type": "markdown",
   "metadata": {
    "slideshow": {
     "slide_type": "slide"
    }
   },
   "source": [
    "# Questions?"
   ]
  }
 ],
 "metadata": {
  "anaconda-cloud": {},
  "celltoolbar": "Slideshow",
  "kernelspec": {
   "display_name": "Python [Root]",
   "language": "python",
   "name": "Python [Root]"
  },
  "language_info": {
   "codemirror_mode": {
    "name": "ipython",
    "version": 3
   },
   "file_extension": ".py",
   "mimetype": "text/x-python",
   "name": "python",
   "nbconvert_exporter": "python",
   "pygments_lexer": "ipython3",
   "version": "3.5.2"
  }
 },
 "nbformat": 4,
 "nbformat_minor": 0
}
