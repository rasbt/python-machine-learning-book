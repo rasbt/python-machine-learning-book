{
 "cells": [
  {
   "cell_type": "markdown",
   "metadata": {},
   "source": [
    "# Header\n",
    "\n",
    "here is some text"
   ]
  },
  {
   "cell_type": "markdown",
   "metadata": {},
   "source": [
    "<h1> \n",
    "HTML header\n",
    "</h1>\n",
    "\n",
    "We can have <b>bold</b> font.\n",
    "\n",
    "<ul>\n",
    "<li>\n",
    "this is item 1\n",
    "<li>\n",
    "this is another item\n",
    "</ul>"
   ]
  },
  {
   "cell_type": "markdown",
   "metadata": {},
   "source": [
    "# Latex formula example\n",
    "\n",
    "$$\n",
    "E = mc^2\n",
    "$$\n",
    "\n",
    "$$\n",
    "\\int \\sin(\\theta) d \\theta\n",
    "$$\n",
    "\n",
    "$$\n",
    "b = \\sqrt{\\frac{a+b}{2}}\n",
    "$$"
   ]
  },
  {
   "cell_type": "markdown",
   "metadata": {},
   "source": [
    "$$\n",
    "ax^2 + bx +c = 0\n",
    "$$\n",
    "\n",
    "Root:\n",
    "$$\n",
    "\\frac{-b \\pm \\sqrt{b^2-4ac}}{2a}\n",
    "$$"
   ]
  },
  {
   "cell_type": "code",
   "execution_count": 2,
   "metadata": {
    "collapsed": false
   },
   "outputs": [
    {
     "data": {
      "text/plain": [
       "(-3.0, -4.0)"
      ]
     },
     "execution_count": 2,
     "metadata": {},
     "output_type": "execute_result"
    }
   ],
   "source": [
    "# this is a code example\n",
    "import numpy as np\n",
    "\n",
    "def find_root(a, b, c):\n",
    "    det = np.sqrt(b*b - 4*a*c)\n",
    "    root1 = (-b + det)/(2*a)\n",
    "    root2 = (-b - det)/(2*a)\n",
    "    \n",
    "    return root1, root2\n",
    "\n",
    "find_root(1, 7, 12)"
   ]
  }
 ],
 "metadata": {
  "anaconda-cloud": {},
  "kernelspec": {
   "display_name": "Python [Root]",
   "language": "python",
   "name": "Python [Root]"
  },
  "language_info": {
   "codemirror_mode": {
    "name": "ipython",
    "version": 3
   },
   "file_extension": ".py",
   "mimetype": "text/x-python",
   "name": "python",
   "nbconvert_exporter": "python",
   "pygments_lexer": "ipython3",
   "version": "3.5.2"
  }
 },
 "nbformat": 4,
 "nbformat_minor": 0
}
