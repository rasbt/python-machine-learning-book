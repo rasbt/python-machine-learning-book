{
 "cells": [
  {
   "cell_type": "markdown",
   "metadata": {
    "slideshow": {
     "slide_type": "skip"
    }
   },
   "source": [
    "Copyright (c) 2015, 2016 [Sebastian Raschka](sebastianraschka.com)\n",
    "<br>\n",
    "2016 [Li-Yi Wei](http://www.liyiwei.org/)\n",
    "\n",
    "https://github.com/1iyiwei/pyml\n",
    "\n",
    "[MIT License](https://github.com/1iyiwei/pyml/blob/master/LICENSE.txt)"
   ]
  },
  {
   "cell_type": "markdown",
   "metadata": {
    "slideshow": {
     "slide_type": "skip"
    }
   },
   "source": [
    "# Python Machine Learning - Code Examples"
   ]
  },
  {
   "cell_type": "markdown",
   "metadata": {
    "slideshow": {
     "slide_type": "slide"
    }
   },
   "source": [
    "# Chapter 12 - Training Artificial Neural Networks for Image Recognition\n",
    "\n",
    "Deep learning\n",
    "* hot topic\n",
    "* neural networks with many layers (i.e. in the range of hundreds or thousands) \n",
    "\n",
    "Basic understanding of multi-layer neural networks\n",
    "* predict via forward propagation\n",
    "* training via backp ropagation\n",
    "* application in handwritten digit classification\n",
    "* debugging\n",
    "\n",
    "Other types of neural networks\n",
    "* CNN - convolutional neural networks\n",
    "* RNN - recurrent neural networks"
   ]
  },
  {
   "cell_type": "markdown",
   "metadata": {
    "slideshow": {
     "slide_type": "skip"
    }
   },
   "source": [
    "Note that the optional watermark extension is a small IPython notebook plugin that I developed to make the code reproducible. You can just skip the following line(s)."
   ]
  },
  {
   "cell_type": "code",
   "execution_count": 1,
   "metadata": {
    "collapsed": false,
    "slideshow": {
     "slide_type": "skip"
    }
   },
   "outputs": [
    {
     "name": "stdout",
     "output_type": "stream",
     "text": [
      "last updated: 2016-10-05 \n",
      "\n",
      "CPython 3.5.2\n",
      "IPython 4.2.0\n",
      "\n",
      "numpy 1.11.1\n",
      "scipy 0.17.1\n",
      "matplotlib 1.5.1\n"
     ]
    }
   ],
   "source": [
    "%load_ext watermark\n",
    "%watermark -a '' -u -d -v -p numpy,scipy,matplotlib"
   ]
  },
  {
   "cell_type": "markdown",
   "metadata": {
    "collapsed": true,
    "slideshow": {
     "slide_type": "skip"
    }
   },
   "source": [
    "*The use of `watermark` is optional. You can install this IPython extension via \"`pip install watermark`\". For more information, please see: https://github.com/rasbt/watermark.*"
   ]
  },
  {
   "cell_type": "markdown",
   "metadata": {
    "slideshow": {
     "slide_type": "subslide"
    }
   },
   "source": [
    "### Overview\n",
    "\n",
    "- [Modeling complex functions with artificial neural networks](#Modeling-complex-functions-with-artificial-neural-networks)\n",
    "  - [Single-layer neural network recap](#Single-layer-neural-network-recap)\n",
    "  - [Introducing the multi-layer neural network architecture](#Introducing-the-multi-layer-neural-network-architecture)\n",
    "  - [Activating a neural network via forward propagation](#Activating-a-neural-network-via-forward-propagation)\n",
    "- [Classifying handwritten digits](#Classifying-handwritten-digits)\n",
    "  - [Obtaining the MNIST dataset](#Obtaining-the-MNIST-dataset)\n",
    "  - [Implementing a multi-layer perceptron](#Implementing-a-multi-layer-perceptron)\n",
    "- [Training an artificial neural network](#Training-an-artificial-neural-network)\n",
    "  - [Computing the logistic cost function](#Computing-the-logistic-cost-function)\n",
    "  - [Training neural networks via backpropagation](#Training-neural-networks-via-backpropagation)\n",
    "- [Developing your intuition for backpropagation](#Developing-your-intuition-for-backpropagation)\n",
    "- [Debugging neural networks with gradient checking](#Debugging-neural-networks-with-gradient-checking)\n",
    "- [Convergence in neural networks](#Convergence-in-neural-networks)\n",
    "- [Other neural network architectures](#Other-neural-network-architectures)\n",
    "  - [Convolutional Neural Networks](#Convolutional-Neural-Networks)\n",
    "  - [Recurrent Neural Networks](#Recurrent-Neural-Networks)\n",
    "- [A few last words about neural network implementation](#A-few-last-words-about-neural-network-implementation)\n",
    "- [Summary](#Summary)"
   ]
  },
  {
   "cell_type": "code",
   "execution_count": 2,
   "metadata": {
    "collapsed": false,
    "slideshow": {
     "slide_type": "skip"
    }
   },
   "outputs": [],
   "source": [
    "from IPython.display import Image\n",
    "%matplotlib inline"
   ]
  },
  {
   "cell_type": "markdown",
   "metadata": {
    "slideshow": {
     "slide_type": "slide"
    }
   },
   "source": [
    "# Modeling complex functions with artificial neural networks\n",
    "\n",
    "We introduced single-layer neural networks for linear classification.\n",
    "\n",
    "Mutli-layer neural network is an extension of single-layer neural networks.\n",
    "\n",
    "A bit history of multi-layer neural networks:\n",
    "* Started in the 1950s, but has been limited by available data and computation power.\n",
    "* Regained popularity in recent years due to data explosion and Moore's law.\n",
    "\n",
    "Simple algorithms can work well with enough data and computation\n",
    "* [bid your time](http://www.macleans.ca/society/science/the-meaning-of-alphago-the-ai-program-that-beat-a-go-champ/)\n",
    "\n",
    "Many cool applications:\n",
    "* largely pursued by companies such as Google, Facebook, Amazon, Microsoft, Apple, Baidu, etc."
   ]
  },
  {
   "cell_type": "markdown",
   "metadata": {
    "slideshow": {
     "slide_type": "subslide"
    }
   },
   "source": [
    "## Single-layer neural network recap\n",
    "\n",
    "<img src='./images/12_01.png' width=80%> \n",
    "\n",
    "$\\mathbf{x}$: input sample,\n",
    "$y$: corresponding label\n",
    "\n",
    "$\\mathbf{w}$: weight parameters\n",
    "\n",
    "$\\mathbf{z}$: linear input\n",
    "$$\n",
    "z = \\mathbf{w}^T \\mathbf{x}\n",
    "$$\n",
    "\n",
    "$a$: activation,\n",
    "$\\phi$: activation function:\n",
    "$$\n",
    "a = \\phi(z)\n",
    "$$\n",
    "\n",
    "* Direct thresholding - perceptron\n",
    "\n",
    "* Linear activation function - Adaline\n",
    "$$\n",
    "\\phi(z) = z\n",
    "$$\n",
    "\n",
    "* Sigmoid activation function - logistic regression\n",
    "$$\n",
    "\\phi(z) = \\frac{1}{1+e^{-z}}\n",
    "$$\n",
    "\n",
    "$\\hat{y}$: predicted output\n",
    "$$\n",
    "\\begin{align}\n",
    "\\hat{y} &= \n",
    "\\begin{cases}\n",
    "1 & \\phi(z) \\geq 0\n",
    "\\\\ \n",
    "-1 & \\phi(z) < 0\n",
    "\\end{cases}\n",
    "\\end{align}\n",
    "$$"
   ]
  },
  {
   "cell_type": "markdown",
   "metadata": {
    "slideshow": {
     "slide_type": "fragment"
    }
   },
   "source": [
    "### Training single-layer network\n",
    "\n",
    "#### Objective function\n",
    "\n",
    "Sum-of-squared error for linear activation:\n",
    "$$\n",
    "\\begin{align}\n",
    "J\\left(\\mathbf{w}\\right) = \\frac{1}{2} \\sum_i \\left( \\phi\\left(z^{(i)}\\right) - y^{(i)} \\right)^2\n",
    "\\end{align}\n",
    "$$\n",
    "\n",
    "Logistic regression for Sigmoid:\n",
    "$$\n",
    "\\begin{align}\n",
    "J\\left(\\mathbf{w} \\right) = \\sum_i -y^{(i)}\\log\\left(\\phi\\left(z^{(i)}\\right)\\right) - \\left(1 - y^{(i)} \\right) \\log\\left(1 - \\phi\\left( z^{(i)}\\right) \\right)\n",
    "\\end{align}\n",
    "$$\n",
    "\n",
    "#### Derivative\n",
    "\n",
    "With proper (clever?) combination of $J$ and $\\phi$ we can reach a simple and elegant derivative:\n",
    "$$\n",
    "\\begin{align}\n",
    "\\frac{\\partial J}{\\partial \\mathbf{w}} &=\n",
    "\\sum_i \\mathbf{x}^{(i)} \\left( \\phi\\left(z^{(i)}\\right) - y^{(i)} \\right)\n",
    "\\end{align}\n",
    "$$\n",
    "The above formula works for perceptron, adaptive linear neuron, and logistic regression.\n",
    "\n",
    "#### Gradient descent:\n",
    "$$\n",
    "\\begin{align}\n",
    "\\delta \\mathbf{w} &= -\\eta \\frac{\\partial J}{\\partial \\mathbf{w}}\n",
    "\\\\\n",
    "\\mathbf{w} &\\leftarrow \\mathbf{w} + \\delta \\mathbf{w}\n",
    "\\end{align}\n",
    "$$\n",
    "\n",
    "Stochastic gradient descent\n",
    "* Just take a subset instead of all samples in computing $\\frac{\\partial J}{\\partial \\mathbf{w}}$"
   ]
  },
  {
   "cell_type": "markdown",
   "metadata": {
    "slideshow": {
     "slide_type": "slide"
    }
   },
   "source": [
    "## Introducing the multi-layer neural network architecture\n",
    "\n",
    "We can extend single layer networks to multiple layers\n",
    "\n",
    "Often called:\n",
    "* multi-layer feedforward neural network\n",
    "* multi-layer perceptron (MLP) even if other types of activations are used"
   ]
  },
  {
   "cell_type": "markdown",
   "metadata": {
    "collapsed": false,
    "slideshow": {
     "slide_type": "fragment"
    }
   },
   "source": [
    "### MLP example\n",
    "\n",
    "One hidden layer\n",
    "\n",
    "Two weight layers\n",
    "* input layer fully connected to hidden layer\n",
    "* hidden layer fully connected to output layer\n",
    "\n",
    "Connection types\n",
    "* full: every node in one layer is connected to every node in another layer\n",
    "* other types possible, such as convolutional (to describe later)\n",
    "\n",
    "<img src='./images/12_02.png' width=60%> \n",
    "\n",
    "Hyper-parameters\n",
    "* network architecture\n",
    "* number of layers\n",
    "* number of nodes in each layer\n",
    "* bias: $x_0 = a_0 = 1$"
   ]
  },
  {
   "cell_type": "markdown",
   "metadata": {
    "collapsed": false,
    "slideshow": {
     "slide_type": "fragment"
    }
   },
   "source": [
    "### MLP representation\n",
    "\n",
    "$\\mathbf{a}_j^{(i)}$: $j$th node in the $i$th activation layer\n",
    "\n",
    "$\\mathbf{a}^{(1)} = \\mathbf{x}$: the input can be considered as the first activation\n",
    "\n",
    "$\\mathbf{W}_{j,k}^{(\\ell)}$: weight connecting $k$th node in layer $\\ell$ to $j$th node in layer $\\ell+1$\n",
    "* like for matrix multiplication: $\\mathbf{z}^{\\ell+1} = \\mathbf{W}^{(\\ell)} \\mathbf{a}^{(\\ell)}$\n",
    "\n",
    "Can have multiple outputs for multi-class classification\n",
    "* e.g. one hot: (1, 0, 0) for class 1, (0, 1, 0) for class 2, (0, 0, 1) for class 3\n",
    "\n",
    "<img src='./images/12_03.png' width=80%> "
   ]
  },
  {
   "cell_type": "markdown",
   "metadata": {
    "slideshow": {
     "slide_type": "fragment"
    }
   },
   "source": [
    "### Number of layers\n",
    "\n",
    "People use different conventions to count the number of layers for a network.\n",
    "\n",
    "Number of layers with weights \n",
    "* e.g. adding a threshold after activation does not count as another layer\n",
    "* avoid ambiguity\n",
    "* reflect computational power and complexity\n",
    "\n",
    "Number of hidden layers (with weights) for multi-layer networks\n",
    "\n",
    "Number of input + output + hidden layers\n",
    "* usually 1 + number of weight layers\n",
    "\n",
    "Deep neural network\n",
    "* conventional definition: $>1$ hidden layer\n",
    "* modern definition: a lot more than that (hundreds or thousands)"
   ]
  },
  {
   "cell_type": "markdown",
   "metadata": {
    "slideshow": {
     "slide_type": "slide"
    }
   },
   "source": [
    "# MLP classifying and training\n",
    "\n",
    "Both are extensions from the single layer networks.\n",
    "\n",
    "Called forward and backward propagation for MLP.\n",
    "\n",
    "## Overview\n",
    "\n",
    "* Classification/forward-propagation takes step 1.\n",
    "* Training/back-propagation repeats steps 1 to 3 (through multiple batches/epochs).\n",
    "\n",
    "1.\n",
    "Starting at the input layer, we forward propagate the activations from one layer to the next until we reach the last layer to produce the output.\n",
    "\n",
    "2.\n",
    "Based on the output, we calculate the error that we want to minimize with a cost function.\n",
    "\n",
    "3.\n",
    "We backpropagate the error, find its derivative with respect to each weight in the network, and update the model weights."
   ]
  },
  {
   "cell_type": "markdown",
   "metadata": {
    "slideshow": {
     "slide_type": "slide"
    }
   },
   "source": [
    "## Activating a neural network via forward propagation\n",
    "\n",
    "Pass the input sample $\\mathbf{x}$ through each layer of the network.\n",
    "\n",
    "Start from the input layer (initialization):\n",
    "$$\n",
    "\\begin{align}\n",
    "\\mathbf{a}^{1} = \\mathbf{x}\n",
    "\\end{align}\n",
    "$$\n",
    "\n",
    "For each layer $\\ell \\in [1, 2, \\cdots, L-1]$ where the last layer is $L$:\n",
    "$$\n",
    "\\begin{align}\n",
    "\\mathbf{z}^{(\\ell + 1)} &= \\mathbf{W}^{(\\ell)} \\mathbf{a}^{(\\ell)} \n",
    "\\\\\n",
    "\\mathbf{a}^{(\\ell + 1)} &= \\phi\\left( \\mathbf{z}^{(\\ell+1)}\\right)\n",
    "\\end{align}\n",
    "$$\n",
    "\n",
    "Compute the output via certain output function $o$ (thresholding, one-hot, softmax, etc.):\n",
    "$$\n",
    "\\hat{\\mathbf{y}} = o\\left(\\mathbf{a}^{(L)}\\right)\n",
    "$$\n",
    "\n",
    "<img src='./images/12_03.png' width=80%> "
   ]
  },
  {
   "cell_type": "markdown",
   "metadata": {
    "slideshow": {
     "slide_type": "fragment"
    }
   },
   "source": [
    "## Generalization to multiple inputs\n",
    "\n",
    "We can generalize the above to handle multiple inputs $\\mathbf{X}$ instead of just one input sample $\\mathbf{x} \\in \\mathbf{X}$.\n",
    "* Recall the rows/cols of matrix $\\mathbf{X}$ correspond to the samples/features.\n",
    "\n",
    "Matrix multiplication and vector/matrix function evaluation allow us to simply capitalize all lower case symbols into upper case ones.\n",
    "\n",
    "<img src='./images/12_11.png' width=50% align=right>\n",
    "\n",
    "Start from the input layer (initialization):\n",
    "$$\n",
    "\\begin{align}\n",
    "\\mathbf{A}^{1} = \\mathbf{X}^T\n",
    "\\end{align}\n",
    "$$\n",
    "* the transpose is to convert samples from rows into columns for subsequent matrix multiplication\n",
    "\n",
    "For each layer $\\ell \\in [1, 2, \\cdots, L-1]$ where the last layer is $L$:\n",
    "$$\n",
    "\\begin{align}\n",
    "\\mathbf{Z}^{(\\ell + 1)} &= \\mathbf{W}^{(\\ell)} \\mathbf{A}^{(\\ell)}\n",
    "\\\\\n",
    "\\mathbf{A}^{(\\ell + 1)} &= \\phi\\left( \\mathbf{Z}^{(\\ell+1)}\\right)\n",
    "\\end{align}\n",
    "$$\n",
    "\n",
    "Compute the output via certain output function $o$ (thresholding, one-hot, softmax, etc.):\n",
    "$$\n",
    "\\hat{\\mathbf{Y}} = o\\left(\\mathbf{A}^{(L)}\\right)\n",
    "$$\n"
   ]
  },
  {
   "cell_type": "markdown",
   "metadata": {
    "collapsed": false,
    "slideshow": {
     "slide_type": "fragment"
    }
   },
   "source": [
    "## Activation function\n",
    "\n",
    "Choose non-linear functions for internal activations to solve general problems.\n",
    "\n",
    "If all internal nodes have linear activation, we can show that a multi-layer network can be reduce to a single layer network.\n",
    "\n",
    "Sigmoid $\\phi(z) = \\frac{1}{1 + e^{-z}}$ and tanh $\\phi(z) = \\frac{1-e^{-z}}{1+e^{-z}}$ are common choices for activation $\\phi$ in hidden layers.\n",
    "\n",
    "ReLu is chosen for deep networks for faster convergence.\n",
    "$$\n",
    "\\phi(z) = \\max\\left(0, z\\right)\n",
    "$$\n",
    "\n",
    "<!--\n",
    "<img src='./images/12_04.png' width=80%> \n",
    "-->"
   ]
  },
  {
   "cell_type": "code",
   "execution_count": 3,
   "metadata": {
    "collapsed": false,
    "slideshow": {
     "slide_type": "fragment"
    }
   },
   "outputs": [
    {
     "data": {
      "image/png": "[encoded data removed]",
      "text/plain": [
       "<matplotlib.figure.Figure at 0x16c11c4c550>"
      ]
     },
     "metadata": {},
     "output_type": "display_data"
    },
    {
     "data": {
      "image/png": "[encoded data removed]",
      "text/plain": [
       "<matplotlib.figure.Figure at 0x16c129827b8>"
      ]
     },
     "metadata": {},
     "output_type": "display_data"
    },
    {
     "data": {
      "image/png": "[encoded data removed]",
      "text/plain": [
       "<matplotlib.figure.Figure at 0x16c12a66940>"
      ]
     },
     "metadata": {},
     "output_type": "display_data"
    }
   ],
   "source": [
    "%matplotlib inline\n",
    "import matplotlib.pyplot as plt\n",
    "import numpy as np\n",
    "\n",
    "def plot_func(x, y, title):\n",
    "    plt.plot(x, y)\n",
    "    plt.axvline(0.0, color='k')\n",
    "    plt.ylim(-1.1, 1.1)\n",
    "    plt.xlabel('z')\n",
    "    plt.ylabel('$\\phi (z)$')\n",
    "\n",
    "    # y axis ticks and gridline\n",
    "    plt.yticks([0.0, 0.5, 1.0])\n",
    "    ax = plt.gca()\n",
    "    ax.yaxis.grid(True)\n",
    "\n",
    "    plt.title(title)\n",
    "    plt.tight_layout()\n",
    "    plt.show()\n",
    "\n",
    "def linear(z):\n",
    "    return z\n",
    "\n",
    "def sigmoid(z):\n",
    "    return 1.0 / (1.0 + np.exp(-z))\n",
    "\n",
    "def tanh(z):\n",
    "    return (1.0 - np.exp(-z))/(1.0 + np.exp(-z))\n",
    "\n",
    "def relu(z):\n",
    "    return np.maximum(0, z)\n",
    "\n",
    "z = np.arange(-7, 7, 0.1)\n",
    "\n",
    "activations = ['sigmoid', 'tanh', 'relu']\n",
    "\n",
    "for i, activation in enumerate(activations):\n",
    "    if(activation == 'sigmoid'):\n",
    "        phi_z = sigmoid(z)\n",
    "    elif (activation == 'tanh'):\n",
    "        phi_z = tanh(z)\n",
    "    elif (activation == 'relu'):\n",
    "        phi_z = relu(z)\n",
    "    else:\n",
    "        phi_z = linear(z)\n",
    "        \n",
    "    plot_func(z, phi_z, activation)"
   ]
  },
  {
   "cell_type": "markdown",
   "metadata": {
    "slideshow": {
     "slide_type": "slide"
    }
   },
   "source": [
    "# Classifying handwritten digits\n",
    "\n",
    "Let's apply MLP for a practical application before talking more about math and algorithms."
   ]
  },
  {
   "cell_type": "markdown",
   "metadata": {
    "slideshow": {
     "slide_type": "subslide"
    }
   },
   "source": [
    "## The MNIST dataset\n",
    "\n",
    "A popular dataset for testing machine learning algorithms.\n",
    "\n",
    "Mixed National Institute of Standards and Technology database, constructed by Yann LeCun.\n",
    "* the origin of ATM taking checks\n",
    "\n",
    "Handwritten digits from 250 people\n",
    "* 50% high school students\n",
    "* 50% Census Bureau employees\n",
    "\n",
    "Properties\n",
    "* $\\mathbf{X}$: $28 \\times 28$-pixel images\n",
    "* $\\mathbf{y}$: labels in $[0, 1, 2, 3, 4, 5, 6, 7, 8, 9]$\n",
    "* 60,000 training samples\n",
    "* 10,000 test samples"
   ]
  },
  {
   "cell_type": "markdown",
   "metadata": {
    "slideshow": {
     "slide_type": "fragment"
    }
   },
   "source": [
    "## Obtaining the MNIST dataset\n",
    "\n",
    "The MNIST dataset is publicly available at http://yann.lecun.com/exdb/mnist/ and consists of the following four parts:\n",
    "\n",
    "- Training set images: train-images-idx3-ubyte.gz (9.9 MB, 47 MB unzipped, 60,000 samples)\n",
    "- Training set labels: train-labels-idx1-ubyte.gz (29 KB, 60 KB unzipped, 60,000 labels)\n",
    "- Test set images: t10k-images-idx3-ubyte.gz (1.6 MB, 7.8 MB, 10,000 samples)\n",
    "- Test set labels: t10k-labels-idx1-ubyte.gz (5 KB, 10 KB unzipped, 10,000 labels)\n",
    "\n",
    "In this section, we will only be working with a subset of MNIST, thus, we only need to download the training set images and training set labels. After downloading the files, I recommend unzipping the files using the Unix/Linux gzip tool from the terminal for efficiency, e.g., using the command \n",
    "\n",
    "    gzip *ubyte.gz -d\n",
    " \n",
    "in your local MNIST download directory, or, using your favorite unzipping tool if you are working with a machine running on Microsoft Windows. The images are stored in byte form, and using the following function, we will read them into NumPy arrays that we will use to train our MLP.\n"
   ]
  },
  {
   "cell_type": "markdown",
   "metadata": {
    "slideshow": {
     "slide_type": "fragment"
    }
   },
   "source": [
    "Li-Yi: I enhanced the functions below so that we can do everything (including downloading and decompression) inside ipynb. "
   ]
  },
  {
   "cell_type": "code",
   "execution_count": 4,
   "metadata": {
    "collapsed": false,
    "slideshow": {
     "slide_type": "subslide"
    }
   },
   "outputs": [],
   "source": [
    "import os\n",
    "import os.path\n",
    "import struct\n",
    "import gzip\n",
    "import numpy as np\n",
    " \n",
    "def open_mnist(full_path):\n",
    "    if full_path.find('.gz') >= 0:\n",
    "        return gzip.open(full_path, 'rb')\n",
    "    else:\n",
    "        return open(full_path, 'rb')\n",
    "        \n",
    "def pick_mnist(path, name, exts):\n",
    "    for ext in exts:\n",
    "        full_path = os.path.join(path, name + ext)\n",
    "        if os.path.isfile(full_path):\n",
    "            return full_path\n",
    "    # none of the exts options works    \n",
    "    return None\n",
    "\n",
    "def load_mnist(path, kind='train', exts=['', '.gz']):\n",
    "    \"\"\"Load MNIST data from `path`\"\"\"\n",
    "    labels_path = pick_mnist(path, kind + '-labels-idx1-ubyte', exts)\n",
    "    images_path = pick_mnist(path, kind + '-images-idx3-ubyte', exts)\n",
    "    \n",
    "    with open_mnist(labels_path) as lbpath:\n",
    "        magic, n = struct.unpack('>II', \n",
    "                                 lbpath.read(8))        \n",
    "        if(magic != 2049):\n",
    "            raise IOError(str(magic) + ' != ' + str(2049))\n",
    "            \n",
    "        labels = np.fromfile(lbpath, \n",
    "                             dtype=np.uint8)\n",
    "        if(len(labels) != n):\n",
    "            raise IOError(str(len(labels)) + ' != ' + str(n))\n",
    "        \n",
    "    with open_mnist(images_path) as imgpath:\n",
    "        magic, num, rows, cols = struct.unpack(\">IIII\", \n",
    "                                               imgpath.read(16))\n",
    "        if(magic != 2051):\n",
    "            raise IOError(str(magic) + ' != ' + str(2051))\n",
    "            \n",
    "        images = np.fromfile(imgpath, \n",
    "                             dtype=np.uint8).reshape(num, rows*cols)\n",
    "        if(num != len(labels)):\n",
    "            raise IOError(str(num) + ' != ' + str(len(labels)))\n",
    "            \n",
    "    return images, labels"
   ]
  },
  {
   "cell_type": "code",
   "execution_count": 5,
   "metadata": {
    "collapsed": false,
    "slideshow": {
     "slide_type": "fragment"
    }
   },
   "outputs": [
    {
     "name": "stdout",
     "output_type": "stream",
     "text": [
      "Rows: 60000, columns: 784\n",
      "Rows: 10000, columns: 784\n"
     ]
    }
   ],
   "source": [
    "mnist_data_folder = os.path.join('..', 'datasets', 'mnist')\n",
    "exts = ['', '.gz'] # for already gunzipped files and not yet gzipped files\n",
    "\n",
    "X_train, y_train = load_mnist(mnist_data_folder, kind='train', exts=exts)\n",
    "print('Rows: %d, columns: %d' % (X_train.shape[0], X_train.shape[1]))\n",
    "X_test, y_test = load_mnist(mnist_data_folder, kind='t10k', exts=exts)\n",
    "print('Rows: %d, columns: %d' % (X_test.shape[0], X_test.shape[1]))"
   ]
  },
  {
   "cell_type": "markdown",
   "metadata": {
    "slideshow": {
     "slide_type": "fragment"
    }
   },
   "source": [
    "Note we flatten each $28\\times28$ image into a $784 = 28^2$ vector as input to the neural network."
   ]
  },
  {
   "cell_type": "markdown",
   "metadata": {
    "slideshow": {
     "slide_type": "subslide"
    }
   },
   "source": [
    "Visualize the first digit of each class:"
   ]
  },
  {
   "cell_type": "code",
   "execution_count": 6,
   "metadata": {
    "collapsed": false,
    "slideshow": {
     "slide_type": "fragment"
    }
   },
   "outputs": [
    {
     "data": {
      "image/png": "[encoded data removed]",
      "text/plain": [
       "<matplotlib.figure.Figure at 0x16c12a0ca20>"
      ]
     },
     "metadata": {},
     "output_type": "display_data"
    }
   ],
   "source": [
    "import matplotlib.pyplot as plt\n",
    "\n",
    "fig, ax = plt.subplots(nrows=2, ncols=5, sharex=True, sharey=True)\n",
    "ax = ax.flatten()\n",
    "for i in range(10):\n",
    "    img = X_train[y_train == i][0].reshape(28, 28)\n",
    "    ax[i].imshow(img, cmap='Greys', interpolation='nearest')\n",
    "\n",
    "ax[0].set_xticks([])\n",
    "ax[0].set_yticks([])\n",
    "plt.tight_layout()\n",
    "# plt.savefig('./figures/mnist_all.png', dpi=300)\n",
    "plt.show()"
   ]
  },
  {
   "cell_type": "markdown",
   "metadata": {
    "slideshow": {
     "slide_type": "subslide"
    }
   },
   "source": [
    "Visualize 25 different versions of \"7\":"
   ]
  },
  {
   "cell_type": "code",
   "execution_count": 7,
   "metadata": {
    "collapsed": false,
    "slideshow": {
     "slide_type": "fragment"
    }
   },
   "outputs": [
    {
     "data": {
      "image/png": "[encoded data removed]",
      "text/plain": [
       "<matplotlib.figure.Figure at 0x16c12a0c0f0>"
      ]
     },
     "metadata": {},
     "output_type": "display_data"
    }
   ],
   "source": [
    "fig, ax = plt.subplots(nrows=5, ncols=5, sharex=True, sharey=True,)\n",
    "ax = ax.flatten()\n",
    "for i in range(25):\n",
    "    img = X_train[y_train == 7][i].reshape(28, 28)\n",
    "    ax[i].imshow(img, cmap='Greys', interpolation='nearest')\n",
    "\n",
    "ax[0].set_xticks([])\n",
    "ax[0].set_yticks([])\n",
    "plt.tight_layout()\n",
    "# plt.savefig('./figures/mnist_7.png', dpi=300)\n",
    "plt.show()"
   ]
  },
  {
   "cell_type": "markdown",
   "metadata": {
    "slideshow": {
     "slide_type": "skip"
    }
   },
   "source": [
    "Uncomment the following lines to optionally save the data in CSV format. \n",
    "However, note that those CSV files will take up a substantial amount of storage space:\n",
    "\n",
    "- train_img.csv 1.1 GB (gigabytes)\n",
    "- train_labels.csv 1.4 MB (megabytes)\n",
    "- test_img.csv 187.0 MB\n",
    "- test_labels 144 KB (kilobytes)\n"
   ]
  },
  {
   "cell_type": "code",
   "execution_count": 8,
   "metadata": {
    "collapsed": false,
    "slideshow": {
     "slide_type": "skip"
    }
   },
   "outputs": [],
   "source": [
    "# np.savetxt('train_img.csv', X_train, fmt='%i', delimiter=',')\n",
    "# np.savetxt('train_labels.csv', y_train, fmt='%i', delimiter=',')\n",
    "# X_train = np.genfromtxt('train_img.csv', dtype=int, delimiter=',')\n",
    "# y_train = np.genfromtxt('train_labels.csv', dtype=int, delimiter=',')\n",
    "\n",
    "# np.savetxt('test_img.csv', X_test, fmt='%i', delimiter=',')\n",
    "# np.savetxt('test_labels.csv', y_test, fmt='%i', delimiter=',')\n",
    "# X_test = np.genfromtxt('test_img.csv', dtype=int, delimiter=',')\n",
    "# y_test = np.genfromtxt('test_labels.csv', dtype=int, delimiter=',')\n"
   ]
  },
  {
   "cell_type": "markdown",
   "metadata": {
    "collapsed": false,
    "slideshow": {
     "slide_type": "slide"
    }
   },
   "source": [
    "## Implementing a multi-layer perceptron\n",
    "\n",
    "This is an implementation of a single-hidden neural network.\n",
    "\n",
    "scikit-learn does not contain neural network stuff, but there are other options that we can use.\n",
    "* e.g. Torch7, Theano, Caffe, TensorFlow, etc.\n",
    "\n",
    "We have not talked about backpropagation yet, but having this code as reference can help understanding."
   ]
  },
  {
   "cell_type": "code",
   "execution_count": 9,
   "metadata": {
    "collapsed": false,
    "slideshow": {
     "slide_type": "subslide"
    }
   },
   "outputs": [],
   "source": [
    "import numpy as np\n",
    "from scipy.special import expit\n",
    "import sys\n",
    "\n",
    "\n",
    "class NeuralNetMLP(object):\n",
    "    \"\"\" Feedforward neural network / Multi-layer perceptron classifier.\n",
    "\n",
    "    Parameters\n",
    "    ------------\n",
    "    n_output : int\n",
    "        Number of output units, should be equal to the\n",
    "        number of unique class labels.\n",
    "    n_features : int\n",
    "        Number of features (dimensions) in the target dataset.\n",
    "        Should be equal to the number of columns in the X array.\n",
    "    n_hidden : int (default: 30)\n",
    "        Number of hidden units.\n",
    "    l1 : float (default: 0.0)\n",
    "        Lambda value for L1-regularization.\n",
    "        No regularization if l1=0.0 (default)\n",
    "    l2 : float (default: 0.0)\n",
    "        Lambda value for L2-regularization.\n",
    "        No regularization if l2=0.0 (default)\n",
    "    epochs : int (default: 500)\n",
    "        Number of passes over the training set.\n",
    "    eta : float (default: 0.001)\n",
    "        Learning rate.\n",
    "    alpha : float (default: 0.0)\n",
    "        Momentum constant. Factor multiplied with the\n",
    "        gradient of the previous epoch t-1 to improve\n",
    "        learning speed\n",
    "        w(t) := w(t) - (grad(t) + alpha*grad(t-1))\n",
    "    decrease_const : float (default: 0.0)\n",
    "        Decrease constant. Shrinks the learning rate\n",
    "        after each epoch via eta / (1 + epoch*decrease_const)\n",
    "    shuffle : bool (default: True)\n",
    "        Shuffles training data every epoch if True to prevent circles.\n",
    "    minibatches : int (default: 1)\n",
    "        Divides training data into k minibatches for efficiency.\n",
    "        Normal gradient descent learning if k=1 (default).\n",
    "    random_state : int (default: None)\n",
    "        Set random state for shuffling and initializing the weights.\n",
    "\n",
    "    Attributes\n",
    "    -----------\n",
    "    cost_ : list\n",
    "      Sum of squared errors after each epoch.\n",
    "\n",
    "    \"\"\"\n",
    "    def __init__(self, n_output, n_features, n_hidden=30,\n",
    "                 l1=0.0, l2=0.0, epochs=500, eta=0.001,\n",
    "                 alpha=0.0, decrease_const=0.0, shuffle=True,\n",
    "                 minibatches=1, random_state=None):\n",
    "\n",
    "        np.random.seed(random_state)\n",
    "        self.n_output = n_output\n",
    "        self.n_features = n_features\n",
    "        self.n_hidden = n_hidden\n",
    "        self.w1, self.w2 = self._initialize_weights()\n",
    "        self.l1 = l1\n",
    "        self.l2 = l2\n",
    "        self.epochs = epochs\n",
    "        self.eta = eta\n",
    "        self.alpha = alpha\n",
    "        self.decrease_const = decrease_const\n",
    "        self.shuffle = shuffle\n",
    "        self.minibatches = minibatches\n",
    "\n",
    "    def _encode_labels(self, y, k):\n",
    "        \"\"\"Encode labels into one-hot representation\n",
    "\n",
    "        Parameters\n",
    "        ------------\n",
    "        y : array, shape = [n_samples]\n",
    "            Target values.\n",
    "\n",
    "        Returns\n",
    "        -----------\n",
    "        onehot : array, shape = (n_labels, n_samples)\n",
    "\n",
    "        \"\"\"\n",
    "        onehot = np.zeros((k, y.shape[0]))\n",
    "        for idx, val in enumerate(y):\n",
    "            onehot[val, idx] = 1.0\n",
    "        return onehot\n",
    "\n",
    "    def _initialize_weights(self):\n",
    "        \"\"\"Initialize weights with small random numbers.\"\"\"\n",
    "        w1 = np.random.uniform(-1.0, 1.0,\n",
    "                               size=self.n_hidden*(self.n_features + 1))\n",
    "        w1 = w1.reshape(self.n_hidden, self.n_features + 1)\n",
    "        w2 = np.random.uniform(-1.0, 1.0,\n",
    "                               size=self.n_output*(self.n_hidden + 1))\n",
    "        w2 = w2.reshape(self.n_output, self.n_hidden + 1)\n",
    "        return w1, w2\n",
    "\n",
    "    def _sigmoid(self, z):\n",
    "        \"\"\"Compute logistic function (sigmoid)\n",
    "\n",
    "        Uses scipy.special.expit to avoid overflow\n",
    "        error for very small input values z.\n",
    "\n",
    "        \"\"\"\n",
    "        # return 1.0 / (1.0 + np.exp(-z))\n",
    "        return expit(z)\n",
    "\n",
    "    def _sigmoid_gradient(self, z):\n",
    "        \"\"\"Compute gradient of the logistic function\"\"\"\n",
    "        sg = self._sigmoid(z)\n",
    "        return sg * (1.0 - sg)\n",
    "\n",
    "    def _add_bias_unit(self, X, how='column'):\n",
    "        \"\"\"Add bias unit (column or row of 1s) to array at index 0\"\"\"\n",
    "        if how == 'column':\n",
    "            X_new = np.ones((X.shape[0], X.shape[1] + 1))\n",
    "            X_new[:, 1:] = X\n",
    "        elif how == 'row':\n",
    "            X_new = np.ones((X.shape[0] + 1, X.shape[1]))\n",
    "            X_new[1:, :] = X\n",
    "        else:\n",
    "            raise AttributeError('`how` must be `column` or `row`')\n",
    "        return X_new\n",
    "\n",
    "    def _feedforward(self, X, w1, w2):\n",
    "        \"\"\"Compute feedforward step\n",
    "\n",
    "        Parameters\n",
    "        -----------\n",
    "        X : array, shape = [n_samples, n_features]\n",
    "            Input layer with original features.\n",
    "        w1 : array, shape = [n_hidden_units, n_features]\n",
    "            Weight matrix for input layer -> hidden layer.\n",
    "        w2 : array, shape = [n_output_units, n_hidden_units]\n",
    "            Weight matrix for hidden layer -> output layer.\n",
    "\n",
    "        Returns\n",
    "        ----------\n",
    "        a1 : array, shape = [n_samples, n_features+1]\n",
    "            Input values with bias unit.\n",
    "        z2 : array, shape = [n_hidden, n_samples]\n",
    "            Net input of hidden layer.\n",
    "        a2 : array, shape = [n_hidden+1, n_samples]\n",
    "            Activation of hidden layer.\n",
    "        z3 : array, shape = [n_output_units, n_samples]\n",
    "            Net input of output layer.\n",
    "        a3 : array, shape = [n_output_units, n_samples]\n",
    "            Activation of output layer.\n",
    "\n",
    "        \"\"\"\n",
    "        a1 = self._add_bias_unit(X, how='column')\n",
    "        z2 = w1.dot(a1.T)\n",
    "        a2 = self._sigmoid(z2)\n",
    "        a2 = self._add_bias_unit(a2, how='row')\n",
    "        z3 = w2.dot(a2)\n",
    "        a3 = self._sigmoid(z3)\n",
    "        return a1, z2, a2, z3, a3\n",
    "\n",
    "    def _L2_reg(self, lambda_, w1, w2):\n",
    "        \"\"\"Compute L2-regularization cost\"\"\"\n",
    "        return (lambda_/2.0) * (np.sum(w1[:, 1:] ** 2) +\n",
    "                                np.sum(w2[:, 1:] ** 2))\n",
    "\n",
    "    def _L1_reg(self, lambda_, w1, w2):\n",
    "        \"\"\"Compute L1-regularization cost\"\"\"\n",
    "        # Li-Yi: there shouldn't be that 2.0 term for L1\n",
    "        scale = 2.0 # original code\n",
    "        scale = 1.0 # correct code (I think)\n",
    "        return (lambda_/scale) * (np.abs(w1[:, 1:]).sum() +\n",
    "                                  np.abs(w2[:, 1:]).sum())\n",
    "        \n",
    "    def _get_cost(self, y_enc, output, w1, w2):\n",
    "        \"\"\"Compute cost function.\n",
    "\n",
    "        Parameters\n",
    "        ----------\n",
    "        y_enc : array, shape = (n_labels, n_samples)\n",
    "            one-hot encoded class labels.\n",
    "        output : array, shape = [n_output_units, n_samples]\n",
    "            Activation of the output layer (feedforward)\n",
    "        w1 : array, shape = [n_hidden_units, n_features]\n",
    "            Weight matrix for input layer -> hidden layer.\n",
    "        w2 : array, shape = [n_output_units, n_hidden_units]\n",
    "            Weight matrix for hidden layer -> output layer.\n",
    "\n",
    "        Returns\n",
    "        ---------\n",
    "        cost : float\n",
    "            Regularized cost.\n",
    "\n",
    "        \"\"\"\n",
    "        term1 = -y_enc * (np.log(output))\n",
    "        term2 = (1.0 - y_enc) * np.log(1.0 - output)\n",
    "        cost = np.sum(term1 - term2)\n",
    "        L1_term = self._L1_reg(self.l1, w1, w2)\n",
    "        L2_term = self._L2_reg(self.l2, w1, w2)\n",
    "        cost = cost + L1_term + L2_term\n",
    "        return cost\n",
    "\n",
    "    def _get_gradient(self, a1, a2, a3, z2, y_enc, w1, w2):\n",
    "        \"\"\" Compute gradient step using backpropagation.\n",
    "\n",
    "        Parameters\n",
    "        ------------\n",
    "        a1 : array, shape = [n_samples, n_features+1]\n",
    "            Input values with bias unit.\n",
    "        a2 : array, shape = [n_hidden+1, n_samples]\n",
    "            Activation of hidden layer.\n",
    "        a3 : array, shape = [n_output_units, n_samples]\n",
    "            Activation of output layer.\n",
    "        z2 : array, shape = [n_hidden, n_samples]\n",
    "            Net input of hidden layer.\n",
    "        y_enc : array, shape = (n_labels, n_samples)\n",
    "            one-hot encoded class labels.\n",
    "        w1 : array, shape = [n_hidden_units, n_features]\n",
    "            Weight matrix for input layer -> hidden layer.\n",
    "        w2 : array, shape = [n_output_units, n_hidden_units]\n",
    "            Weight matrix for hidden layer -> output layer.\n",
    "\n",
    "        Returns\n",
    "        ---------\n",
    "        grad1 : array, shape = [n_hidden_units, n_features]\n",
    "            Gradient of the weight matrix w1.\n",
    "        grad2 : array, shape = [n_output_units, n_hidden_units]\n",
    "            Gradient of the weight matrix w2.\n",
    "        both include the bias terms to match w1 and w2\n",
    "        \"\"\"\n",
    "        # backpropagation\n",
    "        sigma3 = a3 - y_enc # [num_output_units, num_samples]\n",
    "        z2 = self._add_bias_unit(z2, how='row')\n",
    "        # Li-Yi: we don't really need z2 as sigmoid_gradient(z2) = a2*(1-a2)\n",
    "        sigma2 = w2.T.dot(sigma3) * self._sigmoid_gradient(z2) # [n_hidden_units, num_samples]\n",
    "        sigma2 = sigma2[1:, :] # remove the bias term\n",
    "        grad1 = sigma2.dot(a1)\n",
    "        grad2 = sigma3.dot(a2.T)\n",
    "\n",
    "        # regularize\n",
    "        # Li-Yi: the L1 part doesn't seem correct to me\n",
    "        # original code\n",
    "        # grad1[:, 1:] += (w1[:, 1:] * (self.l1 + self.l2))\n",
    "        # grad2[:, 1:] += (w2[:, 1:] * (self.l1 + self.l2))\n",
    "        # corrected code\n",
    "        grad1[:, 1:] += (np.sign(w1[:, 1:]) * self.l1 + w1[:, 1:] * self.l2)\n",
    "        grad2[:, 1:] += (np.sign(w2[:, 1:]) * self.l1 + w2[:, 1:] * self.l2)\n",
    "            \n",
    "        return grad1, grad2\n",
    "\n",
    "    def predict(self, X):\n",
    "        \"\"\"Predict class labels\n",
    "\n",
    "        Parameters\n",
    "        -----------\n",
    "        X : array, shape = [n_samples, n_features]\n",
    "            Input layer with original features.\n",
    "\n",
    "        Returns:\n",
    "        ----------\n",
    "        y_pred : array, shape = [n_samples]\n",
    "            Predicted class labels.\n",
    "\n",
    "        \"\"\"\n",
    "        if len(X.shape) != 2:\n",
    "            raise AttributeError('X must be a [n_samples, n_features] array.\\n'\n",
    "                                 'Use X[:,None] for 1-feature classification,'\n",
    "                                 '\\nor X[[i]] for 1-sample classification')\n",
    "\n",
    "        a1, z2, a2, z3, a3 = self._feedforward(X, self.w1, self.w2)\n",
    "        y_pred = np.argmax(a3, axis=0) #Li-Yi: original code says z3 which doesn't seem right \n",
    "        return y_pred\n",
    "\n",
    "    def fit(self, X, y, print_progress=False):\n",
    "        \"\"\" Learn weights from training data.\n",
    "\n",
    "        Parameters\n",
    "        -----------\n",
    "        X : array, shape = [n_samples, n_features]\n",
    "            Input layer with original features.\n",
    "        y : array, shape = [n_samples]\n",
    "            Target class labels.\n",
    "        print_progress : bool (default: False)\n",
    "            Prints progress as the number of epochs\n",
    "            to stderr.\n",
    "\n",
    "        Returns:\n",
    "        ----------\n",
    "        self\n",
    "\n",
    "        \"\"\"\n",
    "        self.cost_ = []\n",
    "        X_data, y_data = X.copy(), y.copy()\n",
    "        y_enc = self._encode_labels(y, self.n_output)\n",
    "\n",
    "        delta_w1_prev = np.zeros(self.w1.shape)\n",
    "        delta_w2_prev = np.zeros(self.w2.shape)\n",
    "\n",
    "        for i in range(self.epochs):\n",
    "\n",
    "            # adaptive learning rate\n",
    "            self.eta /= (1 + self.decrease_const*i)\n",
    "\n",
    "            if print_progress:\n",
    "                sys.stderr.write('\\rEpoch: %d/%d' % (i+1, self.epochs))\n",
    "                sys.stderr.flush()\n",
    "\n",
    "            if self.shuffle:\n",
    "                idx = np.random.permutation(y_data.shape[0])\n",
    "                X_data, y_enc = X_data[idx], y_enc[:, idx]\n",
    "\n",
    "            mini = np.array_split(range(y_data.shape[0]), self.minibatches)\n",
    "            for idx in mini:\n",
    "\n",
    "                # feedforward\n",
    "                a1, z2, a2, z3, a3 = self._feedforward(X_data[idx],\n",
    "                                                       self.w1,\n",
    "                                                       self.w2)\n",
    "                cost = self._get_cost(y_enc=y_enc[:, idx],\n",
    "                                      output=a3,\n",
    "                                      w1=self.w1,\n",
    "                                      w2=self.w2)\n",
    "                self.cost_.append(cost)\n",
    "\n",
    "                # compute gradient via backpropagation\n",
    "                grad1, grad2 = self._get_gradient(a1=a1, a2=a2,\n",
    "                                                  a3=a3, z2=z2,\n",
    "                                                  y_enc=y_enc[:, idx],\n",
    "                                                  w1=self.w1,\n",
    "                                                  w2=self.w2)\n",
    "\n",
    "                delta_w1, delta_w2 = self.eta * grad1, self.eta * grad2\n",
    "                self.w1 -= (delta_w1 + (self.alpha * delta_w1_prev))\n",
    "                self.w2 -= (delta_w2 + (self.alpha * delta_w2_prev))\n",
    "                delta_w1_prev, delta_w2_prev = delta_w1, delta_w2\n",
    "\n",
    "        return self"
   ]
  },
  {
   "cell_type": "markdown",
   "metadata": {
    "slideshow": {
     "slide_type": "subslide"
    }
   },
   "source": [
    "## Experiment of MLP with MNIST dataset"
   ]
  },
  {
   "cell_type": "code",
   "execution_count": 10,
   "metadata": {
    "collapsed": false,
    "slideshow": {
     "slide_type": "fragment"
    }
   },
   "outputs": [],
   "source": [
    "num_epochs = 1000\n",
    "num_batches = 50\n",
    "\n",
    "nn = NeuralNetMLP(n_output=10, \n",
    "                  n_features=X_train.shape[1], \n",
    "                  n_hidden=50, \n",
    "                  l2=0.1, \n",
    "                  l1=0.0, \n",
    "                  epochs=num_epochs, \n",
    "                  eta=0.001,\n",
    "                  alpha=0.001,\n",
    "                  decrease_const=0.00001,\n",
    "                  minibatches=num_batches, \n",
    "                  shuffle=True,\n",
    "                  random_state=1)"
   ]
  },
  {
   "cell_type": "code",
   "execution_count": 11,
   "metadata": {
    "collapsed": false,
    "slideshow": {
     "slide_type": "fragment"
    }
   },
   "outputs": [
    {
     "name": "stderr",
     "output_type": "stream",
     "text": [
      "Epoch: 1000/1000"
     ]
    },
    {
     "data": {
      "text/plain": [
       "<__main__.NeuralNetMLP at 0x16c21e6af60>"
      ]
     },
     "execution_count": 11,
     "metadata": {},
     "output_type": "execute_result"
    }
   ],
   "source": [
    "nn.fit(X_train, y_train, print_progress=True)"
   ]
  },
  {
   "cell_type": "code",
   "execution_count": 12,
   "metadata": {
    "collapsed": false,
    "slideshow": {
     "slide_type": "fragment"
    }
   },
   "outputs": [
    {
     "data": {
      "image/png": "[encoded data removed]",
      "text/plain": [
       "<matplotlib.figure.Figure at 0x16c21f8e1d0>"
      ]
     },
     "metadata": {},
     "output_type": "display_data"
    }
   ],
   "source": [
    "import matplotlib.pyplot as plt\n",
    "\n",
    "# plot the cost for each mini-batch\n",
    "plt.plot(range(len(nn.cost_)), nn.cost_)\n",
    "plt.ylim([0, 2000])\n",
    "plt.ylabel('Cost')\n",
    "# plt.xlabel('Epochs * ' + str(num_batches))\n",
    "plt.xlabel('Mini-batches')\n",
    "plt.tight_layout()\n",
    "# plt.savefig('./figures/cost.png', dpi=300)\n",
    "plt.show()"
   ]
  },
  {
   "cell_type": "markdown",
   "metadata": {
    "slideshow": {
     "slide_type": "fragment"
    }
   },
   "source": [
    "The cost curve is noisy due to the use of stochastic gradient descent.\n",
    "\n",
    "We can smooth it out by averaging the cost for each epoch."
   ]
  },
  {
   "cell_type": "code",
   "execution_count": 13,
   "metadata": {
    "collapsed": false,
    "slideshow": {
     "slide_type": "fragment"
    }
   },
   "outputs": [
    {
     "data": {
      "image/png": "[encoded data removed]",
      "text/plain": [
       "<matplotlib.figure.Figure at 0x16c21fa2d30>"
      ]
     },
     "metadata": {},
     "output_type": "display_data"
    }
   ],
   "source": [
    "# plot the average cost per epoch\n",
    "batches = np.array_split(range(len(nn.cost_)), num_epochs)\n",
    "cost_ary = np.array(nn.cost_)\n",
    "cost_avgs = [np.mean(cost_ary[i]) for i in batches]\n",
    "\n",
    "plt.plot(range(len(cost_avgs)), cost_avgs, color='red')\n",
    "plt.ylim([0, 2000])\n",
    "plt.ylabel('Cost')\n",
    "plt.xlabel('Epochs')\n",
    "plt.tight_layout()\n",
    "#plt.savefig('./figures/cost2.png', dpi=300)\n",
    "plt.show()"
   ]
  },
  {
   "cell_type": "markdown",
   "metadata": {
    "slideshow": {
     "slide_type": "fragment"
    }
   },
   "source": [
    "The process converged around 800 epochs."
   ]
  },
  {
   "cell_type": "code",
   "execution_count": 14,
   "metadata": {
    "collapsed": false,
    "slideshow": {
     "slide_type": "fragment"
    }
   },
   "outputs": [
    {
     "name": "stdout",
     "output_type": "stream",
     "text": [
      "Training accuracy: 97.61%\n"
     ]
    }
   ],
   "source": [
    "y_train_pred = nn.predict(X_train)\n",
    "\n",
    "if sys.version_info < (3, 0):\n",
    "    acc = ((np.sum(y_train == y_train_pred, axis=0)).astype('float') /\n",
    "           X_train.shape[0])\n",
    "else:\n",
    "    acc = np.sum(y_train == y_train_pred, axis=0) / X_train.shape[0]\n",
    "\n",
    "print('Training accuracy: %.2f%%' % (acc * 100))"
   ]
  },
  {
   "cell_type": "code",
   "execution_count": 15,
   "metadata": {
    "collapsed": false,
    "slideshow": {
     "slide_type": "fragment"
    }
   },
   "outputs": [
    {
     "name": "stdout",
     "output_type": "stream",
     "text": [
      "Test accuracy: 95.69%\n"
     ]
    }
   ],
   "source": [
    "y_test_pred = nn.predict(X_test)\n",
    "\n",
    "if sys.version_info < (3, 0):\n",
    "    acc = ((np.sum(y_test == y_test_pred, axis=0)).astype('float') /\n",
    "           X_test.shape[0])\n",
    "else:\n",
    "    acc = np.sum(y_test == y_test_pred, axis=0) / X_test.shape[0]\n",
    "\n",
    "print('Test accuracy: %.2f%%' % (acc * 100))"
   ]
  },
  {
   "cell_type": "markdown",
   "metadata": {
    "slideshow": {
     "slide_type": "fragment"
    }
   },
   "source": [
    "Good accuracy (low bias)\n",
    "* both the training and test accuracy are pretty good\n",
    "\n",
    "Slight overfitting (low variance)\n",
    "* test accuracy is slightly worse than training accuracy\n",
    "\n",
    "We can tune the hyper-parameters via cross-validation and grid search, etc.\n",
    "* exercise"
   ]
  },
  {
   "cell_type": "markdown",
   "metadata": {
    "slideshow": {
     "slide_type": "fragment"
    }
   },
   "source": [
    "Visualize the mis-classified digits:"
   ]
  },
  {
   "cell_type": "code",
   "execution_count": 16,
   "metadata": {
    "collapsed": false,
    "slideshow": {
     "slide_type": "subslide"
    }
   },
   "outputs": [
    {
     "data": {
      "image/png": "[encoded data removed]",
      "text/plain": [
       "<matplotlib.figure.Figure at 0x16c16038668>"
      ]
     },
     "metadata": {},
     "output_type": "display_data"
    }
   ],
   "source": [
    "miscl_img = X_test[y_test != y_test_pred][:25]\n",
    "correct_lab = y_test[y_test != y_test_pred][:25]\n",
    "miscl_lab = y_test_pred[y_test != y_test_pred][:25]\n",
    "\n",
    "fig, ax = plt.subplots(nrows=5, ncols=5, sharex=True, sharey=True)\n",
    "ax = ax.flatten()\n",
    "for i in range(25):\n",
    "    img = miscl_img[i].reshape(28, 28)\n",
    "    ax[i].imshow(img, cmap='Greys', interpolation='nearest')\n",
    "    ax[i].set_title('%d) t: %d p: %d' % (i+1, correct_lab[i], miscl_lab[i]))\n",
    "\n",
    "ax[0].set_xticks([])\n",
    "ax[0].set_yticks([])\n",
    "plt.tight_layout()\n",
    "# plt.savefig('./figures/mnist_miscl.png', dpi=300)\n",
    "plt.show()"
   ]
  },
  {
   "cell_type": "markdown",
   "metadata": {
    "slideshow": {
     "slide_type": "fragment"
    }
   },
   "source": [
    "Some of these are even difficult for humans to classify correctly."
   ]
  },
  {
   "cell_type": "markdown",
   "metadata": {
    "slideshow": {
     "slide_type": "slide"
    }
   },
   "source": [
    "# Training an artificial neural network\n",
    "\n",
    "Now we see a neural network implementation and experimentation, we can talk about the training part."
   ]
  },
  {
   "cell_type": "markdown",
   "metadata": {
    "slideshow": {
     "slide_type": "subslide"
    }
   },
   "source": [
    "## Computing the logistic cost function\n",
    "\n",
    "Similar to the single-layer case, we can apply logistic cost function to the output layer:\n",
    "\n",
    "$$\n",
    "\\begin{align}\n",
    "\\mathbf{a} &= \\phi\\left(\\mathbf{z}\\right)\n",
    "\\end{align}\n",
    "$$\n",
    "\n",
    "We can assume all functions and operators take on vector inputs similar to scalar inputs, just operate component-wise.\n",
    "For example:\n",
    "$$\n",
    "\\begin{align}\n",
    "\\mathbf{v} &= \\left(v_1, v_2, \\cdots, v_n \\right)\n",
    "\\\\\n",
    "f(\\mathbf{v}) &=  \\left(f\\left(v_1\\right), f\\left(v_2\\right), \\cdots, f\\left(v_n\\right) \\right)\n",
    "\\end{align}\n",
    "$$\n",
    "And\n",
    "$$\n",
    "\\begin{align}\n",
    "\\mathbf{x} &= \\left(x_1, x_2, \\cdots, x_n \\right)\n",
    "\\\\\n",
    "\\mathbf{y} &= \\left(y_1, y_2, \\cdots, y_n \\right)\n",
    "\\\\\n",
    "\\mathbf{x} + \\mathbf{y} &= \\left(x_1 + y_1, x_2 + y_2, \\cdots, x_n + y_n \\right)\n",
    "\\\\\n",
    "\\mathbf{x} * \\mathbf{y} &= \\left(x_1 * y_1, x_2 * y_2, \\cdots, x_n * y_n \\right)\n",
    "\\end{align}\n",
    "$$\n",
    "\n",
    "We can also keep the inner product:\n",
    "$$\n",
    "\\begin{align}\n",
    "\\mathbf{x} \\mathbf{y} &= \\sum_{i=1}^n x_i y_i\n",
    "\\end{align}\n",
    "$$\n",
    "\n",
    "Then we can directly use any output cost function, such as in logistic regression:\n",
    "$$\n",
    "\\begin{align}\n",
    "L\\left(\\mathbf{W}, \\mathbf{X}, \\mathbf{Y} \\right) &= \\sum_i -\\mathbf{y}^{(i)}\\log\\left(\\mathbf{a}^{(i)}\\right) - \\left(1 - \\mathbf{y}^{(i)} \\right) \\log\\left(1 - \\mathbf{a}^{(i)} \\right)\n",
    "\\end{align}\n",
    "$$\n",
    "* $i$ runs through all training samples\n",
    "* $\\mathbf{y}$ one-hot vector for classification\n",
    "$$\n",
    "\\begin{align}\n",
    "\\mathbf{a^{(i)}} =\n",
    "\\begin{bmatrix}\n",
    "0.1\n",
    "\\\\\n",
    "0.9\n",
    "\\\\\n",
    "\\vdots\n",
    "\\\\\n",
    "0.3\n",
    "\\end{bmatrix}\n",
    ",\n",
    "\\mathbf{y^{(i)}} =\n",
    "\\begin{bmatrix}\n",
    "0\n",
    "\\\\\n",
    "1\n",
    "\\\\\n",
    "\\vdots\n",
    "\\\\\n",
    "0\n",
    "\\end{bmatrix}\n",
    "\\end{align}\n",
    "$$\n",
    "* $\\mathbf{W}$ is the set of all weights in the network (across all layers) "
   ]
  },
  {
   "cell_type": "markdown",
   "metadata": {
    "slideshow": {
     "slide_type": "fragment"
    }
   },
   "source": [
    "## Regularization\n",
    "\n",
    "We can apply regularization with strength $\\lambda$ similar to other ML models:\n",
    "\n",
    "$L_2$:\n",
    "$$\n",
    "\\begin{align}\n",
    "P(\\mathbf{W}) &= \\frac{1}{2} \\| \\mathbf{W} \\|_2^2\n",
    "\\\\\n",
    "&= \\frac{1}{2} \\sum_{\\ell} \\sum_k \\sum_j \\left(\\mathbf{W}_{jk}^{(\\ell)}\\right)^2\n",
    "\\end{align}\n",
    "$$\n",
    "\n",
    "$L_1$:\n",
    "$$\n",
    "\\begin{align}\n",
    "P(\\mathbf{W}) &= \\| \\mathbf{W} \\|_1^1\n",
    "\\\\\n",
    "&= \\sum_{\\ell} \\sum_k \\sum_j \\left|\\mathbf{W}_{jk}^{(\\ell)}\\right|\n",
    "\\end{align}\n",
    "$$\n",
    "\n",
    "\n",
    "$$\n",
    "\\begin{align}\n",
    "J\\left(\\mathbf{W}\\right) = L\\left(\\mathbf{W}, \\mathbf{X}, \\mathbf{Y} \\right) + \\lambda P\\left(\\mathbf{W}\\right)\n",
    "\\end{align}\n",
    "$$"
   ]
  },
  {
   "cell_type": "markdown",
   "metadata": {
    "slideshow": {
     "slide_type": "fragment"
    }
   },
   "source": [
    "## Gradient descent\n",
    "\n",
    "Need to compute partial derivative for each weight parameter \n",
    "* for all weights connecting node $k$ in layer $\\ell$ to node $j$ in layer $\\ell +1$\n",
    "$$\n",
    "\\frac{\\partial J}{\\partial \\mathbf{W}_{jk}^{(\\ell)}}\n",
    "$$"
   ]
  },
  {
   "cell_type": "markdown",
   "metadata": {
    "collapsed": false,
    "slideshow": {
     "slide_type": "fragment"
    }
   },
   "source": [
    "In a single-hidden layer network, we have two layers of weights.\n",
    "* $\\mathbf{W}^{(1)}$ connects input layer to hidden layer\n",
    "* $\\mathbf{W}^{(2)}$ connects hidden layer to output layer\n",
    "* each $\\mathbf{W}^{(\\ell)}$ has size $N_{\\ell+1} \\times N_{\\ell}$, where $N_{\\ell}$ is the number of nodes at layer $\\ell$\n",
    "\n",
    "<img src='./images/12_10.png' width=40%>"
   ]
  },
  {
   "cell_type": "markdown",
   "metadata": {
    "slideshow": {
     "slide_type": "slide"
    }
   },
   "source": [
    "## Training neural networks via backpropagation\n",
    "\n"
   ]
  },
  {
   "cell_type": "markdown",
   "metadata": {
    "collapsed": false,
    "slideshow": {
     "slide_type": "subslide"
    }
   },
   "source": [
    "### Forward propagation\n",
    "\n",
    "<img src='./images/12_11.png' width=50% align=right>\n",
    "\n",
    "Start from the input layer (initialization):\n",
    "$$\n",
    "\\begin{align}\n",
    "\\mathbf{A}^{1} = \\mathbf{X}^T\n",
    "\\end{align}\n",
    "$$\n",
    "\n",
    "For each layer $\\ell \\in [1, 2, \\cdots, L-1]$ where the last layer is $L$:\n",
    "$$\n",
    "\\begin{align}\n",
    "\\mathbf{Z}^{(\\ell + 1)} &= \\mathbf{W}^{(\\ell)} \\mathbf{A}^{(\\ell)} \n",
    "\\\\\n",
    "\\mathbf{A}^{(\\ell + 1)} &= \\phi\\left( \\mathbf{Z}^{(\\ell+1)}\\right)\n",
    "\\end{align}\n",
    "$$\n",
    "\n",
    "Compute the output via certain output function $o$ (thresholding, one-hot, softmax, etc.):\n",
    "$$\n",
    "\\hat{\\mathbf{Y}} = o\\left(\\mathbf{A}^{(L)}\\right)\n",
    "$$\n"
   ]
  },
  {
   "cell_type": "markdown",
   "metadata": {
    "collapsed": false,
    "slideshow": {
     "slide_type": "subslide"
    }
   },
   "source": [
    "### Backward propagation\n",
    "\n",
    "<img src='./images/12_12.png' width=60% align=right> \n",
    "\n",
    "Let's start with one sample at a time.\n",
    "* i.e. mini-batch with size 1\n",
    "\n",
    "We first compute the $\\delta$ terms for all the layers.\n",
    "$$\n",
    "\\delta^{(\\ell)} = \\frac{\\partial J}{\\partial \\mathbf{z}^{(\\ell)}}\n",
    "$$\n",
    "\n",
    "$*$ means component-wise multiplication.\n",
    "\n",
    "Start from the output layer:\n",
    "$$\n",
    "\\begin{align}\n",
    "\\mathbf{\\delta}^{(L)} = \n",
    "\\frac{\\partial J\\left(\\mathbf{a}^{(L)}\\right)}{\\partial \\mathbf{a}}\n",
    "*\n",
    "\\frac{\\phi\\left(\\mathbf{z}^{(L)}\\right)}{\\partial \\mathbf{z}}\n",
    "\\end{align}\n",
    "$$\n",
    "\n",
    "* can be simplified to the following for our loss function above: \n",
    "$$\n",
    "\\mathbf{\\delta}^{(L)} = \\mathbf{a^{(L)}} - \\mathbf{y}\n",
    "$$\n",
    "\n",
    "For each internal layer $\\ell \\in [L-1, \\cdots, 2]$:\n",
    "$$\n",
    "\\begin{align}\n",
    "\\mathbf{\\delta}^{(\\ell)} =\n",
    "\\left( \\mathbf{W}^{(\\ell)} \\right)^T\n",
    "\\mathbf{\\delta}^{(\\ell+1)}\n",
    "*\n",
    "\\frac{\\partial \\phi\\left( \\mathbf{z}^{(\\ell)} \\right)}{\\partial \\mathbf{z}}\n",
    "\\end{align}\n",
    "$$\n",
    "* for sigmoid $\\phi$ we have \n",
    "$$\n",
    "\\frac{\\partial \\phi\\left(\\mathbf{z}\\right)}{\\partial \\mathbf{z}} = \n",
    "\\phi\\left(\\mathbf{z}\\right) * \\left(1 - \\phi\\left(\\mathbf{z}\\right)\\right)\n",
    "$$\n",
    "\n",
    "After having all the $\\mathbf{\\delta}$ terms we can compute the individual derivate as:\n",
    "$$\n",
    "\\begin{align}\n",
    "\\frac{\\partial J}{\\partial \\mathbf{W}_{i,j}^{(\\ell)}}\n",
    "&=\n",
    "\\mathbf{\\delta}_i^{(\\ell+1)}\n",
    "\\mathbf{a}_j^{(\\ell)}\n",
    "\\end{align}\n",
    "$$\n",
    "\n",
    "In matrix form:\n",
    "$$\n",
    "\\begin{align}\n",
    "\\frac{\\partial J}{\\partial \\mathbf{W}^{(\\ell)}}\n",
    "&=\n",
    "\\mathbf{\\delta}^{(\\ell+1)}\n",
    "\\left[ \\mathbf{a}^{(\\ell)} \\right]^T\n",
    "\\end{align}\n",
    "$$\n",
    "\n",
    "If you want to optimize the input as well (e.g. deep dream) you can propagate further:\n",
    "$$\n",
    "\\begin{align}\n",
    "\\mathbf{\\delta}^{(1)} = \n",
    "\\frac{\\partial J}{\\partial \\mathbf{x}} = \n",
    "\\left(\\mathbf{W}^{(1)}\\right)^T \\mathbf{\\delta}^{(2)}\n",
    "\\end{align}\n",
    "$$"
   ]
  },
  {
   "cell_type": "markdown",
   "metadata": {
    "slideshow": {
     "slide_type": "fragment"
    }
   },
   "source": [
    "### Backpropagation with batches\n",
    "\n",
    "Use matrix versions for vectors above by stacking column vectors.\n",
    "\n",
    "Start from the output layer:\n",
    "$$\n",
    "\\begin{align}\n",
    "\\mathbf{\\delta}^{(L)} = \n",
    "\\frac{\\partial J\\left(\\mathbf{A}^{(L)}\\right)}{\\partial \\mathbf{A}}\n",
    "*\n",
    "\\frac{\\phi\\left(\\mathbf{Z}^{(L)}\\right)}{\\partial \\mathbf{Z}}\n",
    "\\end{align}\n",
    "$$\n",
    "* shape: num-outputs $\\times$ mini-batch-size\n",
    "* can be simplified to the following for our loss function above: \n",
    "$$\n",
    "\\mathbf{\\delta}^{(L)} = \\mathbf{A^{(L)}} - \\mathbf{Y}\n",
    "$$\n",
    "\n",
    "For each internal layer $\\ell \\in [L-1, \\cdots, 2]$:\n",
    "$$\n",
    "\\begin{align}\n",
    "\\mathbf{\\delta}^{(\\ell)} =\n",
    "\\left( \\mathbf{W}^{(\\ell)} \\right)^T\n",
    "\\mathbf{\\delta}^{(\\ell+1)}\n",
    "*\n",
    "\\frac{\\partial \\phi\\left( \\mathbf{Z}^{(\\ell)} \\right)}{\\partial \\mathbf{Z}}\n",
    "\\end{align}\n",
    "$$\n",
    "* shape: num-nodes-layer-$\\ell$ (the input size for $\\mathbf{W}^{\\ell}$) $\\times$ mini-batch-size\n",
    "\n",
    "After having all the $\\mathbf{\\delta}$ terms we can compute the individual derivate as:\n",
    "$$\n",
    "\\begin{align}\n",
    "\\frac{\\partial J}{\\partial \\mathbf{W}^{(\\ell)}}\n",
    "&=\n",
    "\\mathbf{\\delta}^{(\\ell+1)}\n",
    "\\left[\\mathbf{A}^{(\\ell)}\\right]^T\n",
    "\\end{align}\n",
    "$$"
   ]
  },
  {
   "cell_type": "markdown",
   "metadata": {
    "slideshow": {
     "slide_type": "fragment"
    }
   },
   "source": [
    "### Backprogagation with regularization\n",
    "\n",
    "For $L_2$:\n",
    "$$\n",
    "\\begin{align}\n",
    "P\\left(\\mathbf{W}\\right) &= \\frac{1}{2} \\| \\mathbf{W} \\|_2^2\n",
    "\\\\\n",
    "\\frac{\\partial P}{\\partial \\mathbf{W}} &= \\mathbf{W}\n",
    "\\end{align}\n",
    "$$\n",
    "\n",
    "For $L_1$:\n",
    "$$\n",
    "\\begin{align}\n",
    "P\\left(\\mathbf{W}\\right) &= \\| \\mathbf{W} \\|_1^1\n",
    "\\\\\n",
    "\\frac{\\partial P}{\\partial \\mathbf{W}} &= sign(W)\n",
    "\\end{align}\n",
    "$$"
   ]
  },
  {
   "cell_type": "markdown",
   "metadata": {
    "slideshow": {
     "slide_type": "fragment"
    }
   },
   "source": [
    "## Gradient descent\n",
    "\n",
    "For all layers $\\ell \\in [1, 2, \\cdots, L-1]$:\n",
    "$$\n",
    "\\begin{align}\n",
    "\\mathbf{W}^{(\\ell)}\n",
    "\\leftarrow\n",
    "\\mathbf{W}^{(\\ell)} - \\eta \\left( \\frac{\\partial J}{\\partial \\mathbf{W}^{(\\ell)}} + \\lambda \\frac{\\partial P}{\\partial \\mathbf{W}^{(\\ell)}} \\right)\n",
    "\\end{align}\n",
    "$$"
   ]
  },
  {
   "cell_type": "markdown",
   "metadata": {
    "slideshow": {
     "slide_type": "slide"
    }
   },
   "source": [
    "# Developing your intuition for backpropagation\n",
    "\n",
    "\n",
    "| propagatioin |  forward  | backward |\n",
    "|--|-----------|----------|\n",
    "|key equation| $ \\mathbf{A}^{(\\ell + 1)} = \\phi\\left( \\mathbf{W}^{(\\ell)} \\mathbf{A}^{\\ell} \\right) $ | $ \\mathbf{\\delta}^{(\\ell)} = \\left( \\mathbf{W}^{(\\ell)} \\right)^T \\mathbf{\\delta}^{(\\ell+1)} * \\phi^{\\prime}\\left( \\mathbf{Z}^{(\\ell)} \\right)$ |\n",
    "|direction| input $\\rightarrow$ output | input $\\leftarrow$ output |\n",
    "|key quantity | $\\mathbf{A}$ | $\\mathbf{\\delta}$ |  \n",
    "|$\\mathbf{W}$ orientation | $\\mathbf{W}^{(\\ell)}$ | $\\left[\\mathbf{W}^{(\\ell)}\\right]^T$|\n",
    "|$\\phi$ | original | derivative  |\n",
    "\n",
    "<img src='./images/12_11.png' width=50% align=left>\n",
    "<img src='./images/12_12.png' width=50% align=right>\n",
    "\n",
    "Back-propagation has similar time complexity as forward-propagation.\n",
    "* very important for efficiency\n",
    "* prior to the discovery of back-propagation, training is very slow"
   ]
  },
  {
   "cell_type": "markdown",
   "metadata": {
    "slideshow": {
     "slide_type": "fragment"
    }
   },
   "source": [
    "## Derivation\n",
    "\n",
    "Essentially an application of chain-rule\n",
    "$$\n",
    "\\begin{align}\n",
    "y &= f\\left(g\\left(x\\right)\\right)\n",
    "\\\\\n",
    "\\frac{\\partial y}{\\partial x} &= \\frac{\\partial f}{\\partial g} \\frac{\\partial g}{\\partial x}\n",
    "\\end{align}\n",
    "$$\n",
    "\n",
    "We will use the single-sample (mini-batch size 1) version below for clarity.\n",
    "The matrix (general mini-batch size) version is similar.\n",
    "\n",
    "Output layer $L$:\n",
    "$$\n",
    "\\begin{align}\n",
    "\\mathbf{\\delta}^{(L)} &= \\frac{\\partial J\\left(\\mathbf{a}^{(L)}\\right)}{\\partial \\mathbf{z}}\n",
    "\\\\\n",
    "&= \\frac{\\partial J\\left(\\mathbf{a}^{(L)}\\right)}{\\partial \\mathbf{a}}\n",
    "*\n",
    "\\frac{\\partial \\mathbf{a}\\left(\\mathbf{z}^{(L)}\\right)}{\\partial \\mathbf{z}}\n",
    "\\\\\n",
    "&=\n",
    "\\frac{\\partial J\\left(\\mathbf{a}^{(L)}\\right)}{\\partial \\mathbf{a}}\n",
    "*\n",
    "\\frac{\\phi\\left(\\mathbf{z}^{(L)}\\right)}{\\partial \\mathbf{z}}\n",
    "\\end{align}\n",
    "$$\n",
    "\n",
    "Internal layer $\\ell \\in [L-1, \\cdots, 2]$:\n",
    "$$\n",
    "\\begin{align}\n",
    "\\mathbf{\\delta}^{(\\ell)} &=\n",
    "\\frac{\\partial J\\left(\\mathbf{a}^{(L)}\\right)}{\\partial \\mathbf{z}^{(\\ell)}}\n",
    "\\\\\n",
    "&= \n",
    "\\frac{\\partial J\\left(\\mathbf{a}^{(L)}\\right)}{\\partial \\mathbf{a}^{(\\ell)}}\n",
    "*\n",
    "\\frac{\\partial \\mathbf{a}^{(\\ell)}}{\\partial \\mathbf{z}^{(\\ell)}}\n",
    "\\\\\n",
    "&=\n",
    "\\frac{\\partial J\\left(\\mathbf{a}^{(L)}\\right)}{\\partial \\mathbf{z}^{(\\ell+1)}}\n",
    "*\n",
    "\\frac{\\partial \\mathbf{z}^{(\\ell+1)}}{\\partial \\mathbf{a}^{(\\ell)}}\n",
    "*\n",
    "\\frac{\\partial \\mathbf{a}^{(\\ell)}}{\\partial \\mathbf{z}^{(\\ell)}}\n",
    "\\\\\n",
    "&=\n",
    "\\frac{\\partial \\mathbf{z}^{(\\ell+1)}}{\\partial \\mathbf{a}^{(\\ell)}}\n",
    "*\n",
    "\\frac{\\partial J\\left(\\mathbf{a}^{(L)}\\right)}{\\partial \\mathbf{z}^{(\\ell+1)}}\n",
    "*\n",
    "\\frac{\\partial \\mathbf{a}^{(\\ell)}}{\\partial \\mathbf{z}^{(\\ell)}}\n",
    "\\\\\n",
    "&=\n",
    "\\frac{\\partial \\mathbf{z}^{(\\ell+1)}}{\\partial \\mathbf{a}^{(\\ell)}}\n",
    "*\n",
    "\\mathbf{\\delta}^{(\\ell+1)}\n",
    "*\n",
    "\\frac{\\partial \\mathbf{a}^{(\\ell)}}{\\partial \\mathbf{z}^{(\\ell)}}\n",
    "\\\\\n",
    "&=\n",
    "\\left( \\mathbf{W}^{(\\ell)} \\right)^T\n",
    "\\mathbf{\\delta}^{(\\ell+1)}\n",
    "*\n",
    "\\frac{\\partial \\phi\\left( \\mathbf{z}^{(\\ell)} \\right)}{\\partial \\mathbf{z}}\n",
    "\\end{align}\n",
    "$$\n",
    "\n",
    "Input layer $1$:\n",
    "$$\n",
    "\\begin{align}\n",
    "\\mathbf{\\delta}^{(1)} &= \n",
    "\\frac{\\partial J\\left( \\mathbf{a}^{(L)} \\right)}{\\partial \\mathbf{x}}\n",
    "\\\\\n",
    "&=\n",
    "\\frac{\\partial J\\left( \\mathbf{a}^{(L)} \\right)}{\\partial \\mathbf{z}^{(2)}}\n",
    "*\n",
    "\\frac{\\partial \\mathbf{z}^{(2)}}{\\partial \\mathbf{x}}\n",
    "\\\\\n",
    "&=\n",
    "\\frac{\\partial \\mathbf{z}^{(2)}}{\\partial \\mathbf{a}^{(1)}}\n",
    "*\n",
    "\\mathbf{\\delta}^{(2)}\n",
    "\\\\\n",
    "&=\n",
    "\\left(\\mathbf{W}^{(1)}\\right)^T \\mathbf{\\delta}^{(2)}\n",
    "\\end{align}\n",
    "$$"
   ]
  },
  {
   "cell_type": "markdown",
   "metadata": {
    "slideshow": {
     "slide_type": "fragment"
    }
   },
   "source": [
    "You can derive the inidividual scalar variables $\\mathbf{\\delta}_k^{(\\ell)}$ if the vector/matrix version above is still not clear."
   ]
  },
  {
   "cell_type": "markdown",
   "metadata": {
    "collapsed": false,
    "slideshow": {
     "slide_type": "slide"
    }
   },
   "source": [
    "# Debugging neural networks with gradient checking\n",
    "\n",
    "We can compare analytical gradients and numerical gradients for debugging.\n",
    "\n",
    "Numerical gradient:\n",
    "$$\n",
    "\\begin{align}\n",
    "\\frac{\\partial J\\left(\\mathbf{W} \\right)}{{\\partial \\mathbf{W}_{i,j}^{(\\ell)}}}\n",
    "\\simeq\n",
    "\\frac{J\\left(\\mathbf{W}_{i,j}^{(\\ell)} + \\epsilon \\right) - J \\left( \\mathbf{W}_{i,j}^{(\\ell)}\\right)}{\\epsilon}\n",
    "\\end{align}\n",
    "$$\n",
    "for sufficiently small $\\epsilon$.\n",
    "\n",
    "<img src='./images/12_13.png' width=50%> \n",
    "\n",
    "Symmetric version is better:\n",
    "$$\n",
    "\\begin{align}\n",
    "\\frac{\\partial J\\left(\\mathbf{W} \\right)}{{\\partial \\mathbf{W}_{i,j}^{(\\ell)}}}\n",
    "\\simeq\n",
    "\\frac{J\\left(\\mathbf{W}_{i,j}^{(\\ell)} + \\epsilon \\right) - J \\left( \\mathbf{W}_{i,j}^{(\\ell)}- \\epsilon \\right)}{2\\epsilon}\n",
    "\\end{align}\n",
    "$$"
   ]
  },
  {
   "cell_type": "markdown",
   "metadata": {
    "slideshow": {
     "slide_type": "subslide"
    }
   },
   "source": [
    "Sample code below\n",
    "\n",
    "Make it simple to minimize errors in the check code\n",
    "* very slow, compared to back-propagation\n",
    "* brute-force OK for testing sufficiently small cases (e.g. a small number of inputs)"
   ]
  },
  {
   "cell_type": "code",
   "execution_count": 17,
   "metadata": {
    "collapsed": false,
    "slideshow": {
     "slide_type": "skip"
    }
   },
   "outputs": [
    {
     "name": "stdout",
     "output_type": "stream",
     "text": [
      "The following code requires NumPy >= 1.9.1. Your NumPy version is 1.11.1.\n",
      "The following code requires SciPy >= 0.14.0. Your SciPy version is 0.17.1. \n"
     ]
    }
   ],
   "source": [
    "from scipy import __version__ as scipy_ver\n",
    "from numpy import __version__ as numpy_ver\n",
    "\n",
    "print('The following code requires NumPy >= 1.9.1. Your NumPy version is %s.' % (numpy_ver))\n",
    "print('The following code requires SciPy >= 0.14.0. Your SciPy version is %s. ' % (scipy_ver))"
   ]
  },
  {
   "cell_type": "code",
   "execution_count": 21,
   "metadata": {
    "collapsed": true,
    "slideshow": {
     "slide_type": "subslide"
    }
   },
   "outputs": [],
   "source": [
    "import numpy as np\n",
    "from scipy.special import expit\n",
    "import sys\n",
    "\n",
    "# Li-Yi: I removed duplicated code below via inheritance\n",
    "class MLPGradientCheck(NeuralNetMLP):\n",
    "\n",
    "    def _gradient_checking(self, X, y_enc, w1, w2, epsilon, grad1, grad2):\n",
    "        \"\"\" Apply gradient checking (for debugging only)\n",
    "\n",
    "        Returns\n",
    "        ---------\n",
    "        relative_error : float\n",
    "          Relative error between the numerically\n",
    "          approximated gradients and the backpropagated gradients.\n",
    "\n",
    "        \"\"\"\n",
    "        num_grad1 = np.zeros(np.shape(w1))\n",
    "        epsilon_ary1 = np.zeros(np.shape(w1))\n",
    "        for i in range(w1.shape[0]):\n",
    "            for j in range(w1.shape[1]):\n",
    "                epsilon_ary1[i, j] = epsilon\n",
    "                a1, z2, a2, z3, a3 = self._feedforward(X,\n",
    "                                                       w1 - epsilon_ary1, w2)\n",
    "                cost1 = self._get_cost(y_enc, a3, w1-epsilon_ary1, w2)\n",
    "                a1, z2, a2, z3, a3 = self._feedforward(X,\n",
    "                                                       w1 + epsilon_ary1, w2)\n",
    "                cost2 = self._get_cost(y_enc, a3, w1 + epsilon_ary1, w2)\n",
    "                num_grad1[i, j] = (cost2 - cost1) / (2.0 * epsilon)\n",
    "                epsilon_ary1[i, j] = 0\n",
    "\n",
    "        num_grad2 = np.zeros(np.shape(w2))\n",
    "        epsilon_ary2 = np.zeros(np.shape(w2))\n",
    "        for i in range(w2.shape[0]):\n",
    "            for j in range(w2.shape[1]):\n",
    "                epsilon_ary2[i, j] = epsilon\n",
    "                a1, z2, a2, z3, a3 = self._feedforward(X, w1,\n",
    "                                                       w2 - epsilon_ary2)\n",
    "                cost1 = self._get_cost(y_enc, a3, w1, w2 - epsilon_ary2)\n",
    "                a1, z2, a2, z3, a3 = self._feedforward(X, w1,\n",
    "                                                       w2 + epsilon_ary2)\n",
    "                cost2 = self._get_cost(y_enc, a3, w1, w2 + epsilon_ary2)\n",
    "                num_grad2[i, j] = (cost2 - cost1) / (2.0 * epsilon)\n",
    "                epsilon_ary2[i, j] = 0\n",
    "\n",
    "        num_grad = np.hstack((num_grad1.flatten(), num_grad2.flatten()))\n",
    "        grad = np.hstack((grad1.flatten(), grad2.flatten()))\n",
    "        norm1 = np.linalg.norm(num_grad - grad)\n",
    "        norm2 = np.linalg.norm(num_grad)\n",
    "        norm3 = np.linalg.norm(grad)\n",
    "        relative_error = norm1 / (norm2 + norm3)\n",
    "        return relative_error\n",
    "\n",
    "    def fit(self, X, y, print_progress=False):\n",
    "        \"\"\" Learn weights from training data.\n",
    "\n",
    "        Parameters\n",
    "        -----------\n",
    "        X : array, shape = [n_samples, n_features]\n",
    "            Input layer with original features.\n",
    "        y : array, shape = [n_samples]\n",
    "            Target class labels.\n",
    "        print_progress : bool (default: False)\n",
    "            Prints progress as the number of epochs\n",
    "            to stderr.\n",
    "\n",
    "        Returns:\n",
    "        ----------\n",
    "        self\n",
    "\n",
    "        \"\"\"\n",
    "        self.cost_ = []\n",
    "        X_data, y_data = X.copy(), y.copy()\n",
    "        y_enc = self._encode_labels(y, self.n_output)\n",
    "\n",
    "        delta_w1_prev = np.zeros(self.w1.shape)\n",
    "        delta_w2_prev = np.zeros(self.w2.shape)\n",
    "\n",
    "        for i in range(self.epochs):\n",
    "\n",
    "            # adaptive learning rate\n",
    "            self.eta /= (1 + self.decrease_const*i)\n",
    "\n",
    "            if print_progress:\n",
    "                sys.stderr.write('\\rEpoch: %d/%d' % (i+1, self.epochs))\n",
    "                sys.stderr.flush()\n",
    "\n",
    "            if self.shuffle:\n",
    "                idx = np.random.permutation(y_data.shape[0])\n",
    "                X_data, y_enc = X_data[idx], y_enc[idx]\n",
    "\n",
    "            mini = np.array_split(range(y_data.shape[0]), self.minibatches)\n",
    "            for idx in mini:\n",
    "\n",
    "                # feedforward\n",
    "                a1, z2, a2, z3, a3 = self._feedforward(X[idx],\n",
    "                                                       self.w1,\n",
    "                                                       self.w2)\n",
    "                cost = self._get_cost(y_enc=y_enc[:, idx],\n",
    "                                      output=a3,\n",
    "                                      w1=self.w1,\n",
    "                                      w2=self.w2)\n",
    "                self.cost_.append(cost)\n",
    "\n",
    "                # compute gradient via backpropagation\n",
    "                grad1, grad2 = self._get_gradient(a1=a1, a2=a2,\n",
    "                                                  a3=a3, z2=z2,\n",
    "                                                  y_enc=y_enc[:, idx],\n",
    "                                                  w1=self.w1,\n",
    "                                                  w2=self.w2)\n",
    "\n",
    "                # start gradient checking\n",
    "                grad_diff = self._gradient_checking(X=X_data[idx],\n",
    "                                                    y_enc=y_enc[:, idx],\n",
    "                                                    w1=self.w1,\n",
    "                                                    w2=self.w2,\n",
    "                                                    epsilon=1e-5,\n",
    "                                                    grad1=grad1,\n",
    "                                                    grad2=grad2)\n",
    "\n",
    "\n",
    "                if grad_diff <= 1e-7:\n",
    "                    print('Ok: %s' % grad_diff)\n",
    "                elif grad_diff <= 1e-4:\n",
    "                    print('Warning: %s' % grad_diff)\n",
    "                else:\n",
    "                    print('PROBLEM: %s' % grad_diff)\n",
    "\n",
    "                # update weights; [alpha * delta_w_prev] for momentum learning\n",
    "                delta_w1, delta_w2 = self.eta * grad1, self.eta * grad2\n",
    "                self.w1 -= (delta_w1 + (self.alpha * delta_w1_prev))\n",
    "                self.w2 -= (delta_w2 + (self.alpha * delta_w2_prev))\n",
    "                delta_w1_prev, delta_w2_prev = delta_w1, delta_w2\n",
    "\n",
    "        return self"
   ]
  },
  {
   "cell_type": "code",
   "execution_count": 22,
   "metadata": {
    "collapsed": false,
    "slideshow": {
     "slide_type": "subslide"
    }
   },
   "outputs": [],
   "source": [
    "nn_check = MLPGradientCheck(n_output=10, \n",
    "                            n_features=X_train.shape[1], \n",
    "                            n_hidden=10, \n",
    "                            l2=0.0, \n",
    "                            l1=0.0, \n",
    "                            epochs=10, \n",
    "                            eta=0.001,\n",
    "                            alpha=0.0,\n",
    "                            decrease_const=0.0,\n",
    "                            minibatches=1, \n",
    "                            shuffle=False,\n",
    "                            random_state=1)"
   ]
  },
  {
   "cell_type": "code",
   "execution_count": 23,
   "metadata": {
    "collapsed": false,
    "slideshow": {
     "slide_type": "fragment"
    }
   },
   "outputs": [
    {
     "name": "stdout",
     "output_type": "stream",
     "text": [
      "Ok: 2.59683296507e-10\n",
      "Ok: 2.945509836e-10\n",
      "Ok: 2.42566311219e-10\n",
      "Ok: 2.2457046552e-10\n",
      "Ok: 3.37843531501e-10\n",
      "Ok: 3.6260415027e-10\n",
      "Ok: 2.22383718134e-10\n",
      "Ok: 2.33082209854e-10\n",
      "Ok: 3.33225341888e-10\n",
      "Ok: 2.13281783941e-10\n"
     ]
    }
   ],
   "source": [
    "_ = nn_check.fit(X_train[:5], y_train[:5], print_progress=False)"
   ]
  },
  {
   "cell_type": "markdown",
   "metadata": {
    "slideshow": {
     "slide_type": "slide"
    }
   },
   "source": [
    "# Convergence in neural networks\n",
    "\n",
    "Compared to gradient descent, stochastic gradient descent can\n",
    "* compute faster\n",
    "* adapt better (online learning)\n",
    "* better avoid local minimum\n",
    "\n",
    "This is especially so for complex optimization problems such as neural networks with many parameters.\n",
    " \n",
    "There are many other techniques for better train deep networks\n",
    "* dropout, etc.\n",
    "\n",
    "<img src='./images/12_14.png' width=60%> "
   ]
  },
  {
   "cell_type": "markdown",
   "metadata": {
    "slideshow": {
     "slide_type": "slide"
    }
   },
   "source": [
    "# Other neural network architectures\n",
    "\n",
    "Multi-layer perceptron (MLP) is a basic and common neural network architecture.\n",
    "* fully connected\n",
    "\n",
    "There are other more recent, popular network architectures:\n",
    "* convolutional neural networks (CNN)\n",
    "* recurrent neural networks (RNN)\n",
    "* etc. This is a very active research field. "
   ]
  },
  {
   "cell_type": "markdown",
   "metadata": {
    "slideshow": {
     "slide_type": "subslide"
    }
   },
   "source": [
    "## Convolutional Neural Networks\n",
    "\n",
    "A multi-layer neural network is like a multi-resolution image pyramid.\n",
    "\n",
    "Use weight connection to emulate convolution kernels in image processing.\n",
    "* receptive field\n",
    "\n",
    "Each node in layer $\\ell+1$ (feature map) is only connects to a small set of nodes (receptive field) in layer $\\ell$.\n",
    "* kernel weights are fixed and shared among all nodes in the same layer\n",
    "\n",
    "CNN is sparser and implicitly regularized than MLP, and thus can be deeper/wider.\n",
    "\n",
    "Very effective for image classification and related applications.\n",
    "\n",
    "<img src='./images/12_15.png' width=60%>"
   ]
  },
  {
   "cell_type": "markdown",
   "metadata": {
    "collapsed": false,
    "slideshow": {
     "slide_type": "fragment"
    }
   },
   "source": [
    "A CNN can contain a variety of layers\n",
    "* convolution\n",
    "* pooling (max, min, average followed by sub-sampling)\n",
    "* fully connected\n",
    "\n",
    "<img src='./images/12_16.png' width=80%> "
   ]
  },
  {
   "cell_type": "markdown",
   "metadata": {
    "slideshow": {
     "slide_type": "subslide"
    }
   },
   "source": [
    "## Recurrent Neural Networks\n",
    "\n",
    "MLP is feed forward only.\n",
    "\n",
    "<img src='./images/12_17.png' width=50% align=right> \n",
    "\n",
    "RNN allows feed backward through time (steps).\n",
    "* essentially MLP + time variable\n",
    "* or multiple MPL stacked together through time steps\n",
    "\n",
    "Harder to train than MLP\n",
    "* long short term memory (LSTM) can help\n",
    "\n",
    "Very effective for sequential/temporal applications\n",
    "* speech analysis and synthesis\n",
    "* languate translation\n",
    "* hand-writing synthesis\n",
    "* image/video captioning"
   ]
  },
  {
   "cell_type": "markdown",
   "metadata": {
    "slideshow": {
     "slide_type": "slide"
    }
   },
   "source": [
    "# A few last words about neural network implementation\n",
    "\n",
    "We use hand-written MLP code for didactic purpose here.\n",
    "\n",
    "Deep learning libraries exist that we can directly use.\n",
    "* e.g. Torch7, Theano, Caffe, TensorFlow, etc.\n",
    "\n",
    "https://www.quora.com/Is-TensorFlow-better-than-other-leading-libraries-such-as-Torch-Theano"
   ]
  },
  {
   "cell_type": "markdown",
   "metadata": {
    "collapsed": true,
    "slideshow": {
     "slide_type": "slide"
    }
   },
   "source": [
    "# Summary\n",
    "\n",
    "We learned the basic concepts and architecture of multi-layer neural networks.\n",
    "* forward-propagation for prediction\n",
    "* backward-propagation for training\n",
    "\n",
    "Other neural network architectures\n",
    "* convolutional neural networks (CNN)\n",
    "* recurrent neural networks (RNN)\n",
    "\n",
    "Neural network libraries"
   ]
  },
  {
   "cell_type": "markdown",
   "metadata": {
    "collapsed": true,
    "slideshow": {
     "slide_type": "slide"
    }
   },
   "source": [
    "# Reading\n",
    "\n",
    "* PML Chapter 12\n",
    "* IML Chapter 11\n",
    "* [Neural networks and deep learning](http://neuralnetworksanddeeplearning.com/)\n"
   ]
  }
 ],
 "metadata": {
  "celltoolbar": "Slideshow",
  "kernelspec": {
   "display_name": "Python [Root]",
   "language": "python",
   "name": "Python [Root]"
  },
  "language_info": {
   "codemirror_mode": {
    "name": "ipython",
    "version": 3
   },
   "file_extension": ".py",
   "mimetype": "text/x-python",
   "name": "python",
   "nbconvert_exporter": "python",
   "pygments_lexer": "ipython3",
   "version": "3.5.2"
  }
 },
 "nbformat": 4,
 "nbformat_minor": 0
}
